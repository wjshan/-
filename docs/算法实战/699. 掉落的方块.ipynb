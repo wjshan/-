{
 "cells": [
  {
   "cell_type": "markdown",
   "metadata": {},
   "source": [
    "---\n",
    "title: 699. 掉落的方块\n",
    "---\n",
    "\n",
    "# [699. 掉落的方块](https://leetcode.cn/problems/falling-squares/){:target=\"_blank\"}\n",
    "\n",
    "## 题干\n",
    "在无限长的数轴(即X轴)上,我们根据给定的顺序放置对应的正方形方块.\n",
    "第`i`个掉落的方块($positions[i]=(left, side_length)$)是正方形,其中`left 表示该方块最左边的点位置(positions[i][9]),side_length 表示该方块的边长(positions[i][1])`.\n",
    "每个方块的底部平行于数轴(即x轴),并且从一个比目前所有的落地方块更高的高度掉落而下.在上一个方块结束掉落,并保持静止后,才开始掉落新方块.\n",
    "方苦熬的底边具有非常大的粘性,并将保持固定在他们所接触的任何长度表面上(无所是数轴还是其他方块).玲姐掉落的边不活过早地粘合在一起,`因为只有底边才具有粘性`.\n",
    "返回一个堆叠高度列表`ans`.每一个堆叠高度`ans[i]`表示在通过`pisitions[0],positions[1], ... ,positions[i]`表示的方块掉落结束后,明前所有已经落稳的方块堆叠的最高高度.\n",
    "\n",
    "## 示例\n",
    "### 示例 1\n",
    "```\n",
    "输入: [[1, 2], [2, 3], [6, 1]]\n",
    "输出: [2, 5, 5]\n",
    "解释:\n",
    "\n",
    "第一个方块 positions[0] = [1, 2] 掉落：\n",
    "_aa\n",
    "_aa\n",
    "-------\n",
    "方块最大高度为 2 。\n",
    "\n",
    "第二个方块 positions[1] = [2, 3] 掉落：\n",
    "__aaa\n",
    "__aaa\n",
    "__aaa\n",
    "_aa__\n",
    "_aa__\n",
    "--------------\n",
    "方块最大高度为5。\n",
    "大的方块保持在较小的方块的顶部，不论它的重心在哪里，因为方块的底部边缘有非常大的粘性。\n",
    "\n",
    "第三个方块 positions[1] = [6, 1] 掉落：\n",
    "__aaa\n",
    "__aaa\n",
    "__aaa\n",
    "_aa\n",
    "_aa___a\n",
    "-------------- \n",
    "方块最大高度为5。\n",
    "\n",
    "因此，我们返回结果[2, 5, 5]。\n",
    "```\n",
    "\n",
    "### 示例 2\n",
    "```\n",
    "输入: [[100, 100], [200, 100]]\n",
    "输出: [100, 100]\n",
    "解释: 相邻的方块不会过早地卡住，只有它们的底部边缘才能粘在表面上。\n",
    "```"
   ]
  },
  {
   "cell_type": "markdown",
   "metadata": {},
   "source": [
    "## 题解"
   ]
  },
  {
   "cell_type": "code",
   "execution_count": 1,
   "metadata": {},
   "outputs": [],
   "source": [
    "from typing import List"
   ]
  },
  {
   "cell_type": "markdown",
   "metadata": {},
   "source": [
    "### 暴力枚举\n",
    "\n",
    "参考俄罗斯方块\n",
    "\n",
    "重点:\n",
    "- 方块一个个落下\n",
    "- 每个方块的落点不定\n",
    "- 方块的左右坐标为(positions[i][0],positions[i][0]+positions[i][1])"
   ]
  },
  {
   "cell_type": "code",
   "execution_count": 19,
   "metadata": {},
   "outputs": [],
   "source": [
    "class Solution:\n",
    "    def fallingSquares(self, positions: List[List[int]]) -> List[int]:\n",
    "        max_height = 0\n",
    "        ans = []\n",
    "        height_map = [[0,float('inf'),0]]\n",
    "        for left,height in positions:\n",
    "            right = left+height\n",
    "            out_map = [] # 不受影响的区间\n",
    "            temp_max_height = height\n",
    "            for n in range(len(height_map)):\n",
    "                x1,x2,h  = height_map[n]\n",
    "                if x1>=right or x2<=left:\n",
    "                    out_map.append(height_map[n])\n",
    "                    continue\n",
    "                else:\n",
    "                    # 可能在 left 和 right 之间存在多个块,但最终只会变成3个或更少\n",
    "                    if x1<left:\n",
    "                        out_map.append([x1,left,h])\n",
    "                    if x2>right:\n",
    "                        out_map.append([right,x2,h])\n",
    "                    temp_max_height=max([temp_max_height,height+h])\n",
    "            out_map.append([left,right,temp_max_height])\n",
    "            height_map = out_map\n",
    "            max_height = max([max_height,temp_max_height])\n",
    "            ans.append(max_height)\n",
    "        return ans"
   ]
  },
  {
   "cell_type": "code",
   "execution_count": 20,
   "metadata": {},
   "outputs": [
    {
     "name": "stdout",
     "output_type": "stream",
     "text": [
      "CPU times: user 14 µs, sys: 0 ns, total: 14 µs\n",
      "Wall time: 16 µs\n",
      "CPU times: user 10 µs, sys: 0 ns, total: 10 µs\n",
      "Wall time: 12.2 µs\n",
      "CPU times: user 6 µs, sys: 0 ns, total: 6 µs\n",
      "Wall time: 7.87 µs\n"
     ]
    }
   ],
   "source": [
    "if __name__ == \"__main__\":\n",
    "    s = Solution()\n",
    "    %time assert s.fallingSquares([[9,6],[2,2],[2,6]]) == [6,6,8]\n",
    "    %time assert s.fallingSquares([[1, 2], [2, 3], [6, 1]]) == [2,5,5]\n",
    "    %time assert s.fallingSquares([[100, 100], [200, 100]]) == [100,100]"
   ]
  }
 ],
 "metadata": {
  "interpreter": {
   "hash": "f3897d38dc41ff7c1eec30275d3ba6d8e8caf81732cedae805b00463b87ecdf6"
  },
  "kernelspec": {
   "display_name": "Python 3.10.4 ('.venv': venv)",
   "language": "python",
   "name": "python3"
  },
  "language_info": {
   "codemirror_mode": {
    "name": "ipython",
    "version": 3
   },
   "file_extension": ".py",
   "mimetype": "text/x-python",
   "name": "python",
   "nbconvert_exporter": "python",
   "pygments_lexer": "ipython3",
   "version": "3.10.4"
  },
  "orig_nbformat": 4
 },
 "nbformat": 4,
 "nbformat_minor": 2
}
