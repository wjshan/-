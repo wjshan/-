{
 "cells": [
  {
   "cell_type": "markdown",
   "metadata": {},
   "source": [
    "---\n",
    "title: 1260. 二维网格迁移\n",
    "---\n",
    "# 1260. 二维网格迁移\n",
    "## 题干\n",
    "\n",
    "给你一个`m`行`n`列的二维网格`grid`和一个整数`k`.你需要将`grid`迁移`k`次.\n",
    "\n",
    "每次[迁移]操作将会引发下述活动:\n",
    "\n",
    "- 位于`grid[i][j]`的元素将会移动到`grid[i][j+1]`.\n",
    "- 位于`grid[i][n-1]`的元素将会移动到`grid[i+1][0]`\n",
    "- 位于`grid[m-1][n-1]`的元素将会移动到`grid[0][0]`\n",
    "\n",
    "请你返回`k`次迁移操作后最终得到的**二维网络**\n",
    "\n",
    "## 示例\n",
    "\n",
    "### 示例 1\n",
    "![](/assets/images/1260.%20二维网格迁移/2022-07-20-10-05-53.png)\n",
    "\n",
    "```\n",
    "输入：grid = [[1,2,3],[4,5,6],[7,8,9]], k = 1\n",
    "输出：[[9,1,2],[3,4,5],[6,7,8]]\n",
    "```\n",
    "\n",
    "### 示例 2\n",
    "![](/assets/images/1260.%20二维网格迁移/2022-07-20-10-07-07.png)\n",
    "\n",
    "```\n",
    "输入：grid = [[3,8,1,9],[19,7,2,5],[4,6,11,10],[12,0,21,13]], k = 4\n",
    "输出：[[12,0,21,13],[3,8,1,9],[19,7,2,5],[4,6,11,10]]\n",
    "\n",
    "```\n",
    "\n",
    "### 示例 3\n",
    "```\n",
    "\n",
    "输入：grid = [[1,2,3],[4,5,6],[7,8,9]], k = 9\n",
    "输出：[[1,2,3],[4,5,6],[7,8,9]]\n",
    "```\n",
    "\n",
    "## 提示\n",
    "\n",
    "- $m == grid.length$\n",
    "- $ n== grid[i].length $\n",
    "- $ 1 \\le m \\le 50 $\n",
    "- $ 1 \\le n \\le 50 $\n",
    "- $ -1000 \\le grid[i][j] \\le 1000 $\n",
    "- $ 0\\le k \\le 100 $\n",
    "\n",
    "## 题解"
   ]
  },
  {
   "cell_type": "code",
   "execution_count": 1,
   "metadata": {},
   "outputs": [],
   "source": [
    "from typing import List"
   ]
  },
  {
   "cell_type": "markdown",
   "metadata": {},
   "source": [
    "### 顺序迁移\n",
    "\n",
    "通过向右迁移的顺序对模拟每一次的操作顺序将矩阵进行转换\n",
    "\n",
    "**时间复杂度**: $ O(k*m*n) $ 执行`k`次循环,每次循环中需要对`m*n`个数据完成迁移\n",
    "\n",
    "**空间复杂度**: $ O(1) $ 原地操作\n",
    "\n",
    "![](/assets/images/1260.%20二维网格迁移/2022-07-20-11-16-56.png)"
   ]
  },
  {
   "cell_type": "code",
   "execution_count": 5,
   "metadata": {},
   "outputs": [],
   "source": [
    "class Solution:\n",
    "    def shiftGrid(self, grid: List[List[int]], k: int) -> List[List[int]]:\n",
    "        m = len(grid)\n",
    "        n = len(grid[0])\n",
    "        for _ in range(k):\n",
    "            last_value = 0\n",
    "            for i in range(m):\n",
    "                for j in range(n):\n",
    "                    grid[i][j],last_value = last_value,grid[i][j]\n",
    "            grid[0][0] = last_value\n",
    "        return grid\n",
    "        "
   ]
  },
  {
   "cell_type": "markdown",
   "metadata": {},
   "source": [
    "### 通过坐标映射完成迁移\n",
    "\n",
    "每个坐标位置在进行换算之后都将被映射到一个固定的位置上\n",
    "\n",
    "1. 当迁移次数`k`等于`m*n`时,相当于回归原位\n",
    "2. $j_2 = (j+k)//n$\n",
    "3. $i_2 = (i+k)//m$\n",
    "\n",
    "因此我们可以得出一个坐标转换的公式即$\\begin{cases} i = ((j+k) // n +i ) \\mod m \\\\ j=(j+k) \\mod n \\end{cases}$\n",
    "\n",
    "**时间复杂度**: $O(m*n)$ 需要对原矩阵中的每一个元素进行一次坐标迁移\n",
    "\n",
    "**空间复杂度**: $O(m*n)$ 需要一个新的矩阵用来存放迁移后数据\n",
    "\n",
    "![](/assets/images/1260.%20二维网格迁移/2022-07-20-11-16-25.png)"
   ]
  },
  {
   "cell_type": "code",
   "execution_count": 7,
   "metadata": {},
   "outputs": [],
   "source": [
    "class Solution:\n",
    "    def shiftGrid(self, grid: List[List[int]], k: int) -> List[List[int]]:\n",
    "        m = len(grid)\n",
    "        n = len(grid[0])\n",
    "        ans = [[0]*n for _ in range(m)]\n",
    "        for i in range(m):\n",
    "            for j in range(n):\n",
    "                j2 = (j+k) % n\n",
    "                i2 = ((j+k)//n +i) % m\n",
    "                ans[i2][j2] = grid[i][j]\n",
    "        return ans"
   ]
  },
  {
   "cell_type": "code",
   "execution_count": 8,
   "metadata": {},
   "outputs": [
    {
     "name": "stdout",
     "output_type": "stream",
     "text": [
      "CPU times: user 10 µs, sys: 0 ns, total: 10 µs\n",
      "Wall time: 13.1 µs\n",
      "CPU times: user 12 µs, sys: 1 µs, total: 13 µs\n",
      "Wall time: 15 µs\n",
      "CPU times: user 7 µs, sys: 0 ns, total: 7 µs\n",
      "Wall time: 9.06 µs\n"
     ]
    }
   ],
   "source": [
    "if __name__ == \"__main__\":\n",
    "    s = Solution()\n",
    "    %time assert s.shiftGrid([[1,2,3],[4,5,6],[7,8,9]],1) == [[9,1,2],[3,4,5],[6,7,8]] # 示例1\n",
    "    %time assert s.shiftGrid([[3,8,1,9],[19,7,2,5],[4,6,11,10],[12,0,21,13]],4) == [[12,0,21,13],[3,8,1,9],[19,7,2,5],[4,6,11,10]] # 示例2\n",
    "    %time assert s.shiftGrid([[1,2,3],[4,5,6],[7,8,9]],9) == [[1,2,3],[4,5,6],[7,8,9]] # 示例2\n",
    "    "
   ]
  }
 ],
 "metadata": {
  "interpreter": {
   "hash": "f3897d38dc41ff7c1eec30275d3ba6d8e8caf81732cedae805b00463b87ecdf6"
  },
  "kernelspec": {
   "display_name": "Python 3.10.4 ('.venv': venv)",
   "language": "python",
   "name": "python3"
  },
  "language_info": {
   "codemirror_mode": {
    "name": "ipython",
    "version": 3
   },
   "file_extension": ".py",
   "mimetype": "text/x-python",
   "name": "python",
   "nbconvert_exporter": "python",
   "pygments_lexer": "ipython3",
   "version": "3.10.4"
  },
  "orig_nbformat": 4
 },
 "nbformat": 4,
 "nbformat_minor": 2
}
