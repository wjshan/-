{
 "cells": [
  {
   "cell_type": "markdown",
   "metadata": {},
   "source": [
    "---\n",
    "title: 剑指 Offer II 114. 外星文字典\n",
    "---\n",
    "\n",
    "# [剑指 Offer II 114. 外星文字典](https://leetcode.cn/problems/Jf1JuT/){:target:\"_blank\"}\n",
    "## 题干\n",
    "现有一种使用英语字母的外星文语言,这门语言的字母顺序与英语顺序不同.\n",
    "\n",
    "给定一个字符串列表`words`,作为这门语言的词典,`words`中的字符串已经**按这门新的语言的字母顺序进行了排序**.\n",
    "\n",
    "请你根据该词典还原出次语言中一直的字母顺序,并**按字母递增顺序**排列,若不存在合法字母顺序,返回`\"\"`.若存在多种可能的合法字母顺序,返回其中**任意一种**顺序即可.\n",
    "\n",
    "字符串`s`**字典顺序小于**字符串`t`有两种情况:\n",
    "- 在第一个不同字母处,如果`s`中的祖母在这门外星语言的字母顺序中位于`t`中字母之前,那么`s`的字典顺序小于`t`.\n",
    "- 如果前面`min(s.length,t.length)`字母都相同,那么`s.length<s.length`时,`s`的字典顺序也小于`t`.\n",
    "\n",
    "## 示例\n",
    "### 示例 1\n",
    "```\n",
    "输入：words = [\"wrt\",\"wrf\",\"er\",\"ett\",\"rftt\"]\n",
    "输出：\"wertf\"\n",
    "```\n",
    "### 示例 2\n",
    "```\n",
    "输入：words = [\"z\",\"x\"]\n",
    "输出：\"zx\"\n",
    "```\n",
    "### 示例 3\n",
    "```\n",
    "输入：words = [\"z\",\"x\",\"z\"]\n",
    "输出：\"\"\n",
    "解释：不存在合法字母顺序，因此返回 \"\" 。\n",
    "```\n",
    "## 提示\n",
    "- $1 <= words.length <= 100$\n",
    "- $1 <= words[i].length <= 100$\n",
    "- `words[i]`仅由小写英文字母组成"
   ]
  },
  {
   "cell_type": "markdown",
   "metadata": {},
   "source": [
    "## 题解"
   ]
  },
  {
   "cell_type": "code",
   "execution_count": 1,
   "metadata": {},
   "outputs": [],
   "source": [
    "from typing import List\n",
    "from itertools import pairwise"
   ]
  },
  {
   "cell_type": "markdown",
   "metadata": {},
   "source": [
    "### 拓扑排序\n",
    "- 从`words`中每个单词的第一个字母可以明确排序\n",
    "- 如果前部分相同,下一个字母的顺序也可以明确\n",
    "\n",
    "不知道是不是我的理解有问题,感觉测试用例的答案不对.或者答案是要返回所有的字母,除了产生冲突的返回空串之外."
   ]
  },
  {
   "cell_type": "code",
   "execution_count": 9,
   "metadata": {},
   "outputs": [],
   "source": [
    "class Solution:\n",
    "    def alienOrder(self, words: List[str]) -> str:\n",
    "        res = {}\n",
    "        for c in words[0]:\n",
    "            res[c] = []\n",
    "        for w1,w2 in pairwise(words):\n",
    "            for w in w2:\n",
    "                res.setdefault(w,[])\n",
    "            for c1,c2 in zip(w1,w2):\n",
    "                if c1 not in res:\n",
    "                    res[c1] = []\n",
    "                if c1!=c2:\n",
    "                    res[c1].append(c2)\n",
    "                    break\n",
    "            else:\n",
    "                if len(w1)>len(w2):\n",
    "                    return \"\"\n",
    "        # 成环检测\n",
    "        visited = {}\n",
    "        def check_circle(var):\n",
    "            if visited.get(var): # 当前节点已经访问过啦\n",
    "                return True\n",
    "            visited[var]=True\n",
    "            for v in res.get(var,[]):\n",
    "                if check_circle(v):\n",
    "                    return True\n",
    "            visited[var] = False\n",
    "            return False\n",
    "        for c in res:\n",
    "            if c in visited:\n",
    "                continue\n",
    "            if check_circle(c):\n",
    "                return \"\"\n",
    "        # 深度优先搜索\n",
    "        ans = []\n",
    "        visited = {}\n",
    "        def bfs(v):\n",
    "            if v in visited:\n",
    "                return\n",
    "            visited[v]=True\n",
    "            for c in res.get(v,[]):\n",
    "                bfs(c)\n",
    "            ans.append(v)\n",
    "        for c in res:\n",
    "            if c in visited:\n",
    "                continue\n",
    "            bfs(c)\n",
    "        return ''.join(ans[::-1])"
   ]
  },
  {
   "cell_type": "code",
   "execution_count": 10,
   "metadata": {},
   "outputs": [
    {
     "name": "stdout",
     "output_type": "stream",
     "text": [
      "['d', 'g', 's', 'b', 'q', 'i', 'w', 'p', 'x', 'l', 'v', 'c']\n"
     ]
    },
    {
     "ename": "AssertionError",
     "evalue": "",
     "output_type": "error",
     "traceback": [
      "\u001b[0;31m---------------------------------------------------------------------------\u001b[0m",
      "\u001b[0;31mAssertionError\u001b[0m                            Traceback (most recent call last)",
      "File \u001b[0;32m<timed exec>:1\u001b[0m, in \u001b[0;36m<module>\u001b[0;34m\u001b[0m\n",
      "\u001b[0;31mAssertionError\u001b[0m: "
     ]
    },
    {
     "name": "stdout",
     "output_type": "stream",
     "text": [
      "CPU times: user 13 µs, sys: 1 µs, total: 14 µs\n",
      "Wall time: 15 µs\n",
      "['c', 'a', 'b']\n"
     ]
    },
    {
     "ename": "AssertionError",
     "evalue": "",
     "output_type": "error",
     "traceback": [
      "\u001b[0;31m---------------------------------------------------------------------------\u001b[0m",
      "\u001b[0;31mAssertionError\u001b[0m                            Traceback (most recent call last)",
      "File \u001b[0;32m<timed exec>:1\u001b[0m, in \u001b[0;36m<module>\u001b[0;34m\u001b[0m\n",
      "\u001b[0;31mAssertionError\u001b[0m: "
     ]
    },
    {
     "name": "stdout",
     "output_type": "stream",
     "text": [
      "['c', 'b', 'a', 'z']\n"
     ]
    },
    {
     "ename": "AssertionError",
     "evalue": "",
     "output_type": "error",
     "traceback": [
      "\u001b[0;31m---------------------------------------------------------------------------\u001b[0m",
      "\u001b[0;31mAssertionError\u001b[0m                            Traceback (most recent call last)",
      "File \u001b[0;32m<timed exec>:1\u001b[0m, in \u001b[0;36m<module>\u001b[0;34m\u001b[0m\n",
      "\u001b[0;31mAssertionError\u001b[0m: "
     ]
    },
    {
     "name": "stdout",
     "output_type": "stream",
     "text": [
      "['z']\n",
      "CPU times: user 47 µs, sys: 3 µs, total: 50 µs\n",
      "Wall time: 52 µs\n",
      "['w', 'e', 'r', 't', 'f']\n",
      "CPU times: user 43 µs, sys: 1 µs, total: 44 µs\n",
      "Wall time: 45.1 µs\n",
      "['z', 'x']\n",
      "CPU times: user 24 µs, sys: 0 ns, total: 24 µs\n",
      "Wall time: 26 µs\n",
      "CPU times: user 13 µs, sys: 0 ns, total: 13 µs\n",
      "Wall time: 16 µs\n"
     ]
    }
   ],
   "source": [
    "if __name__ == \"__main__\":\n",
    "    s = Solution()\n",
    "    %time assert s.alienOrder([\"vlxpwiqbsg\",\"cpwqwqcd\"]) == \"bdgilpqsvcwx\"\n",
    "    %time assert s.alienOrder([\"abc\",\"ab\"]) == \"\"\n",
    "    %time assert s.alienOrder([\"ac\",\"ab\",\"b\"]) == \"acb\"\n",
    "    %time assert s.alienOrder([\"ac\",\"ab\",\"zc\",\"zb\"]) == \"acbz\"\n",
    "    %time assert s.alienOrder([\"z\",\"z\"]) == \"z\"\n",
    "    %time assert s.alienOrder([\"wrt\",\"wrf\",\"er\",\"ett\",\"rftt\"]) == \"wertf\"\n",
    "    %time assert s.alienOrder([\"z\",\"x\"]) == \"zx\"\n",
    "    %time assert s.alienOrder([\"z\",\"x\",\"z\"]) == \"\""
   ]
  }
 ],
 "metadata": {
  "interpreter": {
   "hash": "f3897d38dc41ff7c1eec30275d3ba6d8e8caf81732cedae805b00463b87ecdf6"
  },
  "kernelspec": {
   "display_name": "Python 3.10.4 ('.venv': venv)",
   "language": "python",
   "name": "python3"
  },
  "language_info": {
   "codemirror_mode": {
    "name": "ipython",
    "version": 3
   },
   "file_extension": ".py",
   "mimetype": "text/x-python",
   "name": "python",
   "nbconvert_exporter": "python",
   "pygments_lexer": "ipython3",
   "version": "3.10.4"
  },
  "orig_nbformat": 4
 },
 "nbformat": 4,
 "nbformat_minor": 2
}
