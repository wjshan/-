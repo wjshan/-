{
 "cells": [
  {
   "cell_type": "markdown",
   "metadata": {},
   "source": [
    "---\n",
    "title: 946. 验证栈序列\n",
    "---\n",
    "\n",
    "# [946. 验证栈序列](https://leetcode.cn/problems/validate-stack-sequences/){:target=\"_blank\"}\n",
    "\n",
    "## 题干\n",
    "给定`pushed`和`popped`两个序列,每个序列中的**值都不重复**,只有当它们可能是在最初空栈上进行的推入push和弹出pop操作序列的结果时,返回`true`;否则,返回`false`.\n",
    "\n",
    "## 示例\n",
    "\n",
    "### 示例 1\n",
    "\n",
    "```\n",
    "输入：pushed = [1,2,3,4,5], popped = [4,5,3,2,1]\n",
    "输出：true\n",
    "解释：我们可以按以下顺序执行：\n",
    "push(1), push(2), push(3), push(4), pop() -> 4,\n",
    "push(5), pop() -> 5, pop() -> 3, pop() -> 2, pop() -> 1\n",
    "\n",
    "```\n",
    "\n",
    "### 示例 2\n",
    "\n",
    "```\n",
    "输入：pushed = [1,2,3,4,5], popped = [4,3,5,1,2]\n",
    "输出：false\n",
    "解释：1 不能在 2 之前弹出。\n",
    "```\n",
    "\n",
    "## 提示\n",
    "\n",
    "- $1 \\le pushed.length \\le 1000$\n",
    "- $0 \\le pushed[i] \\le 1000$\n",
    "- `pushed`的所有元素**互不相同**\n",
    "- $popped.length == pushed.length$\n",
    "- `popped`是`pushed`的一个排列\n",
    "\n",
    "## 题解\n"
   ]
  },
  {
   "cell_type": "code",
   "execution_count": 2,
   "metadata": {},
   "outputs": [],
   "source": [
    "from typing import List"
   ]
  },
  {
   "cell_type": "markdown",
   "metadata": {},
   "source": [
    "### 双指针模拟\n",
    "\n",
    "1. 设置两个指针`i`,`j`和一个模拟栈`stack`\n",
    "2. 当`stack`为空 或 栈底与`popped[j]`不同时,入栈,并且`i++`\n",
    "3. 当`stack[-1]`与`popped[j]`相同时,出栈,且`j++`\n",
    "4. 当`i == pushed.length`时结束循环\n",
    "\n",
    "第一次循环完成后,此时如果栈`stack`中还有数据,那么我们循环出栈操作,并`j++`,并且当出栈数据与`popped[j]`不同,或者栈为空时结束出栈的循环\n",
    "\n",
    "此时 如果`j==popped.length`则数据通过校验,反之则不通过校验\n",
    "\n",
    "**时间复杂度**: $O(2*pushed.length)$,记为$O(n)$\n",
    "\n",
    "**空间复杂度**: $O(pushed.length)$,记为$O(n)$,需要一个额外的数组充当栈\n",
    "\n",
    "\n",
    "![](/assets/images/946.%20验证栈序列/2022-08-31-17-06-47.png)"
   ]
  },
  {
   "cell_type": "code",
   "execution_count": 19,
   "metadata": {},
   "outputs": [],
   "source": [
    "class Solution:\n",
    "    def validateStackSequences(self, pushed: List[int], popped: List[int]) -> bool:\n",
    "        i = j = 0\n",
    "        stack = []\n",
    "        while i<len(pushed):\n",
    "            if stack and stack[-1] == popped[j]:\n",
    "                stack.pop()\n",
    "                j+=1\n",
    "            else:\n",
    "                stack.append(pushed[i])\n",
    "                i+=1\n",
    "        while j<len(popped):\n",
    "            if stack[-1] == popped[j]:\n",
    "                stack.pop()\n",
    "            else:\n",
    "                break\n",
    "            j+=1\n",
    "        return j == len(popped)\n",
    "            "
   ]
  },
  {
   "cell_type": "code",
   "execution_count": 20,
   "metadata": {},
   "outputs": [],
   "source": [
    "if __name__ == \"__main__\":\n",
    "    s = Solution()\n",
    "    assert s.validateStackSequences([1,0],[1,0]) is True\n",
    "    assert s.validateStackSequences([1,2,3,4,5],[4,5,3,2,1]) is True\n",
    "    assert s.validateStackSequences([1,2,3,4,5],[4,3,5,1,2]) is False\n",
    "    "
   ]
  }
 ],
 "metadata": {
  "kernelspec": {
   "display_name": "Python 3.10.4 ('.venv': venv)",
   "language": "python",
   "name": "python3"
  },
  "language_info": {
   "codemirror_mode": {
    "name": "ipython",
    "version": 3
   },
   "file_extension": ".py",
   "mimetype": "text/x-python",
   "name": "python",
   "nbconvert_exporter": "python",
   "pygments_lexer": "ipython3",
   "version": "3.10.4"
  },
  "orig_nbformat": 4,
  "vscode": {
   "interpreter": {
    "hash": "f3897d38dc41ff7c1eec30275d3ba6d8e8caf81732cedae805b00463b87ecdf6"
   }
  }
 },
 "nbformat": 4,
 "nbformat_minor": 2
}
