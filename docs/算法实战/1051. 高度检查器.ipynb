{
 "cells": [
  {
   "cell_type": "markdown",
   "metadata": {},
   "source": [
    "---\n",
    "title: 1051. 高度检查器\n",
    "---\n",
    "# [1051. 高度检查器](https://leetcode.cn/problems/height-checker/){:target=\"_blank\"}\n",
    "## 题干\n",
    "学校打算为全体学生拍一张年度纪念照.根据要求,学生需要按照**非递减**的高度顺序排成一行.\n",
    "\n",
    "排序后的高度情况用整数数组`expected`表示,其中`expected[i]`是语句排在折哟航哄第`i`位学生的高度**(下标从0开始)**\n",
    "\n",
    "返回满足`heights[i] != expected[i]的**下标数量**\n",
    "\n",
    "## 示例\n",
    "### 示例 1\n",
    "```\n",
    "输入：heights = [1,1,4,2,1,3]\n",
    "输出：3 \n",
    "解释：\n",
    "高度：[1,1,4,2,1,3]\n",
    "预期：[1,1,1,2,3,4]\n",
    "下标 2 、4 、5 处的学生高度不匹配。\n",
    "```\n",
    "\n",
    "### 示例 2\n",
    "```\n",
    "输入：heights = [5,1,2,3,4]\n",
    "输出：5\n",
    "解释：\n",
    "高度：[5,1,2,3,4]\n",
    "预期：[1,2,3,4,5]\n",
    "所有下标的对应学生高度都不匹配。\n",
    "```\n",
    "\n",
    "### 示例 3\n",
    "```\n",
    "输入：heights = [1,2,3,4,5]\n",
    "输出：0\n",
    "解释：\n",
    "高度：[1,2,3,4,5]\n",
    "预期：[1,2,3,4,5]\n",
    "所有下标的对应学生高度都匹配。\n",
    "```\n",
    "\n",
    "## 提示\n",
    "\n",
    "- $1 \\le heights.length\\le 100$\n",
    "- $1 \\le heights[i]\\le 100$"
   ]
  },
  {
   "cell_type": "markdown",
   "metadata": {},
   "source": [
    "## 题解"
   ]
  },
  {
   "cell_type": "code",
   "execution_count": 1,
   "metadata": {},
   "outputs": [],
   "source": [
    "from typing import List"
   ]
  },
  {
   "cell_type": "markdown",
   "metadata": {},
   "source": [
    "### 比较排序\n",
    "先将高度升序排序,然后再按位对比\n",
    "\n",
    "*时间复杂度*: 排序$O(n\\log{n})$,按位对比$O(n)$.因此时间复杂度为$O(n)$\n",
    "\n",
    "*空间复杂度*: 需要生成中间结果`expected`.因此空间复杂度为$O(n)$"
   ]
  },
  {
   "cell_type": "code",
   "execution_count": 5,
   "metadata": {},
   "outputs": [],
   "source": [
    "class Solution:\n",
    "    def heightChecker(self, heights: List[int]) -> int:\n",
    "        expected = sorted(heights)\n",
    "        ans = 0\n",
    "        for x,y in zip(heights,expected):\n",
    "            if x!=y:\n",
    "                ans+=1\n",
    "        return ans"
   ]
  },
  {
   "cell_type": "markdown",
   "metadata": {},
   "source": [
    "### 计数排序\n",
    "由于题目的限制可以得知,最大高度为100,最小值为1,且为整数.因此可以理解为在有限元的情况下,对`heights`进行排序.\n",
    "\n",
    "对于此类情况,桶排序也是一个很好的选择,桶排序的时间复杂度可以压缩值$O(n)$.\n",
    "\n",
    "*时间复杂度*: 排序$O(n)$,比较$O(n)$.最终为$O(2n)$,记为$O(n)$.\n",
    "*空间复杂度*: 需要消耗额外空间O(100).这是一个常数级消耗,必然不会小于比较排序的消耗.\n",
    "\n",
    "我们也可以使用`heights`中的最大值来初始化桶,优化其空间复杂度.但取最大值的操作需要额外消耗$O(n)$的时间"
   ]
  },
  {
   "cell_type": "code",
   "execution_count": 4,
   "metadata": {},
   "outputs": [],
   "source": [
    "class Solution:\n",
    "    def heightChecker(self, heights: List[int]) -> int:\n",
    "        C = max(heights)\n",
    "        bucket = [0]*(C+1)\n",
    "        for h in heights:\n",
    "            bucket[h]+=1\n",
    "        idx = 0\n",
    "        ans = 0\n",
    "        for h,i in enumerate(bucket):\n",
    "            for j in range(i):\n",
    "                if h != heights[idx]:\n",
    "                    ans +=1\n",
    "                idx+=1\n",
    "        return ans"
   ]
  },
  {
   "cell_type": "code",
   "execution_count": 5,
   "metadata": {},
   "outputs": [
    {
     "name": "stdout",
     "output_type": "stream",
     "text": [
      "CPU times: user 71 µs, sys: 0 ns, total: 71 µs\n",
      "Wall time: 74.9 µs\n",
      "CPU times: user 17 µs, sys: 0 ns, total: 17 µs\n",
      "Wall time: 20 µs\n",
      "CPU times: user 14 µs, sys: 0 ns, total: 14 µs\n",
      "Wall time: 18.1 µs\n",
      "CPU times: user 13 µs, sys: 1e+03 ns, total: 14 µs\n",
      "Wall time: 16.9 µs\n"
     ]
    }
   ],
   "source": [
    "if __name__ == \"__main__\":\n",
    "    s = Solution()\n",
    "    %time assert s.heightChecker([1,1,4,2,1,3]) == 3\n",
    "    %time assert s.heightChecker([1,1,4,2,1,3]) == 3\n",
    "    %time assert s.heightChecker([5,1,2,3,4]) == 5\n",
    "    %time assert s.heightChecker([1,2,3,4,5]) == 0"
   ]
  }
 ],
 "metadata": {
  "interpreter": {
   "hash": "f3897d38dc41ff7c1eec30275d3ba6d8e8caf81732cedae805b00463b87ecdf6"
  },
  "kernelspec": {
   "display_name": "Python 3.10.4 ('.venv': venv)",
   "language": "python",
   "name": "python3"
  },
  "language_info": {
   "codemirror_mode": {
    "name": "ipython",
    "version": 3
   },
   "file_extension": ".py",
   "mimetype": "text/x-python",
   "name": "python",
   "nbconvert_exporter": "python",
   "pygments_lexer": "ipython3",
   "version": "3.10.4"
  },
  "orig_nbformat": 4
 },
 "nbformat": 4,
 "nbformat_minor": 2
}
