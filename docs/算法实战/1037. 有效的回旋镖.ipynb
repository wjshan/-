{
 "cells": [
  {
   "cell_type": "markdown",
   "metadata": {},
   "source": [
    "---\n",
    "title: 1037. 有效的回旋镖\n",
    "---\n",
    "\n",
    "# [1037. 有效的回旋镖](https://leetcode.cn/problems/valid-boomerang/){:target=\"_blank\"}\n",
    "## 题干\n",
    "给定一个数组`points`,其中$points[i] = [x_i, y_i]$表示**X-Y**平面上的一个点,如果这些点构成一个**回旋镖**则返回`true`.\n",
    "\n",
    "**回旋镖**定义为一组三个点,这些点各不相同且**不在一条直线上**.\n",
    "## 示例\n",
    "### 示例 1\n",
    "```\n",
    "输入：points = [[1,1],[2,3],[3,2]]\n",
    "输出：true\n",
    "```\n",
    "### 示例 2\n",
    "```\n",
    "输入：points = [[1,1],[2,2],[3,3]]\n",
    "输出：false\n",
    "```\n",
    "## 提示\n",
    "- `points.length == 3`\n",
    "- `pongts[i].length == 2`\n",
    "- $0 \\le x_i,y_i\\le 100$\n"
   ]
  },
  {
   "cell_type": "markdown",
   "metadata": {},
   "source": [
    "## 题解"
   ]
  },
  {
   "cell_type": "code",
   "execution_count": 1,
   "metadata": {},
   "outputs": [],
   "source": [
    "from typing import List"
   ]
  },
  {
   "cell_type": "markdown",
   "metadata": {},
   "source": [
    "### 判断同线\n",
    "根据**回旋镖**的定义,可以确定一下两个指标:\n",
    "1. 每个坐标点两两不相同\n",
    "2. 不在同一条直线上.不能只判断斜率,相同斜率可能存在平行的情况."
   ]
  },
  {
   "cell_type": "code",
   "execution_count": 11,
   "metadata": {},
   "outputs": [],
   "source": [
    "class Solution:\n",
    "    def isBoomerang(self, points: List[List[int]]) -> bool:\n",
    "        (x1,y1),(x2,y2),(x3,y3) = points\n",
    "        # 将左边系原点移动至x1,y1\n",
    "        b = x2-x1,y2-y1\n",
    "        c = x3-x1,y3-y1\n",
    "        # 判断从零点(0,0)出发,b,c是否同线\n",
    "        if b == (0,0) or c==(0,0): # 判断b,c是否与原点重合\n",
    "            return False\n",
    "        if b[0]==c[0]==0: # 判断b,c是否都落在Y轴上\n",
    "            return False\n",
    "        if (b[1]/b[0] if b[0] else float(\"inf\")) == (c[1]/c[0] if c[0] else float(\"inf\")): # 判断b,c斜率是否相同 ,相同则同线\n",
    "            return False\n",
    "        return True\n",
    "        \n",
    "\n",
    "        "
   ]
  },
  {
   "cell_type": "code",
   "execution_count": 12,
   "metadata": {},
   "outputs": [
    {
     "name": "stdout",
     "output_type": "stream",
     "text": [
      "CPU times: user 6 µs, sys: 2 µs, total: 8 µs\n",
      "Wall time: 10 µs\n",
      "CPU times: user 6 µs, sys: 0 ns, total: 6 µs\n",
      "Wall time: 7.39 µs\n",
      "CPU times: user 3 µs, sys: 0 ns, total: 3 µs\n",
      "Wall time: 5.01 µs\n",
      "CPU times: user 2 µs, sys: 1 µs, total: 3 µs\n",
      "Wall time: 4.05 µs\n"
     ]
    }
   ],
   "source": [
    "if __name__ == \"__main__\":\n",
    "    s = Solution()\n",
    "    %time assert s.isBoomerang([[0,1],[2,2],[2,0]]) is True\n",
    "    %time assert s.isBoomerang([[0,0],[0,2],[2,1]]) is True\n",
    "    %time assert s.isBoomerang([[1,1],[2,3],[3,2]]) is True\n",
    "    %time assert s.isBoomerang([[1,1],[2,2],[3,3]]) is False"
   ]
  }
 ],
 "metadata": {
  "interpreter": {
   "hash": "f3897d38dc41ff7c1eec30275d3ba6d8e8caf81732cedae805b00463b87ecdf6"
  },
  "kernelspec": {
   "display_name": "Python 3.10.4 ('.venv': venv)",
   "language": "python",
   "name": "python3"
  },
  "language_info": {
   "codemirror_mode": {
    "name": "ipython",
    "version": 3
   },
   "file_extension": ".py",
   "mimetype": "text/x-python",
   "name": "python",
   "nbconvert_exporter": "python",
   "pygments_lexer": "ipython3",
   "version": "3.10.4"
  },
  "orig_nbformat": 4
 },
 "nbformat": 4,
 "nbformat_minor": 2
}
