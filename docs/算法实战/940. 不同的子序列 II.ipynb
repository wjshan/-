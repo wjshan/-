{
 "cells": [
  {
   "cell_type": "markdown",
   "metadata": {},
   "source": [
    "---\n",
    "title: 940. 不同的子序列 II\n",
    "---\n",
    "# [940. 不同的子序列 II](https://leetcode.cn/problems/distinct-subsequences-ii/){:target=\"_blank\"}\n",
    "\n",
    "## 题解\n",
    "给定一个字符串`s`,计算`s`的不同非空子序列的个数.因为结果可能很大,所以对返回答案需要对`10^9+7`取余.\n",
    "\n",
    "字符串的`子序列`是经由源字符串删除一些(也可能不删除)字符单不改变剩余字符相对位置的一个新字符串.\n",
    "\n",
    "- 例如,`\"ace\"`是`\"abcde\"`的一个子序列,但`\"aec\"`不是.\n",
    "  \n",
    "## 示例\n",
    "\n",
    "### 示例 1\n",
    "```\n",
    "输入：s = \"abc\"\n",
    "输出：7\n",
    "解释：7 个不同的子序列分别是 \"a\", \"b\", \"c\", \"ab\", \"ac\", \"bc\", 以及 \"abc\"。\n",
    "```\n",
    "### 示例 2\n",
    "```\n",
    "输入：s = \"aba\"\n",
    "输出：6\n",
    "解释：6 个不同的子序列分别是 \"a\", \"b\", \"ab\", \"ba\", \"aa\" 以及 \"aba\"。\n",
    "```\n",
    "### 示例 3\n",
    "```\n",
    "输入：s = \"aaa\"\n",
    "输出：3\n",
    "解释：3 个不同的子序列分别是 \"a\", \"aa\" 以及 \"aaa\"。\n",
    "```\n",
    "## 提示\n",
    "\n",
    "- `1<=s.length<=2000`\n",
    "- `s`仅由小写英文字母组成"
   ]
  },
  {
   "cell_type": "markdown",
   "metadata": {},
   "source": [
    "## 题解"
   ]
  },
  {
   "cell_type": "markdown",
   "metadata": {},
   "source": [
    "### 动态规划\n",
    "重点需要注意以下几点:\n",
    "\n",
    "1. 所有子序列需要去重\n",
    "2. 结果对`10^9+7`取余,如果是累加计算的话,当`ans=10^9+7`时,令`ans=0`\n",
    "\n",
    "根据排列组合的原理,我们可以得知,当字符的长度为`n`时,其排列数一共有$2^n$种,其中包含一个*空字符串*.\n",
    "\n",
    "因此我们的基础递推公式为 $f(n)=\\begin{cases}\n",
    "    2*f(n-1) & n>0 \\\\\n",
    "    2 & n=0\n",
    "\\end{cases}$\n",
    "\n",
    "随着`n`的增加,结果呈指数级倍增,如果我们设定一个备忘录来记录所有的结果集并以此完成去重,那么其空间复杂度为$O(2^n)$.因此我们需要在计算结果时就将重复的情况去除,这我们需要找到哪些情况会导致重复.\n",
    "\n",
    "让我们假定一个字符串为$\\underbrace{\\overbrace{\\dotsb a}^{k_1} \\dotsb a}_{k_2}\\dotsb$,从这个字符串中可以看出,当第二次出现相同字符时,$k_2$完全重复了一次$k_1$.下面是具体的示例,假设字符为`\"abcaa\"`:\n",
    "\n",
    "1. f(0) = [\"\",\"a\"] = 2\n",
    "2. f(1) = [\"b\",\"ab\",\"\",\"a\"] = 4\n",
    "3. f(2) = [\"bc\",\"abc\",\"c\",\"ac\",\"b\",\"ab\",\"\",\"a\"] = 8 \n",
    "   > 从这里看出,每增加一个字符,即是在原字符组合的基础上末尾增加一个字符,并重复一次原组合\n",
    "4. f(3) = [\"bca\",\"abca\",\"ca\",\"aca\",\"ba\",\"aba\",`\"a\"`,\"aa\",\"bc\",\"abc\",\"c\",\"ac\",\"b\",\"ab\",\"\",`\"a\"`] = 15\n",
    "   > 这里的a被重复了一次,因此我们需要把他去除\n",
    "5. f(4) = [\"bcaa\",\"abcaa\",\"caa\",\"acaa\",\"baa\",\"abaa\",\"aa\",\"aaa\",\"bca\",\"abca\",\"ca\",\"aca\",\"ba\",\"aba\",\"a\",`\"bca\"`,`\"abca\"`,`\"ca\"`,`\"aca\"`,`\"ba\"`,`\"aba\"`,`\"a\"`,`\"aa\"`,\"bc\",\"abc\",\"c\",\"ac\",\"b\",\"ab\",\"\"] = 22\n",
    "   > 这里把f(3)中额外在末尾添加`\"a\"`的组合都重复了一次,因此我们需要减去f(2)"
   ]
  },
  {
   "cell_type": "code",
   "execution_count": 1,
   "metadata": {},
   "outputs": [],
   "source": [
    "class Solution:\n",
    "    def distinctSubseqII(self, s: str) -> int:\n",
    "        dp = [1]\n",
    "        last_index = {}\n",
    "        for i, c in enumerate(s):\n",
    "            dp.append(dp[-1]*2)\n",
    "            if c in last_index:\n",
    "                dp[-1]-=dp[last_index[c]]\n",
    "            last_index[c] = i\n",
    "        \n",
    "        return (dp[-1]-1)%(10**9+7)"
   ]
  },
  {
   "cell_type": "code",
   "execution_count": 2,
   "metadata": {},
   "outputs": [
    {
     "name": "stdout",
     "output_type": "stream",
     "text": [
      "CPU times: user 7 µs, sys: 0 ns, total: 7 µs\n",
      "Wall time: 11 µs\n",
      "CPU times: user 7 µs, sys: 0 ns, total: 7 µs\n",
      "Wall time: 7.87 µs\n",
      "CPU times: user 4 µs, sys: 0 ns, total: 4 µs\n",
      "Wall time: 5.01 µs\n"
     ]
    }
   ],
   "source": [
    "if __name__ == \"__main__\":\n",
    "    s = Solution()\n",
    "    %time assert s.distinctSubseqII(\"abc\") == 7\n",
    "    %time assert s.distinctSubseqII(\"aba\") == 6\n",
    "    %time assert s.distinctSubseqII(\"aaa\") == 3"
   ]
  }
 ],
 "metadata": {
  "interpreter": {
   "hash": "f3897d38dc41ff7c1eec30275d3ba6d8e8caf81732cedae805b00463b87ecdf6"
  },
  "kernelspec": {
   "display_name": "Python 3.10.4 ('.venv': venv)",
   "language": "python",
   "name": "python3"
  },
  "language_info": {
   "codemirror_mode": {
    "name": "ipython",
    "version": 3
   },
   "file_extension": ".py",
   "mimetype": "text/x-python",
   "name": "python",
   "nbconvert_exporter": "python",
   "pygments_lexer": "ipython3",
   "version": "3.10.4"
  },
  "orig_nbformat": 4
 },
 "nbformat": 4,
 "nbformat_minor": 2
}
