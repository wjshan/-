{
 "cells": [
  {
   "cell_type": "markdown",
   "metadata": {},
   "source": [
    "---\n",
    "title: 1224. 最大相等频率\n",
    "---\n",
    "\n",
    "# [1224. 最大相等频率](https://leetcode.cn/problems/maximum-equal-frequency/){:target=\"_blank\"}\n",
    "\n",
    "## 题干\n",
    "\n",
    "给你一个正整数数组`nums`,请你帮忙从改数组中找出能满足下面要求的**最长**前,并返回该前缀的长度:\n",
    "\n",
    "- 从前缀中**恰好删除一个**元素后,剩下每个数字的出现次数都相同.\n",
    "\n",
    "如果删除这个元素后没有剩余元素存在,仍可认为每个数字都具有相同的出现次数(也就是0次).\n",
    "\n",
    "## 示例\n",
    "\n",
    "### 示例 1\n",
    "\n",
    "```\n",
    "输入：nums = [2,2,1,1,5,3,3,5]\n",
    "输出：7\n",
    "解释：对于长度为 7 的子数组 [2,2,1,1,5,3,3]，如果我们从中删去 nums[4] = 5，就可以得到 [2,2,1,1,3,3]，里面每个数字都出现了两次。\n",
    "\n",
    "```\n",
    "\n",
    "### 示例 2\n",
    "\n",
    "```\n",
    "输入：nums = [1,1,1,2,2,2,3,3,3,4,4,4,5]\n",
    "输出：13\n",
    "```\n",
    "\n",
    "## 提示\n",
    "\n",
    "- $ 1 \\le nums.length \\le 10^5 $\n",
    "- $ 1 \\le nums[i] \\le 10^5 $\n",
    "\n",
    "## 题解"
   ]
  },
  {
   "cell_type": "code",
   "execution_count": 1,
   "metadata": {},
   "outputs": [],
   "source": [
    "from typing import List\n",
    "from collections import Counter"
   ]
  },
  {
   "cell_type": "markdown",
   "metadata": {},
   "source": [
    "### 哈希\n",
    "\n",
    "1. 当出现最多的数的数量`max_count`等于`1`时,删除任意一个数都满足要求\n",
    "2. 当出现最多的数只有一种并且其余出现的数的总数为$max_count -1$时,满足要求\n",
    "3. 当有且只有一个数的出现次数为*一次*,且其余数的出现此处都是`max_count`时,满足要求\n",
    "\n",
    "**时间复杂度**: $ O(n) $\n",
    "\n",
    "**空间复杂度**: $ O(n) $\n",
    "\n",
    "![](/assets/images/1224.%20最大相等频率/2022-08-18-16-51-47.png)"
   ]
  },
  {
   "cell_type": "code",
   "execution_count": 2,
   "metadata": {},
   "outputs": [],
   "source": [
    "class Solution:\n",
    "    def maxEqualFreq(self, nums: List[int]) -> int:\n",
    "        count = Counter()\n",
    "        freq = Counter() # 统计每个数出现次数的分布\n",
    "        num_type_count = 0\n",
    "        max_count = ans = 0\n",
    "        for i,n in enumerate(nums):\n",
    "            if count[n]: # 将这个数从之前的统计中移除\n",
    "                freq[count[n]] -= 1\n",
    "            else:\n",
    "                num_type_count+=1\n",
    "            count[n] += 1\n",
    "            freq[count[n]] += 1 # 添加入下一个统计中\n",
    "            max_count = max_count if max_count>=count[n] else count[n]\n",
    "            if max_count == 1 or \\\n",
    "                (freq[max_count]==1 and freq[max_count-1]==num_type_count-1) or \\\n",
    "                    (freq[1]==1 and freq[max_count]==num_type_count-1):\n",
    "                ans = i+1\n",
    "        return ans\n",
    "            "
   ]
  },
  {
   "cell_type": "code",
   "execution_count": 3,
   "metadata": {},
   "outputs": [],
   "source": [
    "if __name__ == \"__main__\":\n",
    "    s = Solution()\n",
    "    assert s.maxEqualFreq([2,2,1,1,5,3,3,5]) == 7\n",
    "    assert s.maxEqualFreq([1,1,1,2,2,2,3,3,3,4,4,4,5]) == 13"
   ]
  }
 ],
 "metadata": {
  "kernelspec": {
   "display_name": "Python 3.10.4 ('.venv': venv)",
   "language": "python",
   "name": "python3"
  },
  "language_info": {
   "codemirror_mode": {
    "name": "ipython",
    "version": 3
   },
   "file_extension": ".py",
   "mimetype": "text/x-python",
   "name": "python",
   "nbconvert_exporter": "python",
   "pygments_lexer": "ipython3",
   "version": "3.10.4"
  },
  "orig_nbformat": 4,
  "vscode": {
   "interpreter": {
    "hash": "f3897d38dc41ff7c1eec30275d3ba6d8e8caf81732cedae805b00463b87ecdf6"
   }
  }
 },
 "nbformat": 4,
 "nbformat_minor": 2
}
