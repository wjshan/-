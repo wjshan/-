{
 "cells": [
  {
   "cell_type": "markdown",
   "metadata": {},
   "source": [
    "---\n",
    "title: 467. 环绕字符串中唯一的子字符串\n",
    "---\n",
    "\n",
    "# [467. 环绕字符串中唯一的子字符串](https://leetcode.cn/problems/unique-substrings-in-wraparound-string/){:target=\"_blank\"}\n",
    "\n",
    "## 题干\n",
    "把字符串 `s` 看作是 `“abcdefghijklmnopqrstuvwxyz”` 的无限环绕字符串，所以 `s` 看起来是这样的：\n",
    "\n",
    "- `\"...zabcdefghijklmnopqrstuvwxyzabcdefghijklmnopqrstu`\n",
    "  \n",
    "现在给定另一个字符串`p` 。返回`s`中**唯一**的`p`的**非空子串**的数量 。\n",
    "\n",
    "## 示例\n",
    "\n",
    "### 示例 1\n",
    "```\n",
    "输入: p = \"a\"\n",
    "输出: 1\n",
    "解释: 字符串 s 中只有一个\"a\"子字符。\n",
    "```\n",
    "### 示例 2\n",
    "```\n",
    "输入: p = \"cac\"\n",
    "输出: 2\n",
    "解释: 字符串 s 中的字符串“cac”只有两个子串“a”、“c”。.\n",
    "```\n",
    "### 示例 3\n",
    "```\n",
    "输入: p = \"zab\"\n",
    "输出: 6\n",
    "解释: 在字符串 s 中有六个子串“z”、“a”、“b”、“za”、“ab”、“zab”。\n",
    "```"
   ]
  },
  {
   "cell_type": "markdown",
   "metadata": {},
   "source": [
    "# 题解"
   ]
  },
  {
   "cell_type": "code",
   "execution_count": 21,
   "metadata": {},
   "outputs": [],
   "source": [
    "class Solution:\n",
    "    def findSubstringInWraproundString(self, p: str) -> int:\n",
    "        ans_array = [0]*26\n",
    "        sub_len = 0\n",
    "        for i,char in enumerate(p):\n",
    "            if i>0 and (ord(char)-ord(p[i-1]))%26 == 1: # 需要两个字符之间相差1或者-25\n",
    "                sub_len += 1\n",
    "            else:\n",
    "                sub_len = 1\n",
    "            index_key = ord(char)-ord(\"a\")\n",
    "            ans_array[index_key]=max([ans_array[index_key],sub_len])\n",
    "        return sum(ans_array)\n",
    "        "
   ]
  },
  {
   "cell_type": "code",
   "execution_count": 22,
   "metadata": {},
   "outputs": [
    {
     "name": "stdout",
     "output_type": "stream",
     "text": [
      "CPU times: user 526 ms, sys: 90.8 ms, total: 617 ms\n",
      "Wall time: 13.6 s\n",
      "CPU times: user 39 µs, sys: 1 µs, total: 40 µs\n",
      "Wall time: 43.2 µs\n",
      "CPU times: user 23 µs, sys: 0 ns, total: 23 µs\n",
      "Wall time: 27.2 µs\n"
     ]
    }
   ],
   "source": [
    "if __name__ == \"__main__\":\n",
    "    s = Solution()\n",
    "    %time assert s.findSubstringInWraproundString(\"zab\") == 6\n",
    "    %time assert s.findSubstringInWraproundString(\"a\") == 1\n",
    "    %time assert s.findSubstringInWraproundString(\"cac\") == 2\n",
    "    "
   ]
  }
 ],
 "metadata": {
  "interpreter": {
   "hash": "f3897d38dc41ff7c1eec30275d3ba6d8e8caf81732cedae805b00463b87ecdf6"
  },
  "kernelspec": {
   "display_name": "Python 3.10.4 ('.venv': venv)",
   "language": "python",
   "name": "python3"
  },
  "language_info": {
   "codemirror_mode": {
    "name": "ipython",
    "version": 3
   },
   "file_extension": ".py",
   "mimetype": "text/x-python",
   "name": "python",
   "nbconvert_exporter": "python",
   "pygments_lexer": "ipython3",
   "version": "3.10.4"
  },
  "orig_nbformat": 4
 },
 "nbformat": 4,
 "nbformat_minor": 2
}
