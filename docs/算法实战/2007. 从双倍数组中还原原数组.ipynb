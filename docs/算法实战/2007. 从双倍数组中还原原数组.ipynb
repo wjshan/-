{
 "cells": [
  {
   "cell_type": "markdown",
   "metadata": {},
   "source": [
    "---\n",
    "title: 2007. 从双倍数组中还原原数组\n",
    "---\n",
    "\n",
    "# [2007. 从双倍数组中还原原数组](https://leetcode.cn/problems/find-original-array-from-doubled-array/){:target=\"_blank\"}\n",
    "\n",
    "## 题干\n",
    "一个整数数组`original`可以抓变成一个**双倍**数组`changed`,转变方式为将`original`中每个元素**值乘以2**键入数组中,然后将所有元素**随机打乱**.\n",
    "\n",
    "给你一个数组`changed`吐过`如果`change`是**双倍**数组,那么请你返回`original`数组,否则请你返回空数组.`original`的元素可以以*任意*顺序返回.\n",
    "\n",
    "## 示例\n",
    "### 示例 1\n",
    "```\n",
    "输入：changed = [1,3,4,2,6,8]\n",
    "输出：[1,3,4]\n",
    "解释：一个可能的 original 数组为 [1,3,4] :\n",
    "- 将 1 乘以 2 ，得到 1 * 2 = 2 。\n",
    "- 将 3 乘以 2 ，得到 3 * 2 = 6 。\n",
    "- 将 4 乘以 2 ，得到 4 * 2 = 8 。\n",
    "其他可能的原数组方案为 [4,3,1] 或者 [3,1,4] 。\n",
    "```\n",
    "### 示例 2\n",
    "```\n",
    "输入：changed = [6,3,0,1]\n",
    "输出：[]\n",
    "解释：changed 不是一个双倍数组。\n",
    "```\n",
    "### 示例 3\n",
    "```\n",
    "输入：changed = [1]\n",
    "输出：[]\n",
    "解释：changed 不是一个双倍数组。\n",
    "```\n",
    "## 提示\n",
    "- $1 \\le changed.length \\le 10^5$\n",
    "- $0 \\le changed[i] \\le 10^5$"
   ]
  },
  {
   "cell_type": "markdown",
   "metadata": {},
   "source": [
    "## 题解\n",
    "\n",
    "首先双倍数组的长度必然是偶数."
   ]
  },
  {
   "cell_type": "code",
   "execution_count": 1,
   "metadata": {},
   "outputs": [],
   "source": [
    "from typing import List"
   ]
  },
  {
   "cell_type": "markdown",
   "metadata": {},
   "source": [
    "###  Map缓存数据\n",
    "\n",
    "- 由提示可知,$changed[i] \\le 2*changed[i]$\n",
    "\n",
    "计算过程:\n",
    "1. 我们可以先将数据从升序排序,使得双倍数据在元数据的右侧\n",
    "2. 从左往右遍历排序后的数组\n",
    "3. 判断当前数据的双倍数是否在map中:如果**不存在**,则map[2*changed[i]] 加一,反之则减一\n",
    "\n",
    "时间复杂度$O(n+nlog^n)=O(nlog^n)$,空间复杂度为$O(n)$\n",
    "时间复杂度主要在排序部分,空间复杂度在map中,map最多存储`n`个数据"
   ]
  },
  {
   "cell_type": "code",
   "execution_count": 10,
   "metadata": {},
   "outputs": [],
   "source": [
    "class Solution:\n",
    "    def findOriginalArray(self, changed: List[int]) -> List[int]:\n",
    "        ans = []\n",
    "        double_map = {}\n",
    "        for val in sorted(changed):\n",
    "            if double_map.get(val):\n",
    "                double_map[val]-=1\n",
    "                if double_map[val]<=0:\n",
    "                    del double_map[val]\n",
    "            else:\n",
    "                ans.append(val)\n",
    "                double_val = 2*val\n",
    "                if double_val not in double_map:\n",
    "                    double_map[double_val]=0\n",
    "                double_map[double_val]+=1\n",
    "        if double_map:\n",
    "            return []\n",
    "        else:\n",
    "            return ans"
   ]
  },
  {
   "cell_type": "code",
   "execution_count": 11,
   "metadata": {},
   "outputs": [
    {
     "name": "stdout",
     "output_type": "stream",
     "text": [
      "CPU times: user 8 µs, sys: 0 ns, total: 8 µs\n",
      "Wall time: 9.06 µs\n",
      "CPU times: user 7 µs, sys: 1 µs, total: 8 µs\n",
      "Wall time: 7.87 µs\n",
      "CPU times: user 4 µs, sys: 0 ns, total: 4 µs\n",
      "Wall time: 5.96 µs\n",
      "CPU times: user 2 µs, sys: 0 ns, total: 2 µs\n",
      "Wall time: 3.81 µs\n"
     ]
    }
   ],
   "source": [
    "if __name__ == \"__main__\":\n",
    "    s = Solution()\n",
    "    %time assert s.findOriginalArray([2,1,2,4,2,4])==[1,2,2]\n",
    "    %time assert s.findOriginalArray([1,3,4,2,6,8])==[1,3,4]\n",
    "    %time assert s.findOriginalArray([6,3,0,1])==[]\n",
    "    %time assert s.findOriginalArray([1])==[]"
   ]
  }
 ],
 "metadata": {
  "interpreter": {
   "hash": "f3897d38dc41ff7c1eec30275d3ba6d8e8caf81732cedae805b00463b87ecdf6"
  },
  "kernelspec": {
   "display_name": "Python 3.10.4 ('.venv': venv)",
   "language": "python",
   "name": "python3"
  },
  "language_info": {
   "codemirror_mode": {
    "name": "ipython",
    "version": 3
   },
   "file_extension": ".py",
   "mimetype": "text/x-python",
   "name": "python",
   "nbconvert_exporter": "python",
   "pygments_lexer": "ipython3",
   "version": "3.10.4"
  },
  "orig_nbformat": 4
 },
 "nbformat": 4,
 "nbformat_minor": 2
}
