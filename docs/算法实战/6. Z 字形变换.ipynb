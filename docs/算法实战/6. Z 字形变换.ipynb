{
 "cells": [
  {
   "cell_type": "markdown",
   "metadata": {},
   "source": [
    "---\n",
    "title: 6. Z 字形变换\n",
    "---\n",
    "# [6. Z 字形变换](https://leetcode.cn/problems/zigzag-conversion/)\n",
    "\n",
    "## 题干\n",
    "将一个给定字符串`s`根据给定的行数`numRows`,以从上到下,从左到右进行Z字形排列.\n",
    "比如输入字符串为`\"PAYPALISHIRING\"`行数为`3`时,排列如下\n",
    "```\n",
    "P   A   H   N\n",
    "A P L S I I G\n",
    "Y   I   R\n",
    "```\n",
    "之后,你的输出需要从左往右逐行读取,产生出一个新的字符串,比如:`\"PAHNAPLSIIGYIR\"`\n",
    "\n",
    "## 示例\n",
    "### 示例 1\n",
    "```\n",
    "输入：s = \"PAYPALISHIRING\", numRows = 3\n",
    "输出：\"PAHNAPLSIIGYIR\"\n",
    "```\n",
    "### 示例 2\n",
    "```\n",
    "输入：s = \"PAYPALISHIRING\", numRows = 4\n",
    "输出：\"PINALSIGYAHRPI\"\n",
    "解释：\n",
    "P     I    N\n",
    "A   L S  I G\n",
    "Y A   H R\n",
    "P     I\n",
    "```\n",
    "### 示例 3\n",
    "```\n",
    "输入：s = \"A\", numRows = 1\n",
    "输出：\"A\"\n",
    "```\n",
    "## 提示\n",
    "\n",
    "- 1<= s.length <= 1000\n",
    "- `s`有英文字母(大写和小写),`','`和`'.'`组成\n",
    "- 1<= numRows <=1000"
   ]
  },
  {
   "cell_type": "markdown",
   "metadata": {},
   "source": [
    "## 题解\n"
   ]
  },
  {
   "cell_type": "markdown",
   "metadata": {},
   "source": [
    "### 二维数组\n",
    "根据Z字形变换的规则,我们可以得出:\n",
    "\n",
    "- 变化周期为 $t=numRows+numRows-2 = 2*numRows-2 $\n",
    "- 一共有 $T = s.length/t$个周期,向上取整,不足一个周期的算一个周期.\n",
    "- 每个周期包含$numRows-1$列\n",
    "\n",
    "以上可以计算出,我们需要构造一个 `numRows`行,`T*(numRows-1)`列的矩阵.同时,当`numRows=1`或`s.length<=numRows`是,Z字形变换后的字符串与原字符串相同.\n",
    "\n",
    "```\n",
    "0     6        \n",
    "1   5 7   11  ...\n",
    "2 4   8 10\n",
    "3     9\n",
    "```\n",
    "\n",
    "当`i%t<n-1`时向下,反之则向右上."
   ]
  },
  {
   "cell_type": "code",
   "execution_count": 11,
   "metadata": {},
   "outputs": [],
   "source": [
    "class Solution:\n",
    "    def convert(self, s: str, numRows: int) -> str:\n",
    "        m = len(s) # 原字符串长度\n",
    "        t = 2*numRows-2 # 单个周期内包含字符数\n",
    "        if numRows==1 or m<=numRows:\n",
    "            return s\n",
    "        T = m//t # 将会重复T个周期\n",
    "        if m%t: # 如果存在一个不完整周期,将其视为一个完整周期\n",
    "            T+=1\n",
    "        cols=T*(numRows-1) # 列数\n",
    "        ans = [[\"\"]*cols for x in range(numRows)]\n",
    "        x=y=0\n",
    "        for i,c in enumerate(s):\n",
    "            ans[x][y]=c\n",
    "            if i%t<numRows-1:\n",
    "                x+=1\n",
    "            else:\n",
    "                x-=1\n",
    "                y+=1\n",
    "        return ''.join([''.join(x) for x in ans])"
   ]
  },
  {
   "cell_type": "markdown",
   "metadata": {},
   "source": [
    "### 按规律生成"
   ]
  },
  {
   "cell_type": "code",
   "execution_count": 13,
   "metadata": {},
   "outputs": [],
   "source": [
    "class Solution:\n",
    "    def convert(self, s: str, numRows: int) -> str:\n",
    "        n, r = len(s), numRows\n",
    "        if r == 1 or r >= n:\n",
    "            return s\n",
    "        t = r * 2 - 2\n",
    "        ans = []\n",
    "        for i in range(r):  # 枚举矩阵的行\n",
    "            for j in range(0, n - i, t):  # 枚举每个周期的起始下标\n",
    "                ans.append(s[j + i])  # 当前周期的第一个字符\n",
    "                if 0 < i < r - 1 and j + t - i < n:\n",
    "                    ans.append(s[j + t - i])  # 当前周期的第二个字符\n",
    "        return ''.join(ans)"
   ]
  },
  {
   "cell_type": "code",
   "execution_count": 14,
   "metadata": {},
   "outputs": [
    {
     "name": "stdout",
     "output_type": "stream",
     "text": [
      "CPU times: user 11 µs, sys: 4 µs, total: 15 µs\n",
      "Wall time: 17.9 µs\n",
      "CPU times: user 11 µs, sys: 0 ns, total: 11 µs\n",
      "Wall time: 13.1 µs\n",
      "CPU times: user 2 µs, sys: 0 ns, total: 2 µs\n",
      "Wall time: 4.05 µs\n",
      "CPU times: user 2 µs, sys: 0 ns, total: 2 µs\n",
      "Wall time: 2.86 µs\n"
     ]
    }
   ],
   "source": [
    "if __name__ == \"__main__\":\n",
    "    s = Solution()\n",
    "    %time assert s.convert(\"PAYPALISHIRING\",3) == \"PAHNAPLSIIGYIR\"\n",
    "    %time assert s.convert(\"PAYPALISHIRING\",4) == \"PINALSIGYAHRPI\"\n",
    "    %time assert s.convert(\"A\",1) == \"A\"\n",
    "    %time assert s.convert(\"AB\",1) == \"AB\"\n",
    "    "
   ]
  }
 ],
 "metadata": {
  "interpreter": {
   "hash": "f3897d38dc41ff7c1eec30275d3ba6d8e8caf81732cedae805b00463b87ecdf6"
  },
  "kernelspec": {
   "display_name": "Python 3.10.4 ('.venv': venv)",
   "language": "python",
   "name": "python3"
  },
  "language_info": {
   "codemirror_mode": {
    "name": "ipython",
    "version": 3
   },
   "file_extension": ".py",
   "mimetype": "text/x-python",
   "name": "python",
   "nbconvert_exporter": "python",
   "pygments_lexer": "ipython3",
   "version": "3.10.4"
  },
  "orig_nbformat": 4
 },
 "nbformat": 4,
 "nbformat_minor": 2
}
