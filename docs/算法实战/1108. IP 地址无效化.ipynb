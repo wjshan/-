{
 "cells": [
  {
   "cell_type": "markdown",
   "metadata": {},
   "source": [
    "---\n",
    "title: 1108. IP 地址无效化\n",
    "---\n",
    "# [1108. IP 地址无效化](https://leetcode.cn/problems/defanging-an-ip-address/){:target=\"_blank\"}\n",
    "## 题解\n",
    "给你一个有效的`IPv4`地址`address`,返回这个IP地址无效化的版本.\n",
    "\n",
    "所谓的无效化IP地址,其实就是用`\"[.]\"`代替了每个`\".\"`.\n",
    "\n",
    "## 示例\n",
    "### 示例 1\n",
    "\n",
    "```\n",
    "输入：address = \"1.1.1.1\"\n",
    "输出：\"1[.]1[.]1[.]1\"\n",
    "```\n",
    "\n",
    "### 示例 2\n",
    "\n",
    "```\n",
    "输入：address = \"255.100.50.0\"\n",
    "输出：\"255[.]100[.]50[.]0\"\n",
    "```\n",
    "\n",
    "## 提示\n",
    "\n",
    "- 给出的`address`是一个有效的IPv4地址\n",
    "\n",
    "## 题解\n"
   ]
  },
  {
   "cell_type": "markdown",
   "metadata": {},
   "source": [
    "### 常规\n",
    "\n"
   ]
  },
  {
   "cell_type": "code",
   "execution_count": null,
   "metadata": {},
   "outputs": [],
   "source": [
    "import re"
   ]
  },
  {
   "cell_type": "code",
   "execution_count": null,
   "metadata": {},
   "outputs": [],
   "source": [
    "class Solution:\n",
    "    def defangIPaddr(self, address: str) -> str:\n",
    "        re.compile(r\"\\.\").split()"
   ]
  }
 ],
 "metadata": {
  "language_info": {
   "name": "python"
  },
  "orig_nbformat": 4
 },
 "nbformat": 4,
 "nbformat_minor": 2
}
