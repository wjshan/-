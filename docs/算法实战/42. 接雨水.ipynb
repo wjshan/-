{
 "cells": [
  {
   "cell_type": "markdown",
   "metadata": {
    "pycharm": {
     "name": "#%% md\n"
    }
   },
   "source": [
    "---\n",
    "title: 42. 接雨水\n",
    "---\n",
    "# [42. 接雨水](https://leetcode.cn/problems/trapping-rain-water/){:target=\"_blank\"}\n",
    "\n",
    "## 题干\n",
    "给定 n 个非负整数表示每个宽度为`1`的柱子的高度图，计算按此排列的柱子，下雨之后能接多少雨水。\n",
    "\n",
    "## 示例\n",
    "\n",
    "### 示例 1\n",
    "![](/assets/images/42.%20接雨水/2022-05-25-14-11-01.png){:width=\"100%\"}\n",
    "```\n",
    "输入：height = [0,1,0,2,1,0,1,3,2,1,2,1]\n",
    "输出：6\n",
    "解释：上面是由数组 [0,1,0,2,1,0,1,3,2,1,2,1] 表示的高度图，在这种情况下，可以接 6 个单位的雨水（蓝色部分表示雨水）。\n",
    "```\n",
    "\n",
    "### 示例 2\n",
    "```\n",
    "输入：height = [4,2,0,3,2,5]\n",
    "输出：9\n",
    "```\n",
    "## 提示\n"
   ]
  },
  {
   "cell_type": "markdown",
   "metadata": {
    "pycharm": {
     "name": "#%% md\n"
    }
   },
   "source": [
    "## 题解\n",
    "\n",
    "- $n == height.length$\n",
    "- $1 <= n <= 2 * 10^4$\n",
    "- $0 <= height[i] <= 10^5$"
   ]
  },
  {
   "cell_type": "code",
   "execution_count": null,
   "metadata": {
    "pycharm": {
     "name": "#%%\n"
    }
   },
   "outputs": [],
   "source": [
    "from typing import List"
   ]
  },
  {
   "cell_type": "markdown",
   "metadata": {
    "pycharm": {
     "name": "#%% md\n"
    }
   },
   "source": [
    "### 暴力解法\n",
    "在某个区间内,能容纳雨水的量为 令$H=min(height[i],height[j])$ 则 $\\sum\\limits_{n=i+1}^{j-1}{H-height[n]}$"
   ]
  },
  {
   "cell_type": "code",
   "execution_count": null,
   "metadata": {
    "pycharm": {
     "name": "#%%\n"
    }
   },
   "outputs": [],
   "source": [
    "class Solution:\n",
    "    def trap(self, height: List[int]) -> int:"
   ]
  }
 ],
 "metadata": {
  "language_info": {
   "name": "python"
  },
  "orig_nbformat": 4
 },
 "nbformat": 4,
 "nbformat_minor": 2
}