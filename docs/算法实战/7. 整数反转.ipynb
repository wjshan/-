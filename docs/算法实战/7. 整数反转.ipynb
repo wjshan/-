{
 "cells": [
  {
   "cell_type": "markdown",
   "metadata": {},
   "source": [
    "---\n",
    "title: 7. 整数反转\n",
    "---\n",
    "# [7. 整数反转](https://leetcode.cn/problems/reverse-integer/){:target=\"_blank\"}\n",
    "## 题干\n",
    "给你一个32位的有符号整数`x`,返回将`x`中的数字部分反转后的结果.\n",
    "\n",
    "如果反转后整数超过32位的有符号整数的范围$[-2^31, 2^31-1]$,就返回0.\n",
    "\n",
    "**假设环境不允许存储64位整数(有符号或无符号)**.\n",
    "\n",
    "\n",
    "## 示例\n",
    "### 示例 1\n",
    "\n",
    "```\n",
    "输入：x = 123\n",
    "输出：321\n",
    "```\n",
    "\n",
    "### 示例 2\n",
    "\n",
    "```\n",
    "输入：x = -123\n",
    "输出：-321\n",
    "```\n",
    "\n",
    "### 示例 3\n",
    "\n",
    "```\n",
    "输入：x = 120\n",
    "输出：21\n",
    "```\n",
    "\n",
    "### 示例 4\n",
    "\n",
    "```\n",
    "输入：x = 0\n",
    "输出：0\n",
    "```\n",
    "\n",
    "提示:\n",
    "\n",
    "- $-2^31 \\le x \\le 2^31-1$"
   ]
  },
  {
   "cell_type": "markdown",
   "metadata": {},
   "source": [
    "## 题解\n"
   ]
  },
  {
   "cell_type": "markdown",
   "metadata": {},
   "source": [
    "### 按位取值\n",
    "\n",
    "这个问题其实本身还是比较简单的,问题就在于如何才能在不超过`32`位整数的范围内实现.\n",
    "\n",
    "原始数据在$[-2^31,2^31-1]$范围区间内,我们需要将其*按十进制*反转,如果是按*二进制*反转那么必然不存在超过范围的问题.\n",
    "\n",
    "![](/assets/images/7.%20整数反转/2022-06-16-15-28-08.png)"
   ]
  },
  {
   "cell_type": "code",
   "execution_count": 23,
   "metadata": {},
   "outputs": [],
   "source": [
    "class Solution:\n",
    "    def reverse(self, x: int) -> int:\n",
    "        is_negative = 1\n",
    "        if x < 0:\n",
    "            is_negative = -1\n",
    "            x = -x\n",
    "        ans = 0\n",
    "        while x:\n",
    "            mod = x%10\n",
    "            if ans>214748364:\n",
    "                return 0\n",
    "            elif ans==214748364:\n",
    "                if is_negative>0 and mod >7:\n",
    "                    return 0\n",
    "                elif is_negative<0 and mod>8:\n",
    "                    return 0            \n",
    "            ans = ans*10+mod\n",
    "            x //= 10\n",
    "        return ans*is_negative"
   ]
  },
  {
   "cell_type": "code",
   "execution_count": 24,
   "metadata": {},
   "outputs": [
    {
     "name": "stdout",
     "output_type": "stream",
     "text": [
      "CPU times: user 5 µs, sys: 1 µs, total: 6 µs\n",
      "Wall time: 5.96 µs\n",
      "CPU times: user 2 µs, sys: 0 ns, total: 2 µs\n",
      "Wall time: 5.01 µs\n",
      "CPU times: user 2 µs, sys: 0 ns, total: 2 µs\n",
      "Wall time: 3.1 µs\n",
      "CPU times: user 2 µs, sys: 0 ns, total: 2 µs\n",
      "Wall time: 2.86 µs\n",
      "CPU times: user 2 µs, sys: 0 ns, total: 2 µs\n",
      "Wall time: 3.1 µs\n"
     ]
    }
   ],
   "source": [
    "if __name__ == \"__main__\":\n",
    "    s = Solution()\n",
    "    %time assert s.reverse(2147483647) == 0\n",
    "    %time assert s.reverse(123) == 321\n",
    "    %time assert s.reverse(-123) ==- 321\n",
    "    %time assert s.reverse(120) == 21\n",
    "    %time assert s.reverse(0) == 0"
   ]
  }
 ],
 "metadata": {
  "interpreter": {
   "hash": "f3897d38dc41ff7c1eec30275d3ba6d8e8caf81732cedae805b00463b87ecdf6"
  },
  "kernelspec": {
   "display_name": "Python 3.10.4 ('.venv': venv)",
   "language": "python",
   "name": "python3"
  },
  "language_info": {
   "codemirror_mode": {
    "name": "ipython",
    "version": 3
   },
   "file_extension": ".py",
   "mimetype": "text/x-python",
   "name": "python",
   "nbconvert_exporter": "python",
   "pygments_lexer": "ipython3",
   "version": "3.10.4"
  },
  "orig_nbformat": 4
 },
 "nbformat": 4,
 "nbformat_minor": 2
}
