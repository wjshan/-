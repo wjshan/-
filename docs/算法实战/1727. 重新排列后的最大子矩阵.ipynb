{
 "cells": [
  {
   "cell_type": "markdown",
   "metadata": {},
   "source": [
    "---\n",
    "title: 1727. 重新排列后的最大子矩阵\n",
    "---\n",
    "# [1727. 重新排列后的最大子矩阵](https://leetcode.cn/problems/largest-submatrix-with-rearrangements/){:target=\"_blank\"}\n",
    "\n",
    "## 题干\n",
    "给你一个二进制举证`matrix`,它的大小为`m*n`,你可以将`matrix`中的**列**按任意顺序重新排序.\n",
    "\n",
    "请你返回最优方案下将`matrix`重新排列后,全是`1`的子矩阵面积.\n",
    "\n",
    "## 示例\n",
    "### 示例 1\n",
    "![](/assets/images/1727.%20重新排列后的最大子矩阵/2022-05-30-17-27-23.png)\n",
    "```\n",
    "输入：matrix = [[0,0,1],[1,1,1],[1,0,1]]\n",
    "输出：4\n",
    "解释：你可以按照上图方式重新排列矩阵的每一列。\n",
    "最大的全 1 子矩阵是上图中加粗的部分，面积为 4 。\n",
    "```\n",
    "### 示例 2\n",
    "![](/assets/images/1727.%20重新排列后的最大子矩阵/2022-05-30-17-27-58.png)\n",
    "```\n",
    "输入：matrix = [[1,0,1,0,1]]\n",
    "输出：3\n",
    "解释：你可以按照上图方式重新排列矩阵的每一列。\n",
    "最大的全 1 子矩阵是上图中加粗的部分，面积为 3 。\n",
    "```\n",
    "### 示例 3\n",
    "```\n",
    "输入：matrix = [[1,1,0],[1,0,1]]\n",
    "输出：2\n",
    "解释：由于你只能整列整列重新排布，所以没有比面积为 2 更大的全 1 子矩形。\n",
    "```\n",
    "### 示例 4\n",
    "```\n",
    "输入：matrix = [[0,0],[0,0]]\n",
    "输出：0\n",
    "解释：由于矩阵中没有 1 ，没有任何全 1 的子矩阵，所以面积为 0 。\n",
    "```\n",
    "## 提示\n",
    "\n",
    "- $m == matrix.length$\n",
    "- $n == matrixp[i].length$\n",
    "- $1\\le m*n \\le 10^5$\n",
    "- $matrix[i][j]$要么是`0`,要么是`1`"
   ]
  },
  {
   "cell_type": "markdown",
   "metadata": {},
   "source": [
    "## 题解"
   ]
  },
  {
   "cell_type": "code",
   "execution_count": 1,
   "metadata": {},
   "outputs": [],
   "source": [
    "from typing import List"
   ]
  },
  {
   "cell_type": "markdown",
   "metadata": {},
   "source": [
    "### 凑矩形\n",
    "\n",
    "1. 先求出面积\n",
    "2. 凑出最大符合`m*n`的矩形\n"
   ]
  },
  {
   "cell_type": "code",
   "execution_count": 2,
   "metadata": {},
   "outputs": [],
   "source": [
    "class Solution:\n",
    "    def largestSubmatrix(self, matrix: List[List[int]]) -> int:\n",
    "        pass"
   ]
  },
  {
   "cell_type": "code",
   "execution_count": null,
   "metadata": {},
   "outputs": [],
   "source": [
    "if __name__ == \"__main__\":\n",
    "    pass"
   ]
  }
 ],
 "metadata": {
  "interpreter": {
   "hash": "f3897d38dc41ff7c1eec30275d3ba6d8e8caf81732cedae805b00463b87ecdf6"
  },
  "kernelspec": {
   "display_name": "Python 3.10.4 ('.venv': venv)",
   "language": "python",
   "name": "python3"
  },
  "language_info": {
   "codemirror_mode": {
    "name": "ipython",
    "version": 3
   },
   "file_extension": ".py",
   "mimetype": "text/x-python",
   "name": "python",
   "nbconvert_exporter": "python",
   "pygments_lexer": "ipython3",
   "version": "3.10.4"
  },
  "orig_nbformat": 4
 },
 "nbformat": 4,
 "nbformat_minor": 2
}
