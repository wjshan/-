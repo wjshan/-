{
 "cells": [
  {
   "cell_type": "markdown",
   "metadata": {},
   "source": [
    "---\n",
    "title: 1470. 重新排列数组\n",
    "---\n",
    "\n",
    "# [1470. 重新排列数组](https://leetcode.cn/problems/shuffle-the-array/){:target=\"_blank\"}\n",
    "\n",
    "## 题干\n",
    "\n",
    "给你一个数组`nums`,数组中有`2n`个元素,按$[x_1,x_2,\\dots ,x_n, y_1, y_2,\\dots,y_n]$的格式排列.\n",
    "\n",
    "请你将数组按$[x_1,y_1,x_2,y_2,\\dots , x_n,y_n]$格式重新排列,返回重排后的数组.\n",
    "\n",
    "## 示例\n",
    "\n",
    "### 示例 1\n",
    "\n",
    "```\n",
    "输入：nums = [2,5,1,3,4,7], n = 3\n",
    "输出：[2,3,5,4,1,7] \n",
    "解释：由于 x1=2, x2=5, x3=1, y1=3, y2=4, y3=7 ，所以答案为 [2,3,5,4,1,7]\n",
    "\n",
    "```\n",
    "\n",
    "### 示例 2\n",
    "\n",
    "```\n",
    "输入：nums = [1,2,3,4,4,3,2,1], n = 4\n",
    "输出：[1,4,2,3,3,2,4,1]\n",
    "```\n",
    "\n",
    "### 示例 3\n",
    "\n",
    "```\n",
    "输入：nums = [1,1,2,2], n = 2\n",
    "输出：[1,2,1,2]\n",
    "```\n",
    "\n",
    "## 提示\n",
    "\n",
    "- $1 \\le n \\le 500$\n",
    "- $nums.length == 2n $\n",
    "- $ 1 \\le nums[i] \\le 10^3 $\n",
    "  \n",
    "## 题解"
   ]
  },
  {
   "cell_type": "code",
   "execution_count": 1,
   "metadata": {},
   "outputs": [],
   "source": [
    "from typing import List"
   ]
  },
  {
   "cell_type": "markdown",
   "metadata": {},
   "source": [
    "### 位置映射\n",
    "\n",
    "$ i = \\begin{cases}\n",
    "2*i & 0 \\le i \\le n-1 \\\\\n",
    "2*(i-n)+1 & n \\le i \\le 2*n-1\n",
    "\\end{cases}$\n",
    "\n",
    "将长度为`2*n`的数组的[n,2n-1]向前插入到[0,n-1]段.我们可以得到以下特性:\n",
    "\n",
    "- 新数组的偶数位为原数组的[0,n-1],奇数位为原数组[n,2n-1]\n",
    "\n",
    "那么我们可以得出新的坐标位置对应原始数组的位置如下:\n",
    "\n",
    "$res[i]=\\begin{cases} \n",
    "num[i/2] & i\\%2=0 \\\\\n",
    "num[(i-1)/2+n] & i\\%2=1\n",
    "\\end{cases}$\n",
    "\n",
    "**时间复杂度**: $O(n)$所有的元素都需要被访问一次\n",
    "\n",
    "**空间复杂度**: $O(1)$结果集不算在内\n",
    "\n",
    "![](/assets/images/1470.%20重新排列数组/2022-08-29-16-15-08.png)\n"
   ]
  },
  {
   "cell_type": "code",
   "execution_count": 2,
   "metadata": {},
   "outputs": [],
   "source": [
    "class Solution:\n",
    "    def shuffle(self, nums: List[int], n: int) -> List[int]:\n",
    "        res = [0]*2*n\n",
    "        for i in range(2*n):\n",
    "            if i%2:\n",
    "                res[i]=nums[(i-1)//2+n]\n",
    "            else:\n",
    "                res[i]=nums[i//2]\n",
    "        return res"
   ]
  },
  {
   "cell_type": "markdown",
   "metadata": {},
   "source": [
    "### 原地交换\n",
    "\n",
    "这其实不是一种交换,每个位置中我们都存储了当前的数据和目标数据,最后我们删除其中的当前数据,就仅保留目标数据\n",
    "\n",
    "由于题目中限制了$ 1 \\le nums[i] \\le 1000 $,而$2^10-1=1023 > 1000$,因此,我们只用10bit的数据就可以表示出当前的数字`num[i]`\n",
    "\n",
    "而`int`型一般为`32`位,那么我们只用一个`int`值就可以表示出两个数字.\n",
    "\n",
    "因此我们将当前数字存储在低10位`[0,9]`,目标数字保存在`[10,19]`.\n",
    "\n",
    "在第一次循环的时候,我们将数字转换过来,然后进行第二次循环,将数字高10位移动到低10位,就得到了最后的结果"
   ]
  },
  {
   "cell_type": "code",
   "execution_count": 31,
   "metadata": {},
   "outputs": [],
   "source": [
    "class Solution:\n",
    "    def shuffle(self, nums: List[int], n: int) -> List[int]:\n",
    "        for i in range(n):\n",
    "            # & 1023 表示移除高位数据,因为目标数据可能已经被叠加了高10位的数据\n",
    "            nums[2*i] |= (nums[i] & 1023)<<10\n",
    "            nums[2*i+1] |= (nums[n+i] & 1023) << 10\n",
    "\n",
    "        for i in range(2*n):\n",
    "            nums[i] = nums[i]>>10\n",
    "        return nums"
   ]
  },
  {
   "cell_type": "code",
   "execution_count": 32,
   "metadata": {},
   "outputs": [
    {
     "name": "stdout",
     "output_type": "stream",
     "text": [
      "[7, 4, 5, 3, 9, 3, 7, 2, 5, 5, 8, 9, 10, 10]\n",
      "[2, 3, 5, 4, 1, 7]\n",
      "[1, 4, 2, 3, 3, 2, 4, 1]\n",
      "[1, 2, 1, 2]\n"
     ]
    }
   ],
   "source": [
    "if __name__ == \"__main__\":\n",
    "    s = Solution()\n",
    "    assert s.shuffle([7,5,9,7,5,8,10,4,3,3,2,5,9,10],7) == [7,4,5,3,9,3,7,2,5,5,8,9,10,10]\n",
    "    assert s.shuffle([2,5,1,3,4,7],3) == [2,3,5,4,1,7] \n",
    "    assert s.shuffle([1,2,3,4,4,3,2,1],4) == [1,4,2,3,3,2,4,1]\n",
    "    assert s.shuffle([1,1,2,2],2) == [1,2,1,2]\n",
    "    "
   ]
  }
 ],
 "metadata": {
  "kernelspec": {
   "display_name": "Python 3.10.4 ('.venv': venv)",
   "language": "python",
   "name": "python3"
  },
  "language_info": {
   "codemirror_mode": {
    "name": "ipython",
    "version": 3
   },
   "file_extension": ".py",
   "mimetype": "text/x-python",
   "name": "python",
   "nbconvert_exporter": "python",
   "pygments_lexer": "ipython3",
   "version": "3.10.4"
  },
  "orig_nbformat": 4,
  "vscode": {
   "interpreter": {
    "hash": "f3897d38dc41ff7c1eec30275d3ba6d8e8caf81732cedae805b00463b87ecdf6"
   }
  }
 },
 "nbformat": 4,
 "nbformat_minor": 2
}
