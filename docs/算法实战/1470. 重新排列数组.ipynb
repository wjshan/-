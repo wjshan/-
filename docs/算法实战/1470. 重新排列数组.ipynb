{
 "cells": [
  {
   "cell_type": "markdown",
   "metadata": {},
   "source": [
    "---\n",
    "title: 1470. 重新排列数组\n",
    "---\n",
    "\n",
    "# [1470. 重新排列数组](https://leetcode.cn/problems/shuffle-the-array/){:target=\"_blank\"}\n",
    "\n",
    "## 题干\n",
    "\n",
    "给你一个数组`nums`,数组中有`2n`个元素,按$[x_1,x_2,\\dots ,x_n, y_1, y_2,\\dots,y_n]$的格式排列.\n",
    "\n",
    "请你将数组按$[x_1,y_1,x_2,y_2,\\dots , x_n,y_n]$格式重新排列,返回重排后的数组.\n",
    "\n",
    "## 示例\n",
    "\n",
    "### 示例 1\n",
    "\n",
    "```\n",
    "输入：nums = [2,5,1,3,4,7], n = 3\n",
    "输出：[2,3,5,4,1,7] \n",
    "解释：由于 x1=2, x2=5, x3=1, y1=3, y2=4, y3=7 ，所以答案为 [2,3,5,4,1,7]\n",
    "\n",
    "```\n",
    "\n",
    "### 示例 2\n",
    "\n",
    "```\n",
    "输入：nums = [1,2,3,4,4,3,2,1], n = 4\n",
    "输出：[1,4,2,3,3,2,4,1]\n",
    "```\n",
    "\n",
    "### 示例 3\n",
    "\n",
    "```\n",
    "输入：nums = [1,1,2,2], n = 2\n",
    "输出：[1,2,1,2]\n",
    "```\n",
    "\n",
    "## 提示\n",
    "\n",
    "- $1 \\le n \\le 500$\n",
    "- $nums.length == 2n $\n",
    "- $ 1 \\le nums[i] \\le 10^3 $\n",
    "  \n",
    "## 题解"
   ]
  },
  {
   "cell_type": "code",
   "execution_count": 1,
   "metadata": {},
   "outputs": [],
   "source": [
    "from typing import List"
   ]
  },
  {
   "cell_type": "markdown",
   "metadata": {},
   "source": [
    "### 位置映射\n",
    "\n",
    "$ i = \\begin{cases}\n",
    "2*i & 0 \\le i \\le n-1 \\\\\n",
    "2*(i-n)+1 & n \\le i \\le 2*n-1\n",
    "\\end{cases}$\n",
    "\n",
    "将长度为`2*n`的数组的[n,2n-1]向前插入到[0,n-1]段.我们可以得到以下特性:\n",
    "\n",
    "- 新数组的偶数位为原数组的[0,n-1],奇数位为原数组[n,2n-1]\n",
    "\n",
    "那么我们可以得出新的坐标位置对应原始数组的位置如下:\n",
    "\n",
    "$res[i]=\\begin{cases} \n",
    "num[i/2] & i\\%2=0 \\\\\n",
    "num[(i-1)/2+n] & i\\%2=1\n",
    "\\end{cases}$\n",
    "\n",
    "**时间复杂度**: $O(n)$所有的元素都需要被访问一次\n",
    "\n",
    "**空间复杂度**: $O(1)$结果集不算在内\n",
    "\n",
    "![](/assets/images/1470.%20重新排列数组/2022-08-29-16-15-08.png)\n"
   ]
  },
  {
   "cell_type": "code",
   "execution_count": 2,
   "metadata": {},
   "outputs": [],
   "source": [
    "class Solution:\n",
    "    def shuffle(self, nums: List[int], n: int) -> List[int]:\n",
    "        res = [0]*2*n\n",
    "        for i in range(2*n):\n",
    "            if i%2:\n",
    "                res[i]=nums[(i-1)//2+n]\n",
    "            else:\n",
    "                res[i]=nums[i//2]\n",
    "        return res"
   ]
  },
  {
   "cell_type": "code",
   "execution_count": 26,
   "metadata": {},
   "outputs": [
    {
     "name": "stdout",
     "output_type": "stream",
     "text": [
      "[7, 5, 9, 7, 5, 8, 10, 4, 3, 3, 2, 5, 9, 10]\n",
      "[7, 4, 9, 7, 5, 8, 9, 5, 3, 3, 2, 5, 10, 10]\n",
      "[7, 4, 5, 7, 5, 8, 5, 9, 3, 3, 2, 9, 10, 10]\n",
      "[7, 4, 5, 9, 5, 8, 2, 7, 3, 3, 5, 9, 10, 10]\n",
      "[7, 4, 5, 9, 7, 8, 3, 5, 3, 2, 5, 9, 10, 10]\n",
      "[7, 4, 5, 9, 7, 5, 3, 8, 3, 2, 5, 9, 10, 10]\n",
      "[7, 4, 5, 9, 7, 5, 8, 3, 3, 2, 5, 9, 10, 10]\n"
     ]
    },
    {
     "ename": "AssertionError",
     "evalue": "",
     "output_type": "error",
     "traceback": [
      "\u001b[0;31m---------------------------------------------------------------------------\u001b[0m",
      "\u001b[0;31mAssertionError\u001b[0m                            Traceback (most recent call last)",
      "\u001b[1;32m/Users/shanweijia/code/python/note/PublicNote/docs/算法实战/1470. 重新排列数组.ipynb Cell 7\u001b[0m in \u001b[0;36m<cell line: 1>\u001b[0;34m()\u001b[0m\n\u001b[1;32m      <a href='vscode-notebook-cell:/Users/shanweijia/code/python/note/PublicNote/docs/%E7%AE%97%E6%B3%95%E5%AE%9E%E6%88%98/1470.%20%E9%87%8D%E6%96%B0%E6%8E%92%E5%88%97%E6%95%B0%E7%BB%84.ipynb#ch0000004?line=0'>1</a>\u001b[0m \u001b[39mif\u001b[39;00m \u001b[39m__name__\u001b[39m \u001b[39m==\u001b[39m \u001b[39m\"\u001b[39m\u001b[39m__main__\u001b[39m\u001b[39m\"\u001b[39m:\n\u001b[1;32m      <a href='vscode-notebook-cell:/Users/shanweijia/code/python/note/PublicNote/docs/%E7%AE%97%E6%B3%95%E5%AE%9E%E6%88%98/1470.%20%E9%87%8D%E6%96%B0%E6%8E%92%E5%88%97%E6%95%B0%E7%BB%84.ipynb#ch0000004?line=1'>2</a>\u001b[0m     s \u001b[39m=\u001b[39m Solution()\n\u001b[0;32m----> <a href='vscode-notebook-cell:/Users/shanweijia/code/python/note/PublicNote/docs/%E7%AE%97%E6%B3%95%E5%AE%9E%E6%88%98/1470.%20%E9%87%8D%E6%96%B0%E6%8E%92%E5%88%97%E6%95%B0%E7%BB%84.ipynb#ch0000004?line=2'>3</a>\u001b[0m     \u001b[39massert\u001b[39;00m s\u001b[39m.\u001b[39mshuffle([\u001b[39m7\u001b[39m,\u001b[39m5\u001b[39m,\u001b[39m9\u001b[39m,\u001b[39m7\u001b[39m,\u001b[39m5\u001b[39m,\u001b[39m8\u001b[39m,\u001b[39m10\u001b[39m,\u001b[39m4\u001b[39m,\u001b[39m3\u001b[39m,\u001b[39m3\u001b[39m,\u001b[39m2\u001b[39m,\u001b[39m5\u001b[39m,\u001b[39m9\u001b[39m,\u001b[39m10\u001b[39m],\u001b[39m7\u001b[39m) \u001b[39m==\u001b[39m [\u001b[39m7\u001b[39m,\u001b[39m4\u001b[39m,\u001b[39m5\u001b[39m,\u001b[39m3\u001b[39m,\u001b[39m9\u001b[39m,\u001b[39m3\u001b[39m,\u001b[39m7\u001b[39m,\u001b[39m2\u001b[39m,\u001b[39m5\u001b[39m,\u001b[39m5\u001b[39m,\u001b[39m8\u001b[39m,\u001b[39m9\u001b[39m,\u001b[39m10\u001b[39m,\u001b[39m10\u001b[39m]\n\u001b[1;32m      <a href='vscode-notebook-cell:/Users/shanweijia/code/python/note/PublicNote/docs/%E7%AE%97%E6%B3%95%E5%AE%9E%E6%88%98/1470.%20%E9%87%8D%E6%96%B0%E6%8E%92%E5%88%97%E6%95%B0%E7%BB%84.ipynb#ch0000004?line=3'>4</a>\u001b[0m     \u001b[39massert\u001b[39;00m s\u001b[39m.\u001b[39mshuffle([\u001b[39m2\u001b[39m,\u001b[39m5\u001b[39m,\u001b[39m1\u001b[39m,\u001b[39m3\u001b[39m,\u001b[39m4\u001b[39m,\u001b[39m7\u001b[39m],\u001b[39m3\u001b[39m) \u001b[39m==\u001b[39m [\u001b[39m2\u001b[39m,\u001b[39m3\u001b[39m,\u001b[39m5\u001b[39m,\u001b[39m4\u001b[39m,\u001b[39m1\u001b[39m,\u001b[39m7\u001b[39m] \n\u001b[1;32m      <a href='vscode-notebook-cell:/Users/shanweijia/code/python/note/PublicNote/docs/%E7%AE%97%E6%B3%95%E5%AE%9E%E6%88%98/1470.%20%E9%87%8D%E6%96%B0%E6%8E%92%E5%88%97%E6%95%B0%E7%BB%84.ipynb#ch0000004?line=4'>5</a>\u001b[0m     \u001b[39massert\u001b[39;00m s\u001b[39m.\u001b[39mshuffle([\u001b[39m1\u001b[39m,\u001b[39m2\u001b[39m,\u001b[39m3\u001b[39m,\u001b[39m4\u001b[39m,\u001b[39m4\u001b[39m,\u001b[39m3\u001b[39m,\u001b[39m2\u001b[39m,\u001b[39m1\u001b[39m],\u001b[39m4\u001b[39m) \u001b[39m==\u001b[39m [\u001b[39m1\u001b[39m,\u001b[39m4\u001b[39m,\u001b[39m2\u001b[39m,\u001b[39m3\u001b[39m,\u001b[39m3\u001b[39m,\u001b[39m2\u001b[39m,\u001b[39m4\u001b[39m,\u001b[39m1\u001b[39m]\n",
      "\u001b[0;31mAssertionError\u001b[0m: "
     ]
    }
   ],
   "source": [
    "if __name__ == \"__main__\":\n",
    "    s = Solution()\n",
    "    assert s.shuffle([7,5,9,7,5,8,10,4,3,3,2,5,9,10],7) == [7,4,5,3,9,3,7,2,5,5,8,9,10,10]\n",
    "    assert s.shuffle([2,5,1,3,4,7],3) == [2,3,5,4,1,7] \n",
    "    assert s.shuffle([1,2,3,4,4,3,2,1],4) == [1,4,2,3,3,2,4,1]\n",
    "    assert s.shuffle([1,1,2,2],2) == [1,2,1,2]\n",
    "    "
   ]
  }
 ],
 "metadata": {
  "kernelspec": {
   "display_name": "Python 3.10.4 ('.venv': venv)",
   "language": "python",
   "name": "python3"
  },
  "language_info": {
   "codemirror_mode": {
    "name": "ipython",
    "version": 3
   },
   "file_extension": ".py",
   "mimetype": "text/x-python",
   "name": "python",
   "nbconvert_exporter": "python",
   "pygments_lexer": "ipython3",
   "version": "3.10.4"
  },
  "orig_nbformat": 4,
  "vscode": {
   "interpreter": {
    "hash": "f3897d38dc41ff7c1eec30275d3ba6d8e8caf81732cedae805b00463b87ecdf6"
   }
  }
 },
 "nbformat": 4,
 "nbformat_minor": 2
}
