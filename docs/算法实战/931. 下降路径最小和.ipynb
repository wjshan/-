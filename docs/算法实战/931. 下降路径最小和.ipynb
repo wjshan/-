{
 "cells": [
  {
   "cell_type": "markdown",
   "metadata": {
    "pycharm": {
     "name": "#%% md\n"
    }
   },
   "source": [
    "# [931. 下降路径最小和](https://leetcode.cn/problems/minimum-falling-path-sum/){:target=\"_blank\"}\n",
    "## 题干\n",
    "给你一个 `n x n` 的 方形 整数数组 `matrix` ，请你找出并返回通过 `matrix` 的下降路径 的 最小和 。\n",
    "\n",
    "下降路径 可以从第一行中的任何元素开始，并从每一行中选择一个元素。在下一行选择的元素和当前行所选元素最多相隔一列（即位于正下方或者沿对角线向左或者向右的第一个元素）。具体来说，位置 (row, col) 的下一个元素应当是 `(row + 1, col - 1)`、`(row + 1, col)` 或者 `(row + 1, col + 1)` 。\n",
    "示例1:\n",
    "![](https://assets.leetcode.com/uploads/2021/11/03/failing1-grid.jpg)\n",
    "```\n",
    "输入：matrix = [[2,1,3],[6,5,4],[7,8,9]]\n",
    "输出：13\n",
    "解释：如图所示，为和最小的两条下降路径\n",
    "```\n",
    "示例2:\n",
    "![](https://assets.leetcode.com/uploads/2021/11/03/failing2-grid.jpg)\n",
    "```\n",
    "输入：matrix = [[-19,57],[-40,-5]]\n",
    "输出：-59\n",
    "解释：如图所示，为和最小的下降路径\n",
    "```\n",
    "提示:\n",
    "- `n == matrix.length == matrix[i].length`\n",
    "- `1 <= n <= 100`\n",
    "- `-100 <= matrix[i][j] <= 100`"
   ]
  },
  {
   "cell_type": "markdown",
   "metadata": {
    "pycharm": {
     "name": "#%% md\n"
    }
   },
   "source": [
    "## 题解\n",
    "以示例一为例,其递归树如下:\n",
    "```mermaid\n",
    "graph TB\n",
    "root((R))\n",
    "00((2)) \n",
    "01((1))\n",
    "02((3))\n",
    "10((6))\n",
    "11((5))\n",
    "12((4))\n",
    "20((7))\n",
    "21((8))\n",
    "22((9))\n",
    "root --> 00\n",
    "root --> 01\n",
    "root --> 02\n",
    "00 --> 10\n",
    "00 --> 11\n",
    "01 --> 10\n",
    "01 --> 11\n",
    "01 --> 12\n",
    "02 --> 11\n",
    "02 --> 12\n",
    "10 --> 20\n",
    "10 --> 21\n",
    "11 --> 20\n",
    "11 --> 21\n",
    "11 --> 22\n",
    "12 --> 21\n",
    "12 --> 22\n",
    "\n",
    "```\n",
    "\n",
    "状态转移方程为:\n",
    "$\\small f(i,j) = \\begin{cases}\n",
    "    matrix[i][j] &i=n-1 \\\\\n",
    "    matrix[i][j]+Min(f(i+1,j),f(i+1,j+1)) &j=0 \\\\\n",
    "    matrix[i][j]+Min(f(i+1,j),f(i+1,j-1) &j=n-1 \\\\\n",
    "    matrix[i][j]+Min(f(i+1,j),f(i+1,j-1),f(i+1,j+1)) &n-1>i \\ge0 \\& n-1>j>0\n",
    "\\end{cases}$"
   ]
  },
  {
   "cell_type": "markdown",
   "metadata": {},
   "source": [
    "### 递归解法"
   ]
  },
  {
   "cell_type": "code",
   "execution_count": 49,
   "metadata": {},
   "outputs": [],
   "source": [
    "from typing import List\n",
    "\n",
    "class Solution:\n",
    "    def minFallingPathSum(self, matrix: List[List[int]]) -> int:\n",
    "        n = len(matrix)\n",
    "        map_cache = {}\n",
    "        def dp(i:int,j:int)->int:\n",
    "            current = matrix[i][j]\n",
    "            if (i,j) in map_cache:\n",
    "                return map_cache[(i,j)]\n",
    "            if i == n-1:\n",
    "                res = current\n",
    "            elif j==0:\n",
    "                res=current + min([dp(i+1,j),dp(i+1,j+1)])\n",
    "            elif j==n-1:\n",
    "                res = current + min([dp(i+1,j),dp(i+1,j-1)])\n",
    "            else:\n",
    "                res = current + min([dp(i+1,j),dp(i+1,j-1),dp(i+1,j+1)])\n",
    "            map_cache[(i,j)]=res\n",
    "            return res\n",
    "        return min([dp(0,x) for x in range(n)])"
   ]
  },
  {
   "cell_type": "code",
   "execution_count": 51,
   "metadata": {},
   "outputs": [
    {
     "name": "stdout",
     "output_type": "stream",
     "text": [
      "CPU times: user 53 µs, sys: 7 µs, total: 60 µs\n",
      "Wall time: 63.9 µs\n"
     ]
    }
   ],
   "source": [
    "%%time\n",
    "if __name__ == '__main__':\n",
    "    s = Solution()\n",
    "    assert s.minFallingPathSum([[-19,57],[-40,-5]]) == -59"
   ]
  },
  {
   "cell_type": "code",
   "execution_count": 58,
   "metadata": {},
   "outputs": [
    {
     "name": "stdout",
     "output_type": "stream",
     "text": [
      "CPU times: user 37 µs, sys: 1 µs, total: 38 µs\n",
      "Wall time: 40.1 µs\n"
     ]
    }
   ],
   "source": [
    "%%time\n",
    "if __name__ == '__main__':\n",
    "    s = Solution()\n",
    "    assert s.minFallingPathSum([[2,1,3],[6,5,4],[7,8,9]]) == 13"
   ]
  }
 ],
 "metadata": {
  "interpreter": {
   "hash": "f3897d38dc41ff7c1eec30275d3ba6d8e8caf81732cedae805b00463b87ecdf6"
  },
  "kernelspec": {
   "display_name": "Python 3.10.4 ('.venv': venv)",
   "language": "python",
   "name": "python3"
  },
  "language_info": {
   "codemirror_mode": {
    "name": "ipython",
    "version": 3
   },
   "file_extension": ".py",
   "mimetype": "text/x-python",
   "name": "python",
   "nbconvert_exporter": "python",
   "pygments_lexer": "ipython3",
   "version": "3.10.4"
  },
  "orig_nbformat": 4
 },
 "nbformat": 4,
 "nbformat_minor": 2
}
