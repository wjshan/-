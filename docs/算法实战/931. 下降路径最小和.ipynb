{
 "cells": [
  {
   "cell_type": "markdown",
   "metadata": {
    "pycharm": {
     "name": "#%% md\n"
    }
   },
   "source": [
    "# 931. 下降路径最小和\n",
    "给你一个 `n x n` 的 方形 整数数组 `matrix` ，请你找出并返回通过 `matrix` 的下降路径 的 最小和 。\n",
    "\n",
    "下降路径 可以从第一行中的任何元素开始，并从每一行中选择一个元素。在下一行选择的元素和当前行所选元素最多相隔一列（即位于正下方或者沿对角线向左或者向右的第一个元素）。具体来说，位置 (row, col) 的下一个元素应当是 `(row + 1, col - 1)`、`(row + 1, col)` 或者 `(row + 1, col + 1)` 。\n",
    "示例1:\n",
    "![](https://assets.leetcode.com/uploads/2021/11/03/failing1-grid.jpg)\n",
    "```\n",
    "输入：matrix = [[2,1,3],[6,5,4],[7,8,9]]\n",
    "输出：13\n",
    "解释：如图所示，为和最小的两条下降路径\n",
    "```\n",
    "示例2:\n",
    "![](https://assets.leetcode.com/uploads/2021/11/03/failing2-grid.jpg)\n",
    "```\n",
    "输入：matrix = [[-19,57],[-40,-5]]\n",
    "输出：-59\n",
    "解释：如图所示，为和最小的下降路径\n",
    "```\n",
    "提示:\n",
    "- `n == matrix.length == matrix[i].length`\n",
    "- `1 <= n <= 100`\n",
    "- `-100 <= matrix[i][j] <= 100`"
   ]
  },
  {
   "cell_type": "markdown",
   "metadata": {
    "pycharm": {
     "name": "#%% md\n"
    }
   },
   "source": [
    "## 题解\n",
    "以示例一为例,其递归树如下:\n",
    "\n",
    "状态转移方程为:\n",
    "$\\small f(i,j) = \\begin{cases}\n",
    "    matrix[i][j] &i=n-1 \\\\\n",
    "    matrix[i][j]+Min(f(i+1,j),f(i+1,j+1)) &j=0 \\\\\n",
    "    matrix[i][j]+Min(f(i+1,j),f(i+1,j-1) &j=n-1 \\\\\n",
    "    matrix[i][j]+Min(f(i+1,j),f(i+1,j-1),f(i+1,j+1)) &n-1>i \\ge0 \\& n-1>j>0\n",
    "\\end{cases}$"
   ]
  },
  {
   "cell_type": "code",
   "execution_count": null,
   "metadata": {
    "pycharm": {
     "name": "#%%\n"
    }
   },
   "outputs": [],
   "source": [
    "from typing import List"
   ]
  },
  {
   "cell_type": "code",
   "execution_count": null,
   "metadata": {
    "pycharm": {
     "name": "#%%\n"
    }
   },
   "outputs": [],
   "source": [
    "class Solution:\n",
    "    def minFallingPathSum(self, matrix: List[List[int]]) -> int:\n",
    "        pass"
   ]
  },
  {
   "cell_type": "code",
   "execution_count": null,
   "metadata": {
    "pycharm": {
     "name": "#%%\n"
    }
   },
   "outputs": [],
   "source": [
    "if __name__ == \"__main__\":\n",
    "    s = Solution()\n",
    "    assert s.minFallingPathSum([[2,1,3],[6,5,4],[7,8,9]]) == 13\n",
    "    assert s.minFallingPathSum([[-19,57],[-40,-5]]) == -59"
   ]
  }
 ],
 "metadata": {
  "language_info": {
   "name": "python"
  },
  "orig_nbformat": 4
 },
 "nbformat": 4,
 "nbformat_minor": 2
}
