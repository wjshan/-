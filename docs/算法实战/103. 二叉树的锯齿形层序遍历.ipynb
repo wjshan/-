{
 "cells": [
  {
   "cell_type": "markdown",
   "metadata": {},
   "source": [
    "---\n",
    "title: 103. 二叉树的锯齿形层序遍历\n",
    "---\n",
    "# [103. 二叉树的锯齿形层序遍历](https://leetcode.cn/problems/binary-tree-zigzag-level-order-traversal/){:target=\"_blank\"}\n",
    "\n",
    "## 题干\n",
    "给你二叉树的根节点`root`，返回其节点值的 锯齿形层序遍历 。（即先从左往右，再从右往左进行下一层遍历，以此类推，层与层之间交替进行）。\n",
    "\n",
    "## 示例\n",
    "### 示例 1\n",
    "![](/assets/images/103.%20二叉树的锯齿形层序遍历/2022-05-25-15-24-12.png)\n",
    "```\n",
    "输入：root = [3,9,20,null,null,15,7]\n",
    "输出：[[3],[20,9],[15,7]]\n",
    "```\n",
    "### 示例 2\n",
    "```\n",
    "输入：root = [1]\n",
    "输出：[[1]]\n",
    "```\n",
    "### 示例 3\n",
    "```\n",
    "输入：root = []\n",
    "输出：[]\n",
    "```\n",
    "## 提示\n",
    "\n",
    "- 树中节点数目在范围`[0, 2000]`内\n",
    "- `-100 <= Node.val <= 100`"
   ]
  },
  {
   "cell_type": "markdown",
   "metadata": {},
   "source": [
    "## 题解"
   ]
  },
  {
   "cell_type": "code",
   "execution_count": 2,
   "metadata": {},
   "outputs": [],
   "source": [
    "# Definition for a binary tree node.\n",
    "from typing import List\n",
    "class TreeNode:\n",
    "    def __init__(self, val=0, left=None, right=None):\n",
    "        self.val = val\n",
    "        self.left = left\n",
    "        self.right = right"
   ]
  },
  {
   "cell_type": "markdown",
   "metadata": {},
   "source": [
    "### 广度优先遍历"
   ]
  },
  {
   "cell_type": "code",
   "execution_count": 25,
   "metadata": {},
   "outputs": [],
   "source": [
    "class Solution:\n",
    "    def zigzagLevelOrder(self, root: TreeNode) -> List[List[int]]:\n",
    "        ans = []\n",
    "        if not root:\n",
    "            return ans\n",
    "        q = []\n",
    "        next_lvel_nodes = [root]\n",
    "        revert = 1\n",
    "        \n",
    "        while q or next_lvel_nodes:\n",
    "            q = next_lvel_nodes\n",
    "            next_lvel_nodes = []\n",
    "            template_result = []\n",
    "            for node in q:\n",
    "                template_result.append(node.val)\n",
    "                if node.left:\n",
    "                    next_lvel_nodes.append(node.left)\n",
    "                if node.right:\n",
    "                    next_lvel_nodes.append(node.right)\n",
    "            ans.append(template_result[::revert])\n",
    "            q = []\n",
    "            revert = -revert\n",
    "        return ans"
   ]
  },
  {
   "cell_type": "code",
   "execution_count": 28,
   "metadata": {},
   "outputs": [
    {
     "name": "stdout",
     "output_type": "stream",
     "text": [
      "CPU times: user 13 µs, sys: 1e+03 ns, total: 14 µs\n",
      "Wall time: 15 µs\n",
      "CPU times: user 12 µs, sys: 0 ns, total: 12 µs\n",
      "Wall time: 14.1 µs\n",
      "CPU times: user 8 µs, sys: 0 ns, total: 8 µs\n",
      "Wall time: 11 µs\n",
      "CPU times: user 5 µs, sys: 0 ns, total: 5 µs\n",
      "Wall time: 5.72 µs\n"
     ]
    }
   ],
   "source": [
    "if __name__ == \"__main__\":\n",
    "    s = Solution()\n",
    "    root2 = TreeNode(1,TreeNode(2,TreeNode(4)),TreeNode(3,None,TreeNode(5)))\n",
    "    %time assert s.zigzagLevelOrder(root2) == [[1],[3,2],[4,5]]\n",
    "    \n",
    "    root1 = TreeNode(3,TreeNode(9),TreeNode(20,TreeNode(15),TreeNode(7)))\n",
    "    %time assert s.zigzagLevelOrder(root1) == [[3],[20,9],[15,7]]\n",
    "\n",
    "    %time assert s.zigzagLevelOrder(TreeNode(1)) == [[1]]\n",
    "\n",
    "    %time assert s.zigzagLevelOrder(None) == []"
   ]
  }
 ],
 "metadata": {
  "interpreter": {
   "hash": "f3897d38dc41ff7c1eec30275d3ba6d8e8caf81732cedae805b00463b87ecdf6"
  },
  "kernelspec": {
   "display_name": "Python 3.10.4 ('.venv': venv)",
   "language": "python",
   "name": "python3"
  },
  "language_info": {
   "codemirror_mode": {
    "name": "ipython",
    "version": 3
   },
   "file_extension": ".py",
   "mimetype": "text/x-python",
   "name": "python",
   "nbconvert_exporter": "python",
   "pygments_lexer": "ipython3",
   "version": "3.10.4"
  },
  "orig_nbformat": 4
 },
 "nbformat": 4,
 "nbformat_minor": 2
}
