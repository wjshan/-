{
 "cells": [
  {
   "cell_type": "markdown",
   "metadata": {},
   "source": [
    "---\n",
    "title: 473. 火柴拼正方形\n",
    "---\n",
    "# [473. 火柴拼正方形](https://leetcode.cn/problems/matchsticks-to-square/){:target=\"_blank\"}\n",
    "## 题干\n",
    "你将得到一个整数数组`matchsticks`,其中`matchsticks[i]`是第`i`个火柴棒的长度.你要用**所有的火柴棍**拼成一个正方形.你**不能这段**任何一根火柴棒,但你可以把它们连在一起,而且每根火柴必须**使用一次**.\n",
    "\n",
    "如果你能拼出正方形,则返回`true`,否则返回`false`.\n",
    "## 示例\n",
    "### 示例 1\n",
    "![](/assets/images/473.%20火柴拼正方形/2022-06-01-09-48-41.png)\n",
    "```\n",
    "输入: matchsticks = [1,1,2,2,2]\n",
    "输出: true\n",
    "解释: 能拼成一个边长为2的正方形，每边两根火柴。\n",
    "```\n",
    "### 示例 2\n",
    "```\n",
    "输入: matchsticks = [3,3,3,3,4]\n",
    "输出: false\n",
    "解释: 不能用所有火柴拼成一个正方形。\n",
    "```\n",
    "## 提示\n",
    "- $1<=matchchsticks.length <= 15$\n",
    "- $1<=matchsticks[i]<=10^8$"
   ]
  },
  {
   "cell_type": "markdown",
   "metadata": {},
   "source": [
    "## 题解"
   ]
  },
  {
   "cell_type": "code",
   "execution_count": 1,
   "metadata": {},
   "outputs": [],
   "source": [
    "from typing import List"
   ]
  },
  {
   "cell_type": "markdown",
   "metadata": {},
   "source": [
    "### 凑正方形的边长\n",
    "依据条件:\n",
    "1. 每根火柴棒都需要被**使用一次**\n",
    "2. 火柴棒不能折断\n",
    "3. 火柴棒的长度为整数\n",
    "\n",
    "因此,数组内所有整数的和为正方形的周长$c=\\sum\\limits_{i=0}^m{matchsticks[i]}$,因此边长为$\\frac{c}{4}$.\n",
    "\n",
    "自此,此问题转换为,使用一个或若干个整数相加得到正方形的边长.\n",
    "\n"
   ]
  },
  {
   "cell_type": "code",
   "execution_count": 27,
   "metadata": {},
   "outputs": [],
   "source": [
    "class Solution:\n",
    "    def makesquare(self, matchsticks: List[int]) -> bool:\n",
    "        length = len(matchsticks)\n",
    "        if length<4:\n",
    "            return False\n",
    "        c = sum(matchsticks)\n",
    "        if c%4: # 边长不是整数,肯定不能组成正方形\n",
    "            return False\n",
    "        side = c//4\n",
    "        dp = [-1]*(1<<length)\n",
    "        dp[0]=0\n",
    "        for i in range(1,len(dp)):\n",
    "            for k,v in enumerate(matchsticks):\n",
    "                if i & (1<<k)==0:\n",
    "                    continue\n",
    "                b = i-(1<<k)\n",
    "                last_dp = dp[i-(1<<k)]\n",
    "                if last_dp>=0 and last_dp+v<=side:\n",
    "                    dp[i] = (last_dp+v)%side\n",
    "                    break\n",
    "        return dp[-1]==0"
   ]
  },
  {
   "cell_type": "code",
   "execution_count": 29,
   "metadata": {},
   "outputs": [
    {
     "name": "stdout",
     "output_type": "stream",
     "text": [
      "CPU times: user 16.5 ms, sys: 514 µs, total: 17 ms\n",
      "Wall time: 16.7 ms\n",
      "CPU times: user 58 µs, sys: 4 µs, total: 62 µs\n",
      "Wall time: 65.1 µs\n",
      "CPU times: user 91 µs, sys: 0 ns, total: 91 µs\n",
      "Wall time: 93 µs\n"
     ]
    }
   ],
   "source": [
    "if __name__ == \"__main__\":\n",
    "    s = Solution()\n",
    "    %time assert s.makesquare([5,5,5,5,4,4,4,4,3,3,3,3]) is True\n",
    "    %time assert s.makesquare([1,1,2,2,2]) is True\n",
    "    %time assert s.makesquare([3,3,3,3,4]) is False"
   ]
  }
 ],
 "metadata": {
  "interpreter": {
   "hash": "f3897d38dc41ff7c1eec30275d3ba6d8e8caf81732cedae805b00463b87ecdf6"
  },
  "kernelspec": {
   "display_name": "Python 3.10.4 ('.venv': venv)",
   "language": "python",
   "name": "python3"
  },
  "language_info": {
   "codemirror_mode": {
    "name": "ipython",
    "version": 3
   },
   "file_extension": ".py",
   "mimetype": "text/x-python",
   "name": "python",
   "nbconvert_exporter": "python",
   "pygments_lexer": "ipython3",
   "version": "3.10.4"
  },
  "orig_nbformat": 4
 },
 "nbformat": 4,
 "nbformat_minor": 2
}
