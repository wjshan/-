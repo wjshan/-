{
 "cells": [
  {
   "cell_type": "markdown",
   "metadata": {},
   "source": [
    "---\n",
    "title: 1022. 从根到叶的二进制数之和\n",
    "---\n",
    "\n",
    "# [1022. 从根到叶的二进制数之和](https://leetcode.cn/problems/sum-of-root-to-leaf-binary-numbers/){:target=\"_blank\"}\n",
    "\n",
    "## 题干\n",
    "\n",
    "给出一颗二叉树,其上每个节点的值都是`0`或者`1`.每一条从根到叶的路径都代表一个从最高有效位开始的二进制数.\n",
    "\n",
    "- 例如,如果路径为`0 -> 1 -> 1 -> 0 -> 1`,那么它表示二进制数`01101`,也就是`13`\n",
    "  \n",
    "## 示例\n",
    "### 示例 1:\n",
    "![](/assets/images/1022.%20从根到叶的二进制数之和/2022-05-30-13-52-33.png)\n",
    "\n",
    "```\n",
    "输入：root = [1,0,1,0,1,0,1]\n",
    "输出：22\n",
    "解释：(100) + (101) + (110) + (111) = 4 + 5 + 6 + 7 = 22\n",
    "```\n",
    "\n",
    "### 示例 2:\n",
    "```\n",
    "输入：root = [0]\n",
    "输出：0\n",
    "```"
   ]
  },
  {
   "cell_type": "markdown",
   "metadata": {},
   "source": [
    "## 题解\n"
   ]
  },
  {
   "cell_type": "code",
   "execution_count": 1,
   "metadata": {},
   "outputs": [],
   "source": [
    "# Definition for a binary tree node.\n",
    "from typing import Optional\n",
    "\n",
    "class TreeNode:\n",
    "    def __init__(self, val=0, left=None, right=None):\n",
    "        self.val = val\n",
    "        self.left = left\n",
    "        self.right = right"
   ]
  },
  {
   "cell_type": "markdown",
   "metadata": {},
   "source": [
    "### 深度优先遍历\n",
    "从二进制数转为十进制数的公式$n_n*2^n+n_{n-1}*2^{n}+\\dotsc+n_01$,因此我们可以使用深度优先遍历中的前序遍历.\n",
    "\n",
    "1. 需要注意当节点走到叶子节点时,防止重复累加不存在的左右节点"
   ]
  },
  {
   "cell_type": "code",
   "execution_count": 36,
   "metadata": {},
   "outputs": [],
   "source": [
    "class Solution:\n",
    "    def sumRootToLeaf(self, root: Optional[TreeNode]) -> int:\n",
    "        def dfs(node,parent_value=0):\n",
    "            if not node:\n",
    "                return 0\n",
    "            sub_parent = (parent_value<<1)+node.val\n",
    "            if not (node.left or node.right):\n",
    "                return sub_parent\n",
    "            return  dfs(node.left,sub_parent)+dfs(node.right,sub_parent)\n",
    "        return dfs(root,0)\n",
    "        "
   ]
  },
  {
   "cell_type": "code",
   "execution_count": 37,
   "metadata": {},
   "outputs": [
    {
     "name": "stdout",
     "output_type": "stream",
     "text": [
      "CPU times: user 10 µs, sys: 0 ns, total: 10 µs\n",
      "Wall time: 11.7 µs\n",
      "CPU times: user 3 µs, sys: 1e+03 ns, total: 4 µs\n",
      "Wall time: 5.01 µs\n"
     ]
    }
   ],
   "source": [
    "if __name__ == \"__main__\":\n",
    "    s = Solution()\n",
    "    %time assert s.sumRootToLeaf(TreeNode(1,TreeNode(0,TreeNode(0),TreeNode(1)),TreeNode(1,TreeNode(0),TreeNode(1)))) == 22\n",
    "    %time assert s.sumRootToLeaf(TreeNode(0)) == 0"
   ]
  }
 ],
 "metadata": {
  "interpreter": {
   "hash": "f3897d38dc41ff7c1eec30275d3ba6d8e8caf81732cedae805b00463b87ecdf6"
  },
  "kernelspec": {
   "display_name": "Python 3.10.4 ('.venv': venv)",
   "language": "python",
   "name": "python3"
  },
  "language_info": {
   "codemirror_mode": {
    "name": "ipython",
    "version": 3
   },
   "file_extension": ".py",
   "mimetype": "text/x-python",
   "name": "python",
   "nbconvert_exporter": "python",
   "pygments_lexer": "ipython3",
   "version": "3.10.4"
  },
  "orig_nbformat": 4
 },
 "nbformat": 4,
 "nbformat_minor": 2
}
