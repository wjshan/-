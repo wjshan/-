{
 "cells": [
  {
   "cell_type": "markdown",
   "metadata": {},
   "source": [
    "---\n",
    "title: 654. 最大二叉树\n",
    "---\n",
    "\n",
    "# [654. 最大二叉树](https://leetcode.cn/problems/maximum-binary-tree/){:target=\"_blank\"}\n",
    "\n",
    "## 题干\n",
    "\n",
    "给定一个不重复的整数数组`nums`.**最大二叉树**可以用下面的算法从`nums`递归地构建:\n",
    "\n",
    "1. 创建一个根节点,其值为`nums`中的最大值.\n",
    "2. 递归地在最大值**左边**的**子数组前缀上**构建左子树\n",
    "3. 递归地在最大值**右边**的**子数组前缀上**构建右子树\n",
    "\n",
    "返回`nums` *侯建的* **最大二叉树**\n",
    "\n",
    "## 示例\n",
    "\n",
    "### 示例 1\n",
    "\n",
    "![](/assets/images/654.%20最大二叉树/2022-08-30-14-16-50.png)\n",
    "\n",
    "```\n",
    "输入：nums = [3,2,1,6,0,5]\n",
    "输出：[6,3,5,null,2,0,null,null,1]\n",
    "解释：递归调用如下所示：\n",
    "- [3,2,1,6,0,5] 中的最大值是 6 ，左边部分是 [3,2,1] ，右边部分是 [0,5] 。\n",
    "    - [3,2,1] 中的最大值是 3 ，左边部分是 [] ，右边部分是 [2,1] 。\n",
    "        - 空数组，无子节点。\n",
    "        - [2,1] 中的最大值是 2 ，左边部分是 [] ，右边部分是 [1] 。\n",
    "            - 空数组，无子节点。\n",
    "            - 只有一个元素，所以子节点是一个值为 1 的节点。\n",
    "    - [0,5] 中的最大值是 5 ，左边部分是 [0] ，右边部分是 [] 。\n",
    "        - 只有一个元素，所以子节点是一个值为 0 的节点。\n",
    "        - 空数组，无子节点。\n",
    "\n",
    "```\n",
    "\n",
    "### 示例 2\n",
    "\n",
    "![](/assets/images/654.%20最大二叉树/2022-08-30-14-17-42.png)\n",
    "\n",
    "```\n",
    "输入：nums = [3,2,1]\n",
    "输出：[3,null,2,null,1]\n",
    "```\n",
    "\n",
    "## 提示\n",
    "\n",
    "- $ 1 \\le nums.length \\le 1000 $\n",
    "- $ 0 \\le nums[i] \\le 1000 $\n",
    "- `nums` 中所有的整数**互不相同**\n",
    "\n",
    "## 题解"
   ]
  },
  {
   "cell_type": "code",
   "execution_count": 1,
   "metadata": {},
   "outputs": [],
   "source": [
    "from typing import List,Optional\n",
    "\n",
    "# Definition for a binary tree node.\n",
    "class TreeNode:\n",
    "    def __init__(self, val=0, left=None, right=None):\n",
    "        self.val = val\n",
    "        self.left = left\n",
    "        self.right = right"
   ]
  },
  {
   "cell_type": "markdown",
   "metadata": {},
   "source": [
    "### 递归\n",
    "\n",
    "根据题干中的描述构造递归函数\n",
    "\n",
    "**时间复杂度**: $O(n^2)$每次递归需要$O(n)$的时间找出最大值重复`n`次\n",
    "\n",
    "**空间复杂度**: $O(n)$递归栈的深度\n",
    "\n",
    "\n",
    "![](/assets/images/654.%20最大二叉树/2022-08-30-14-29-56.png)"
   ]
  },
  {
   "cell_type": "code",
   "execution_count": 2,
   "metadata": {},
   "outputs": [],
   "source": [
    "class Solution:\n",
    "    def constructMaximumBinaryTree(self, nums: List[int]) -> Optional[TreeNode]:\n",
    "        if not nums:\n",
    "            return None\n",
    "        max_index = max_num = 0\n",
    "        for i, num in enumerate(nums):\n",
    "            if num>max_num:\n",
    "                max_num = num\n",
    "                max_index = i\n",
    "        return TreeNode(\n",
    "            val=max_num,\n",
    "            left= self.constructMaximumBinaryTree(nums[:max_index]),\n",
    "            right= self.constructMaximumBinaryTree(nums[max_index+1:])\n",
    "            )"
   ]
  },
  {
   "cell_type": "code",
   "execution_count": 4,
   "metadata": {},
   "outputs": [],
   "source": [
    "if __name__ == \"__main__\":\n",
    "    s = Solution()\n",
    "    a = s.constructMaximumBinaryTree([3,2,1,6,0,5])\n",
    "    b = s.constructMaximumBinaryTree([3,2,1])"
   ]
  }
 ],
 "metadata": {
  "kernelspec": {
   "display_name": "Python 3.10.4 ('.venv': venv)",
   "language": "python",
   "name": "python3"
  },
  "language_info": {
   "codemirror_mode": {
    "name": "ipython",
    "version": 3
   },
   "file_extension": ".py",
   "mimetype": "text/x-python",
   "name": "python",
   "nbconvert_exporter": "python",
   "pygments_lexer": "ipython3",
   "version": "3.10.4"
  },
  "orig_nbformat": 4,
  "vscode": {
   "interpreter": {
    "hash": "f3897d38dc41ff7c1eec30275d3ba6d8e8caf81732cedae805b00463b87ecdf6"
   }
  }
 },
 "nbformat": 4,
 "nbformat_minor": 2
}
