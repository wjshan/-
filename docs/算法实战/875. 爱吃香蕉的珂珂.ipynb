{
 "cells": [
  {
   "cell_type": "markdown",
   "metadata": {},
   "source": [
    "---\n",
    "title: 875. 爱吃香蕉的珂珂\n",
    "---\n",
    "# [875. 爱吃香蕉的珂珂](https://leetcode.cn/problems/koko-eating-bananas/){:target=\"_blank\"}\n",
    "## 题干\n",
    "珂珂喜欢吃香蕉.这里有`n`堆香蕉,第`i`堆中有`piles[i]`根香蕉.警卫已经离开,将在`h`小时后回来.\n",
    "\n",
    "珂珂可以决定她吃香蕉的速度`h`(单位:根/小时).每个小时,她将会选择一堆香蕉,从中吃掉`k`根.如果这对香蕉少于`k`根,她将吃掉这堆的所有香蕉,然后这一小时内不会再吃更多的香蕉.\n",
    "\n",
    "珂珂喜欢慢慢吃,但任然想在警卫回来前吃掉所有的香蕉.\n",
    "\n",
    "返回她可以再`h`小时内吃掉所有香蕉的最小速度`k`(`k`为整数)\n",
    "## 示例\n",
    "### 示例 1\n",
    "```\n",
    "输入：piles = [3,6,7,11], h = 8\n",
    "输出：4\n",
    "```\n",
    "### 示例 2\n",
    "```\n",
    "输入：piles = [30,11,23,4,20], h = 5\n",
    "输出：30\n",
    "```\n",
    "### 示例 3\n",
    "```\n",
    "输入：piles = [30,11,23,4,20], h = 6\n",
    "输出：23\n",
    "```\n",
    "## 提示\n",
    "- $1 \\le piles.length \\le 10^4$\n",
    "- $piles.length \\le h \\le 10^9$\n",
    "- $1 \\le piles[i] \\le 10^9$"
   ]
  },
  {
   "cell_type": "markdown",
   "metadata": {},
   "source": [
    "## 题解\n"
   ]
  },
  {
   "cell_type": "code",
   "execution_count": 1,
   "metadata": {},
   "outputs": [],
   "source": [
    "from typing import List"
   ]
  },
  {
   "cell_type": "markdown",
   "metadata": {},
   "source": [
    "### 二分法\n",
    "\n",
    "根据题意,假设我们找到一个最佳的速度`s`,如果速度大于`s`则珂珂必然能在规定时间内吃完香蕉,反之速度小于`s`则珂珂必然不能再规定时间内吃完香蕉.\n",
    "\n",
    "因此这个速度存在**单调性**,我们可以通过二分法解决此问题.\n",
    "\n",
    "我们假定要求在`h`小时内吃完全部香蕉,因此我们可以得出,平均每个香蕉堆的用时为$average_hours = \\frac{h}{piles.length}$.\n",
    "然后就可以得出最大的速度$max_speed=\\frac{max(piles)}{average_hours}$,最小速度$min_speed=\\frac{min(piles)}{average_hours}$.\n",
    "\n",
    "这个最大速度和最小速度是一个粗略的范围,需要向上取整.其实际意义是限制二分法的取值范围.最大速度其实大致是合理的值,但是如果我们取最小速度,则用时基本会超出`h`.\n",
    "\n",
    "如果我们将最小值取零也是可以的.\n",
    "\n",
    "每次判断二分的数时,需要计算`piles`中的全部元素是否符合条件$\\displaystyle O(n)$.二分法的时间复杂度为$O(\\log{m})$.其中m为piles中的最大值\n",
    "因此总的时间复杂度为$O(n\\log{m})$,空间复杂度为$O(1)$"
   ]
  },
  {
   "cell_type": "code",
   "execution_count": 8,
   "metadata": {},
   "outputs": [],
   "source": [
    "class Solution:\n",
    "    def minEatingSpeed(self, piles: List[int], h: int) -> int:\n",
    "        n = len(piles)\n",
    "        average_hours = h//n\n",
    "        def ceil(v1,v2):\n",
    "            res = v1//v2\n",
    "            if v1%v2:\n",
    "                res+=1\n",
    "            return res\n",
    "        max_speed=float(\"-inf\")\n",
    "        min_speed=float(\"inf\")\n",
    "        # 取最大和最小速度,不一定是正确的速度范围,只需要求一个大概\n",
    "        for p in piles:\n",
    "            current_speed =ceil(p,average_hours)\n",
    "            if current_speed>max_speed:\n",
    "                max_speed = current_speed\n",
    "            if current_speed < min_speed:\n",
    "                min_speed = current_speed\n",
    "        left = min_speed\n",
    "        right = max_speed\n",
    "        while left<right:\n",
    "            middle = (left+right)//2\n",
    "            total_hours = sum(ceil(x,middle) for x in piles)\n",
    "            if total_hours<=h:\n",
    "                right = middle\n",
    "            else:\n",
    "                left = middle+1\n",
    "        return left\n",
    "        "
   ]
  },
  {
   "cell_type": "code",
   "execution_count": 12,
   "metadata": {},
   "outputs": [
    {
     "ename": "AssertionError",
     "evalue": "",
     "output_type": "error",
     "traceback": [
      "\u001b[0;31m---------------------------------------------------------------------------\u001b[0m",
      "\u001b[0;31mAssertionError\u001b[0m                            Traceback (most recent call last)",
      "File \u001b[0;32m<timed exec>:1\u001b[0m, in \u001b[0;36m<module>\u001b[0;34m\u001b[0m\n",
      "\u001b[0;31mAssertionError\u001b[0m: "
     ]
    },
    {
     "name": "stdout",
     "output_type": "stream",
     "text": [
      "CPU times: user 74 µs, sys: 1e+03 ns, total: 75 µs\n",
      "Wall time: 77.2 µs\n",
      "CPU times: user 93 µs, sys: 0 ns, total: 93 µs\n",
      "Wall time: 93.9 µs\n",
      "CPU times: user 110 µs, sys: 0 ns, total: 110 µs\n",
      "Wall time: 112 µs\n"
     ]
    }
   ],
   "source": [
    "if __name__ == \"__main__\":\n",
    "    s = Solution()\n",
    "    %time assert s.minEatingSpeed([312884470],968709470) == 78221117\n",
    "    %time assert s.minEatingSpeed([3,6,7,11],8) == 4\n",
    "    %time assert s.minEatingSpeed([30,11,23,4,20],5) == 30\n",
    "    %time assert s.minEatingSpeed([30,11,23,4,20],6) == 23"
   ]
  }
 ],
 "metadata": {
  "interpreter": {
   "hash": "f3897d38dc41ff7c1eec30275d3ba6d8e8caf81732cedae805b00463b87ecdf6"
  },
  "kernelspec": {
   "display_name": "Python 3.10.4 ('.venv': venv)",
   "language": "python",
   "name": "python3"
  },
  "language_info": {
   "codemirror_mode": {
    "name": "ipython",
    "version": 3
   },
   "file_extension": ".py",
   "mimetype": "text/x-python",
   "name": "python",
   "nbconvert_exporter": "python",
   "pygments_lexer": "ipython3",
   "version": "3.10.4"
  },
  "orig_nbformat": 4
 },
 "nbformat": 4,
 "nbformat_minor": 2
}
