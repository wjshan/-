{
 "cells": [
  {
   "cell_type": "markdown",
   "metadata": {},
   "source": [
    "---\n",
    "title: 450. 删除二叉搜索树中的节点\n",
    "---\n",
    "# [450. 删除二叉搜索树中的节点](https://leetcode.cn/problems/delete-node-in-a-bst/){:target=\"_blank\"}\n",
    "## 题干\n",
    "给定一个二叉搜索树的更节点**root**和一个值**key**,删除二叉搜索树中的**key**对应的节点,并保证二叉搜索树的性质不变.范湖二叉搜索树(有可能呗更新)的根节点的引用.\n",
    "\n",
    "一般般来说,删除节点可以分为两个步骤:\n",
    "1. 首先找到需要删除的节点\n",
    "2. 如果找到了,删除它.\n",
    "\n",
    "## 示例\n",
    "### 示例 1\n",
    "![](/assets/images/450.%20删除二叉搜索树中的节点/2022-06-02-14-39-04.png)\n",
    "```\n",
    "输入：root = [5,3,6,2,4,null,7], key = 3\n",
    "输出：[5,4,6,2,null,null,7]\n",
    "解释：给定需要删除的节点值是 3，所以我们首先找到 3 这个节点，然后删除它。\n",
    "一个正确的答案是 [5,4,6,2,null,null,7], 如下图所示。\n",
    "另一个正确答案是 [5,2,6,null,4,null,7]。\n",
    "```\n",
    "![](/assets/images/450.%20删除二叉搜索树中的节点/2022-06-02-14-39-37.png)\n",
    "### 示例 2\n",
    "```\n",
    "输入: root = [5,3,6,2,4,null,7], key = 0\n",
    "输出: [5,3,6,2,4,null,7]\n",
    "解释: 二叉树不包含值为 0 的节点\n",
    "```\n",
    "### 示例 3\n",
    "```\n",
    "输入: root = [], key = 0\n",
    "输出: []\n",
    "```\n",
    "## 提示\n",
    "- 节点数的范围$[0, 10^4]$\n",
    "- $-10^5 <= Node.val <= 10^5$\n",
    "- 节点值唯一\n",
    "- `root`是合法的二叉搜索树\n",
    "- $-10^5 <= key <= 10^5$"
   ]
  },
  {
   "cell_type": "markdown",
   "metadata": {},
   "source": [
    "## 题解"
   ]
  },
  {
   "cell_type": "code",
   "execution_count": 1,
   "metadata": {},
   "outputs": [],
   "source": [
    "from typing import Optional\n",
    "class TreeNode:\n",
    "    def __init__(self, val=0, left=None, right=None):\n",
    "        self.val = val\n",
    "        self.left = left\n",
    "        self.right = right"
   ]
  },
  {
   "cell_type": "markdown",
   "metadata": {},
   "source": [
    "### 二叉搜索数\n",
    "根据二叉搜索树的特性:\n",
    "1. 左节点小于根节点\n",
    "2. 右节点大于根节点\n",
    "\n",
    "当一个节点被删除时应该执行的操作用来保证结果还是二叉搜索树:\n",
    "1. **被删除的是根节点**:将其右子树的根节点作为根节点,并将其左子树放入右子树最左侧叶子节点的左节点.\n",
    "2. **被删除的是子节点**:子节点*只包含左节点或者右节点*时,将下属节点上提.同时包含左节点和右节点,如果选择将左节点上提,则右节点需要作为左节点最右叶子节点的右节点\n",
    "   如果选择将右节点上提,则左节点需要作为右节点最左叶子节点的左节点.如果被删除的是叶子节点,则只需将节点删除\n"
   ]
  },
  {
   "cell_type": "code",
   "execution_count": 2,
   "metadata": {},
   "outputs": [],
   "source": [
    "class Solution:\n",
    "    def deleteNode(self, root: Optional[TreeNode], key: int) -> Optional[TreeNode]:\n",
    "        current_node = root\n",
    "        parent_node = None\n",
    "        while current_node:\n",
    "            if current_node.val == key: # 命中当前节点\n",
    "                break\n",
    "            parent_node = current_node\n",
    "            if current_node.val > key: # key小于当前值,需要从当前左子树中查找\n",
    "                current_node=current_node.left\n",
    "            else: # key大于当前值,需要从右子树中查找\n",
    "                current_node = current_node.right\n",
    "        if not current_node: # 未命中任何节点\n",
    "            return root\n",
    "\n",
    "        subtree = current_node\n",
    "        if subtree.left and subtree.right:\n",
    "            left_leaf = subtree.right\n",
    "            while left_leaf.left: # 查找左叶子节点\n",
    "                left_leaf = left_leaf.left\n",
    "            left_leaf.left = subtree.left\n",
    "            subtree = subtree.right # 将右节点上移\n",
    "        else:\n",
    "            subtree = subtree.left or subtree.right\n",
    "        if parent_node is None:\n",
    "            return subtree\n",
    "        if current_node==parent_node.left:\n",
    "            parent_node.left = subtree\n",
    "        else:\n",
    "            parent_node.right = subtree\n",
    "        return root\n",
    "            \n",
    "            \n",
    "        "
   ]
  },
  {
   "cell_type": "code",
   "execution_count": 13,
   "metadata": {},
   "outputs": [
    {
     "name": "stdout",
     "output_type": "stream",
     "text": [
      "[5, 4, 6, 2, None, None, 7, None, None, None, None]\n"
     ]
    }
   ],
   "source": [
    "from queue import Queue\n",
    "def bfs(node):\n",
    "    q = Queue()\n",
    "    q.put(node)\n",
    "    ans = []\n",
    "    while not q.empty():\n",
    "        n = q.get()\n",
    "        if n is None:\n",
    "            ans.append(None)\n",
    "            continue\n",
    "        ans.append(n.val)\n",
    "        q.put(n.left)\n",
    "        q.put(n.right)\n",
    "    return ans\n",
    "        \n",
    "if __name__ == \"__main__\":\n",
    "    s = Solution()\n",
    "    a1 = s.deleteNode(TreeNode(5,TreeNode(3,TreeNode(2),TreeNode(4)),TreeNode(6,None,TreeNode(7))),3)\n",
    "    print(bfs(a1))\n",
    "    \n",
    "    "
   ]
  }
 ],
 "metadata": {
  "interpreter": {
   "hash": "f3897d38dc41ff7c1eec30275d3ba6d8e8caf81732cedae805b00463b87ecdf6"
  },
  "kernelspec": {
   "display_name": "Python 3.10.4 ('.venv': venv)",
   "language": "python",
   "name": "python3"
  },
  "language_info": {
   "codemirror_mode": {
    "name": "ipython",
    "version": 3
   },
   "file_extension": ".py",
   "mimetype": "text/x-python",
   "name": "python",
   "nbconvert_exporter": "python",
   "pygments_lexer": "ipython3",
   "version": "3.10.4"
  },
  "orig_nbformat": 4
 },
 "nbformat": 4,
 "nbformat_minor": 2
}
