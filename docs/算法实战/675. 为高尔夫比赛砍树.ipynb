{
 "cells": [
  {
   "cell_type": "markdown",
   "metadata": {},
   "source": [
    "\n",
    "# [675. 为高尔夫比赛砍树](https://leetcode.cn/problems/cut-off-trees-for-golf-event/){:target=\"_blank\"}\n",
    "\n",
    "## 题干\n",
    "你被请来给一个要举办高尔夫比赛的树林砍树。树林由一个`m x n`的矩阵表示， 在这个矩阵中：\n",
    "\n",
    "- `0`表示障碍,无法触碰.\n",
    "- `1`表示地面,可以行走.\n",
    "- `比1大的数`表示有树的单元格,可以行走,数值表示树的高度\n",
    "\n",
    "每一步，你都可以向上、下、左、右四个方向之一移动一个单位，如果你站的地方有一棵树，那么你可以决定是否要砍倒它。\n",
    "\n",
    "你需要**按照树的高度从低向高**砍掉所有的树，每砍过一颗树，该单元格的值变为 `1`（即变为地面）。\n",
    "\n",
    "你将从 `(0, 0)` 点开始工作，返回你砍完所有树需要走的最小步数。 如果你无法砍完所有的树，返回 `-1` 。\n",
    "\n",
    "可以保证的是，没有两棵树的高度是相同的，并且你至少需要砍倒一棵树。\n",
    "\n",
    "### 示例\n",
    "\n",
    "#### 示例 1\n",
    "![](https://assets.leetcode.com/uploads/2020/11/26/trees1.jpg)\n",
    "```\n",
    "输入：forest = [[1,2,3],[0,0,4],[7,6,5]]\n",
    "输出：6\n",
    "解释：沿着上面的路径，你可以用 6 步，按从最矮到最高的顺序砍掉这些树。\n",
    "```\n",
    "\n",
    "#### 示例 2\n",
    "![](https://assets.leetcode.com/uploads/2020/11/26/trees2.jpg)\n",
    "```\n",
    "输入：forest = [[1,2,3],[0,0,0],[7,6,5]]\n",
    "输出：-1\n",
    "解释：由于中间一行被障碍阻塞，无法访问最下面一行中的树。\n",
    "```\n",
    "\n",
    "#### 示例 3\n",
    "```\n",
    "输入：forest = [[2,3,4],[0,0,5],[8,7,6]]\n",
    "输出：6\n",
    "解释：可以按与示例 1 相同的路径来砍掉所有的树。\n",
    "(0,0) 位置的树，可以直接砍去，不用算步数。\n",
    "```\n",
    "\n",
    "### 提示\n",
    "- $m == forest.length$\n",
    "- $n == forest[i].length$\n",
    "- $1 \\le m, n \\le 50$\n",
    "- $0 \\le forest[i][j] \\le 10^9$\n"
   ]
  },
  {
   "cell_type": "markdown",
   "metadata": {},
   "source": [
    "## 题解\n"
   ]
  },
  {
   "cell_type": "code",
   "execution_count": 1,
   "metadata": {},
   "outputs": [],
   "source": [
    "from typing import List"
   ]
  },
  {
   "cell_type": "markdown",
   "metadata": {},
   "source": [
    "### 广度优先搜索\n"
   ]
  },
  {
   "cell_type": "code",
   "execution_count": null,
   "metadata": {},
   "outputs": [],
   "source": [
    "class Solution:\n",
    "    def cutOffTree(self, forest: List[List[int]]) -> int:\n",
    "        pass"
   ]
  },
  {
   "cell_type": "code",
   "execution_count": null,
   "metadata": {},
   "outputs": [],
   "source": [
    "s = Solution()\n",
    "%time assert s.cutOffTree([[1,2,3],[0,0,4],[7,6,5]]) == 6\n",
    "%time assert s.cutOffTree([[1,2,3],[0,0,0],[7,6,5]]) == -1\n",
    "%time assert s.cutOffTree([[2,3,4],[0,0,5],[8,7,6]]) == 6"
   ]
  }
 ],
 "metadata": {
  "interpreter": {
   "hash": "f3897d38dc41ff7c1eec30275d3ba6d8e8caf81732cedae805b00463b87ecdf6"
  },
  "kernelspec": {
   "display_name": "Python 3.10.4 ('.venv': venv)",
   "language": "python",
   "name": "python3"
  },
  "language_info": {
   "codemirror_mode": {
    "name": "ipython",
    "version": 3
   },
   "file_extension": ".py",
   "mimetype": "text/x-python",
   "name": "python",
   "nbconvert_exporter": "python",
   "pygments_lexer": "ipython3",
   "version": "3.10.4"
  },
  "orig_nbformat": 4
 },
 "nbformat": 4,
 "nbformat_minor": 2
}
