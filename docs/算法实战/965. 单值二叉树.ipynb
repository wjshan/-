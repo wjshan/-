{
 "cells": [
  {
   "cell_type": "markdown",
   "metadata": {
    "collapsed": false,
    "pycharm": {
     "name": ""
    }
   },
   "source": [
    "---\n",
    "title: 965. 单值二叉树\n",
    "---\n",
    "\n",
    "# [965. 单值二叉树](https://leetcode.cn/problems/univalued-binary-tree/){:target=\"_blank\"}\n",
    "\n",
    "## 题干\n",
    "如果二叉树每个节点都具有相同的值，那么该二叉树就是单值二叉树。\n",
    "\n",
    "只有给定的树是单值二叉树时，才返回 `true`:否则返回 `false`.\n",
    "\n",
    "## 示例\n",
    "### 示例 1\n",
    "~[](https://assets.leetcode-cn.com/aliyun-lc-upload/uploads/2018/12/29/screen-shot-2018-12-25-at-50104-pm.png)\n",
    "```\n",
    "输入：[1,1,1,1,1,null,1]\n",
    "输出: true\n",
    "```\n",
    "\n",
    "### 示例 2\n",
    "![](https://assets.leetcode-cn.com/aliyun-lc-upload/uploads/2018/12/29/screen-shot-2018-12-25-at-50050-pm.png)\n",
    "\n",
    "```\n",
    "输入：[2,2,2,5,2]\n",
    "输出: false\n",
    "```\n",
    "\n",
    "## 提示\n",
    "\n",
    "- 给定树的节点数范围是 [1, 100]。\n",
    "- 每个节点的值都是整数，范围为 [0, 99] 。"
   ]
  },
  {
   "cell_type": "markdown",
   "metadata": {},
   "source": [
    "## 题解"
   ]
  },
  {
   "cell_type": "code",
   "execution_count": 17,
   "metadata": {
    "collapsed": false,
    "pycharm": {
     "name": "#%%\n"
    }
   },
   "outputs": [
    {
     "name": "stdout",
     "output_type": "stream",
     "text": [
      "        -> 1\n",
      "    -> 1\n",
      "-> 1\n",
      "        -> 1\n",
      "    -> 1\n",
      "        -> 1\n",
      "-----\n",
      "    -> 2\n",
      "-> 2\n",
      "        -> 2\n",
      "    -> 2\n",
      "        -> 5\n"
     ]
    }
   ],
   "source": [
    "from typing import List\n",
    "from queue import Queue\n",
    "\n",
    "class TreeNode:\n",
    "    def __init__(self, val=0, left=None, right=None):\n",
    "        self.val = val\n",
    "        self.left = left\n",
    "        self.right = right\n",
    "\n",
    "    @classmethod\n",
    "    def resolve_from_list(cls, list_data:List[int]):\n",
    "        root = cls()\n",
    "        if list_data:\n",
    "            root.val = list_data[0]\n",
    "        queue = Queue()\n",
    "        queue.put(root)\n",
    "        m,n = len(list_data),1\n",
    "        while n<(m-1):\n",
    "            node:cls = queue.get()\n",
    "            if list_data[n] is not None:\n",
    "                node.left = cls(list_data[n])\n",
    "                queue.put(node.left)\n",
    "            if list_data[n+1] is not None:\n",
    "                node.right = cls(list_data[n+1])\n",
    "                queue.put(node.right)\n",
    "            n += 2\n",
    "        return root\n",
    "    \n",
    "    def __str__(self):\n",
    "        return str(self.val)\n",
    "\n",
    "    def print(self, level:int=0):\n",
    "        if self.right:\n",
    "            self.right.print(level+1)\n",
    "        print(' ' * 4 * level + '-> ' + str(self.val))\n",
    "        if self.left:\n",
    "            self.left.print(level+1)\n",
    "        \n",
    "    \n",
    "if __name__ == \"__main__\":\n",
    "    TreeNode.resolve_from_list([1,1,1,1,1,None,1]).print()\n",
    "    print('-----')\n",
    "    TreeNode.resolve_from_list([2,2,2,5,2]).print()\n",
    "    "
   ]
  },
  {
   "cell_type": "markdown",
   "metadata": {},
   "source": [
    "### 深度优先遍历\n",
    "\n",
    "前序/中序/后序,遍历"
   ]
  },
  {
   "cell_type": "code",
   "execution_count": 24,
   "metadata": {},
   "outputs": [],
   "source": [
    "\n",
    "class Solution:\n",
    "    def isUnivalTree(self, root: TreeNode) -> bool:\n",
    "        standard_val = root.val\n",
    "        def bfs(node:TreeNode)->bool:\n",
    "            if node is None:\n",
    "                return True\n",
    "            if node.val != standard_val:\n",
    "                return False\n",
    "            return bfs(node.left) and bfs(node.right)\n",
    "        return bfs(root)"
   ]
  },
  {
   "cell_type": "code",
   "execution_count": 25,
   "metadata": {},
   "outputs": [
    {
     "name": "stdout",
     "output_type": "stream",
     "text": [
      "CPU times: user 68 µs, sys: 0 ns, total: 68 µs\n",
      "Wall time: 71 µs\n",
      "CPU times: user 11 µs, sys: 1 µs, total: 12 µs\n",
      "Wall time: 12.9 µs\n"
     ]
    }
   ],
   "source": [
    "s = Solution()\n",
    "root1 = TreeNode.resolve_from_list([1,1,1,1,1,None,1])\n",
    "%time assert s.isUnivalTree(root1) is True\n",
    "root2 = TreeNode.resolve_from_list([2,2,2,5,2])\n",
    "%time assert s.isUnivalTree(root2) is False\n"
   ]
  }
 ],
 "metadata": {
  "interpreter": {
   "hash": "f3897d38dc41ff7c1eec30275d3ba6d8e8caf81732cedae805b00463b87ecdf6"
  },
  "kernelspec": {
   "display_name": "Python 3.10.4 ('.venv': venv)",
   "language": "python",
   "name": "python3"
  },
  "language_info": {
   "codemirror_mode": {
    "name": "ipython",
    "version": 3
   },
   "file_extension": ".py",
   "mimetype": "text/x-python",
   "name": "python",
   "nbconvert_exporter": "python",
   "pygments_lexer": "ipython3",
   "version": "3.10.4"
  }
 },
 "nbformat": 4,
 "nbformat_minor": 0
}
