{
 "cells": [
  {
   "cell_type": "markdown",
   "metadata": {},
   "source": [
    "# [961. 在长度 2N 的数组中找出重复 N 次的元素](https://leetcode.cn/problems/n-repeated-element-in-size-2n-array/){:target=\"_blank\"}\n",
    "\n",
    "## 题干\n",
    "给你一个整数数组`nums`,该数组具有一下属性:\n",
    "\n",
    "- `nums.length == 2*n`\n",
    "- `nums` 包含n+1个**不同的**元素\n",
    "- `nums`中恰有一个元素重复`n`次\n",
    "\n",
    "找出并返回重复`n`次的元素.\n",
    "### 示例\n",
    "#### 示例 1\n",
    "```\n",
    "输入：nums = [1,2,3,3]\n",
    "输出：3\n",
    "```\n",
    "#### 示例 2\n",
    "```\n",
    "输入：nums = [2,1,2,5,3,2]\n",
    "输出：2\n",
    "```\n",
    "#### 示例 3\n",
    "```\n",
    "输入：nums = [5,1,5,2,5,3,5,4]\n",
    "输出：5\n",
    "```\n",
    "\n",
    "### 提示\n",
    "\n",
    "- `2 <= n <= 5000`\n",
    "- `nums.length == 2 * n`\n",
    "- $0 <= nums[i] <= 10^4$\n",
    "- `nums`由`n + 1`个**不同的**元素组成，且其中一个元素恰好重复`n`次"
   ]
  },
  {
   "cell_type": "markdown",
   "metadata": {},
   "source": [
    "## 题解"
   ]
  },
  {
   "cell_type": "code",
   "execution_count": 1,
   "metadata": {},
   "outputs": [],
   "source": [
    "from typing import List"
   ]
  },
  {
   "cell_type": "markdown",
   "metadata": {},
   "source": [
    "### 哈希表"
   ]
  },
  {
   "cell_type": "code",
   "execution_count": 2,
   "metadata": {},
   "outputs": [],
   "source": [
    "class Solution:\n",
    "    def repeatedNTimes(self, nums: List[int]) -> int:\n",
    "        num_cache = {}\n",
    "        for num in nums:\n",
    "            if num_cache.get(num,0):\n",
    "                return num\n",
    "            num_cache[num]=1"
   ]
  },
  {
   "cell_type": "markdown",
   "metadata": {},
   "source": [
    "### 数学判断\n",
    "由于列表的长度为`2*n`且重复元素存在`n`个.那么必然存在两个重复元素相邻或者间隔一个的情况.\n",
    "假设每个重复元素之间间隔两个元素,那么列表的长度为 $n+(n-1)*2=3*n-2$,令$3*n-2=2*n$得$n=2$\n",
    "假设每个重复元素之间间隔三个元素,那么列表的长度为 $n+(n-1)*3=4*n-3$,令$4*n-3=2*n$得$n=1.5$,不满足`2 <= n <= 5000`的条件\n"
   ]
  },
  {
   "cell_type": "code",
   "execution_count": 6,
   "metadata": {},
   "outputs": [],
   "source": [
    "class Solution:\n",
    "    def repeatedNTimes(self, nums: List[int]) -> int:\n",
    "        n = len(nums)\n",
    "        for i,num in enumerate(nums):\n",
    "            for j in range(1,4):\n",
    "                if i+j >= n:\n",
    "                    break\n",
    "                if num == nums[i+j]:\n",
    "                    return num\n",
    "        return -1"
   ]
  },
  {
   "cell_type": "code",
   "execution_count": 7,
   "metadata": {},
   "outputs": [
    {
     "name": "stdout",
     "output_type": "stream",
     "text": [
      "CPU times: user 6 µs, sys: 1 µs, total: 7 µs\n",
      "Wall time: 7.87 µs\n",
      "CPU times: user 13 µs, sys: 5 µs, total: 18 µs\n",
      "Wall time: 23.1 µs\n",
      "CPU times: user 3 µs, sys: 0 ns, total: 3 µs\n",
      "Wall time: 5.96 µs\n"
     ]
    }
   ],
   "source": [
    "s = Solution()\n",
    "%time assert s.repeatedNTimes([1,2,3,3]) == 3\n",
    "%time assert s.repeatedNTimes([2,1,2,5,3,2]) == 2\n",
    "%time assert s.repeatedNTimes([5,1,5,2,5,3,5,4]) == 5\n",
    "\n"
   ]
  }
 ],
 "metadata": {
  "interpreter": {
   "hash": "f3897d38dc41ff7c1eec30275d3ba6d8e8caf81732cedae805b00463b87ecdf6"
  },
  "kernelspec": {
   "display_name": "Python 3.10.4 ('.venv': venv)",
   "language": "python",
   "name": "python3"
  },
  "language_info": {
   "codemirror_mode": {
    "name": "ipython",
    "version": 3
   },
   "file_extension": ".py",
   "mimetype": "text/x-python",
   "name": "python",
   "nbconvert_exporter": "python",
   "pygments_lexer": "ipython3",
   "version": "3.10.4"
  },
  "orig_nbformat": 4
 },
 "nbformat": 4,
 "nbformat_minor": 2
}
