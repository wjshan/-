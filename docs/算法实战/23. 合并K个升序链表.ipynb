{
 "cells": [
  {
   "cell_type": "markdown",
   "metadata": {},
   "source": [
    "---\n",
    "title: 23. 合并K个升序链表\n",
    "---\n",
    "\n",
    "# [23. 合并K个升序链表](https://leetcode.cn/problems/merge-k-sorted-lists/){:target=\"_blank\"}\n",
    "\n",
    "## 题干\n",
    "\n",
    "给你一个链表数组，每个链表都已经按升序排列。\n",
    "\n",
    "请你将所有链表合并到一个升序链表中，返回合并后的链表。\n",
    "\n",
    "## 示例\n",
    "\n",
    "### 示例 1\n",
    "\n",
    "```\n",
    "输入：lists = [[1,4,5],[1,3,4],[2,6]]\n",
    "输出：[1,1,2,3,4,4,5,6]\n",
    "解释：链表数组如下：\n",
    "[\n",
    "  1->4->5,\n",
    "  1->3->4,\n",
    "  2->6\n",
    "]\n",
    "将它们合并到一个有序链表中得到。\n",
    "1->1->2->3->4->4->5->6\n",
    "\n",
    "```\n",
    "\n",
    "### 示例 2\n",
    "\n",
    "```\n",
    "输入：lists = []\n",
    "输出：[]\n",
    "```\n",
    "\n",
    "### 示例 3\n",
    "\n",
    "```\n",
    "输入：lists = [[]]\n",
    "输出：[]\n",
    "```\n",
    "\n",
    "## 提示\n",
    "\n",
    "- $ k == lists.length $\n",
    "- $ 0 \\le k \\le 10^4 $\n",
    "- $ 0 \\le lists[i].length \\le 500 $\n",
    "- $ -10^4 \\le lists[i][j] \\le 10^4 $\n",
    "- `lists[i]` 按 **升序** 排列\n",
    "- `lists[i].length` 的总和不超过 $10^4$\n",
    "\n",
    "## 题解"
   ]
  },
  {
   "cell_type": "code",
   "execution_count": null,
   "metadata": {},
   "outputs": [],
   "source": [
    "from typing import List,Optional\n",
    "# Definition for singly-linked list.\n",
    "class ListNode:\n",
    "    def __init__(self, val=0, next=None):\n",
    "        self.val = val\n",
    "        self.next = next\n",
    "\n",
    "    def to_list(self):\n",
    "        ans = []\n",
    "        node = self\n",
    "        while node:\n",
    "            ans.append(node.val)\n",
    "            node = node.next\n",
    "        return ans\n",
    "\n",
    "    @classmethod\n",
    "    def from_list(cls,values):\n",
    "        if not values:\n",
    "            return None\n",
    "        root = cls(values[0])\n",
    "        node = root\n",
    "        for v in values[1:]:\n",
    "            node.next = cls(v)\n",
    "        return root"
   ]
  },
  {
   "cell_type": "markdown",
   "metadata": {},
   "source": [
    "### 多指针"
   ]
  },
  {
   "cell_type": "code",
   "execution_count": null,
   "metadata": {},
   "outputs": [],
   "source": [
    "class Solution:\n",
    "    def mergeKLists(self, lists: List[Optional[ListNode]]) -> Optional[ListNode]:\n",
    "        pass"
   ]
  },
  {
   "cell_type": "code",
   "execution_count": null,
   "metadata": {},
   "outputs": [],
   "source": [
    "if __name__ == \"__main__\":\n",
    "    pass"
   ]
  }
 ],
 "metadata": {
  "language_info": {
   "name": "python"
  },
  "orig_nbformat": 4
 },
 "nbformat": 4,
 "nbformat_minor": 2
}
