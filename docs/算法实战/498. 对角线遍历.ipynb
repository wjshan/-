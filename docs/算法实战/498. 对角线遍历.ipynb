{
 "cells": [
  {
   "cell_type": "markdown",
   "metadata": {},
   "source": [
    "---\n",
    "title: 498. 对角线遍历\n",
    "---\n",
    "# [498. 对角线遍历](https://leetcode.cn/problems/diagonal-traverse/){:target=\"_blank\"}\n",
    "## 题干\n",
    "给你一个大小为`m*n`的矩阵`mat`,请以对角线遍历的顺序,用一个数组返回这个矩阵中的所有元素.\n",
    "\n",
    "## 示例\n",
    "### 示例 1\n",
    "![](/assets/images/498.%20对角线遍历/2022-06-14-09-34-41.png)\n",
    "```\n",
    "输入：mat = [[1,2,3],[4,5,6],[7,8,9]]\n",
    "输出：[1,2,4,7,5,3,6,8,9]\n",
    "```\n",
    "### 示例 2\n",
    "```\n",
    "输入：mat = [[1,2],[3,4]]\n",
    "输出：[1,2,3,4]\n",
    "```\n",
    "## 提示\n",
    "\n",
    "- `m == mat.length`\n",
    "- `n == mat[i].length`\n",
    "- $1\\le  m,m \\le 10^4$\n",
    "- $1 \\le m*n \\le10^4$\n",
    "- $-10^5 \\le mat[i][j]\\le 10^5$"
   ]
  },
  {
   "cell_type": "markdown",
   "metadata": {},
   "source": [
    "## 题解"
   ]
  },
  {
   "cell_type": "code",
   "execution_count": 2,
   "metadata": {},
   "outputs": [],
   "source": [
    "from typing import List"
   ]
  },
  {
   "cell_type": "markdown",
   "metadata": {},
   "source": [
    "### 模拟实际遍历\n",
    "由对角线遍历的规则可知一个基础的坐标转换规则,即假设$f(x)=mat[i][j]$,`idx`表示向上(-1)或向下(1)遍历则$f(x+1)=mat[i+idx][i-idx]$.\n",
    "\n",
    "上面的遍历规则没有考虑边界条件,当`i,j`超过边界时`idx`翻转.翻转的坐标转换为:$\\begin{cases}\n",
    "    i=i+1 & 越过左边界 \\\\\n",
    "    i=i+1 & 越过右边界 \\\\\n",
    "    j=j+1 & 越过上边界 \\\\\n",
    "    j=j+1 & 越过下边界 \\\\\n",
    "\\end{cases}$\n",
    "\n",
    "判定边界条件为:$\\begin{cases}\n",
    "    0\\le j <n & 左右边界内 \\\\\n",
    "    0\\le i <m & 上下边界内 \\\\\n",
    "\\end{cases}$\n",
    "\n",
    "我们还需要注意一点当满足 $i<0且j\\ge n$时,我们需要将其视为超过右边界.当满足$j<0且i\\ge m$时,视为超过下边界.\n",
    "\n",
    "由此我们可以得出`i,j`的边界转换公式为:$f(i_2,j_2)=\\begin{cases}\n",
    "    i+1 & (j< 0 \\& i>0) | j\\ge n \\\\\n",
    "    j+1 & (i< 0 \\& j<n) | i\\ge m \\\\\n",
    "\\end{cases}$\n",
    "\n",
    "遍历的终止条件为$0\\le i< m \\& 0\\le j< n$"
   ]
  },
  {
   "cell_type": "code",
   "execution_count": 3,
   "metadata": {},
   "outputs": [],
   "source": [
    "class Solution:\n",
    "    def findDiagonalOrder(self, mat: List[List[int]]) -> List[int]:\n",
    "        idx=-1\n",
    "        i,j=0,0\n",
    "        m,n = len(mat),len(mat[0])\n",
    "        ans = []\n",
    "        while True:\n",
    "            if 0<=i<m and 0<=j<n:\n",
    "                ans.append(mat[i][j])\n",
    "                if i==m-1 and j==n-1:\n",
    "                    break\n",
    "            elif (i<0 and j<n) or i>=m: # 突破上下边界\n",
    "                j += 1 # 向右移动一格\n",
    "                idx=-idx\n",
    "            elif (j<0 and i>0) or j>=n: # 突破左右边界\n",
    "                i+=1 # 向下移动一格\n",
    "                idx=-idx\n",
    "            i = i + idx\n",
    "            j = j - idx\n",
    "        return ans\n",
    "            \n",
    "                \n",
    "            \n",
    "                "
   ]
  },
  {
   "cell_type": "code",
   "execution_count": 4,
   "metadata": {},
   "outputs": [
    {
     "name": "stdout",
     "output_type": "stream",
     "text": [
      "CPU times: user 257 ms, sys: 28.3 ms, total: 285 ms\n",
      "Wall time: 13.7 s\n",
      "CPU times: user 51 µs, sys: 1 µs, total: 52 µs\n",
      "Wall time: 54.8 µs\n"
     ]
    }
   ],
   "source": [
    "if __name__ == \"__main__\":\n",
    "    s = Solution()\n",
    "    %time assert s.findDiagonalOrder([[1,2,3],[4,5,6],[7,8,9]]) == [1,2,4,7,5,3,6,8,9] # 示例 1\n",
    "    %time assert s.findDiagonalOrder([[1,2],[3,4]]) == [1,2,3,4] # 示例 2"
   ]
  }
 ],
 "metadata": {
  "interpreter": {
   "hash": "f3897d38dc41ff7c1eec30275d3ba6d8e8caf81732cedae805b00463b87ecdf6"
  },
  "kernelspec": {
   "display_name": "Python 3.10.4 ('.venv': venv)",
   "language": "python",
   "name": "python3"
  },
  "language_info": {
   "codemirror_mode": {
    "name": "ipython",
    "version": 3
   },
   "file_extension": ".py",
   "mimetype": "text/x-python",
   "name": "python",
   "nbconvert_exporter": "python",
   "pygments_lexer": "ipython3",
   "version": "3.10.4"
  },
  "orig_nbformat": 4
 },
 "nbformat": 4,
 "nbformat_minor": 2
}
