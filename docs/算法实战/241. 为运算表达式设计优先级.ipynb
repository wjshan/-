{
 "cells": [
  {
   "cell_type": "markdown",
   "metadata": {},
   "source": [
    "---\n",
    "title: 241. 为运算表达式设计优先级\n",
    "---\n",
    "# [241. 为运算表达式设计优先级](https://leetcode.cn/problems/different-ways-to-add-parentheses/)\n",
    "## 题干\n",
    "给你一个由数字和运算符组成的字符串`expression`,按不同由县局组合数字和运算符,计算并返回所有可能组合的结果.你可以**按任意顺序**返回答案.\n",
    "\n",
    "生成的测试用例满足其对应输出值符合32位整数范围,不同结果的数量不超过$10^4$\n",
    "\n",
    "## 示例\n",
    "### 示例 1\n",
    "\n",
    "```\n",
    "输入：expression = \"2-1-1\"\n",
    "输出：[0,2]\n",
    "解释：\n",
    "((2-1)-1) = 0 \n",
    "(2-(1-1)) = 2\n",
    "```\n",
    "\n",
    "### 示例 2\n",
    "\n",
    "```\n",
    "输入：expression = \"2*3-4*5\"\n",
    "输出：[-34,-14,-10,-10,10]\n",
    "解释：\n",
    "(2*(3-(4*5))) = -34 \n",
    "((2*3)-(4*5)) = -14 \n",
    "((2*(3-4))*5) = -10 \n",
    "(2*((3-4)*5)) = -10 \n",
    "(((2*3)-4)*5) = 10\n",
    "```\n",
    "\n",
    "## 提示\n",
    "\n",
    "- $1 \\le expression.length \\le 20$\n",
    "- `expression` 由数字和算符 `'+'`,`'-'` 和`'*'` 组成.\n",
    "- 输入表达式中所有整数数值在范围`[0, 99]`\n",
    "\n",
    "## 题解"
   ]
  },
  {
   "cell_type": "code",
   "execution_count": null,
   "metadata": {},
   "outputs": [],
   "source": [
    "from typing import List"
   ]
  },
  {
   "cell_type": "markdown",
   "metadata": {},
   "source": [
    "### 递归法"
   ]
  },
  {
   "cell_type": "code",
   "execution_count": null,
   "metadata": {},
   "outputs": [],
   "source": [
    "class Solution:\n",
    "    def diffWaysToCompute(self, expression: str) -> List[int]:\n",
    "        ans = []\n",
    "        n,m = len(expression),0\n",
    "        num = 0\n",
    "        temp = []\n",
    "        while n>m:\n",
    "            ch = expression[n]\n",
    "            if ch in ['+','-','*']:\n",
    "                temp.append(num)\n",
    "                temp.append(ch)\n",
    "            else:\n",
    "                num = num*10+int(ch)\n",
    "        \n",
    "        return dp()"
   ]
  }
 ],
 "metadata": {
  "language_info": {
   "name": "python"
  },
  "orig_nbformat": 4
 },
 "nbformat": 4,
 "nbformat_minor": 2
}
