{
 "cells": [
  {
   "cell_type": "markdown",
   "metadata": {},
   "source": [
    "---\n",
    "title: 532. 数组中的 k-diff 数对\n",
    "---\n",
    "\n",
    "# [532. 数组中的 k-diff 数对](https://leetcode.cn/problems/k-diff-pairs-in-an-array/){:target=\"_blank\"}\n",
    "## 题干\n",
    "给定一个整数驻足和一个整数`k`,你需要在数组里找到**不同的**k-diff数对,并返回不同的**k-diff**的数目.\n",
    "\n",
    "这里将**k-diff**数对定义为一个整数对`(nums[i],nums[j])`,并满足下述全部条件:\n",
    "\n",
    "- $0\\le i<j<nums.length$\n",
    "- $|nums[i]-nums[j]| == k$\n",
    "\n",
    "**注意**,`|val|`表示`val`的绝对值.\n",
    "## 示例\n",
    "### 示例 1\n",
    "\n",
    "```\n",
    "输入：nums = [3, 1, 4, 1, 5], k = 2\n",
    "输出：2\n",
    "解释：数组中有两个 2-diff 数对, (1, 3) 和 (3, 5)。\n",
    "尽管数组中有两个1，但我们只应返回不同的数对的数量。\n",
    "```\n",
    "\n",
    "### 示例 2\n",
    "\n",
    "```\n",
    "输入：nums = [1, 2, 3, 4, 5], k = 1\n",
    "输出：4\n",
    "解释：数组中有四个 1-diff 数对, (1, 2), (2, 3), (3, 4) 和 (4, 5)。\n",
    "```\n",
    "\n",
    "### 示例 3\n",
    "\n",
    "```\n",
    "\n",
    "输入：nums = [1, 3, 1, 5, 4], k = 0\n",
    "输出：1\n",
    "解释：数组中只有一个 0-diff 数对，(1, 1)\n",
    "\n",
    "```\n",
    "\n",
    "## 提示\n",
    "\n",
    "- $1\\le nums.length \\le 10^4$\n",
    "- $-10^7\\le nums[i]\\le 10^7$\n",
    "- $0\\le k\\le 10^7$"
   ]
  },
  {
   "cell_type": "markdown",
   "metadata": {},
   "source": [
    "## 题解"
   ]
  },
  {
   "cell_type": "code",
   "execution_count": 1,
   "metadata": {},
   "outputs": [],
   "source": [
    "from typing import List\n",
    "from collections import defaultdict"
   ]
  },
  {
   "cell_type": "markdown",
   "metadata": {},
   "source": [
    "### 哈希表\n",
    "\n",
    "由$|nums[i]-nums[j]==k$可以推出,$nums[j]=\\begin{cases}\n",
    "    nums[i]+k &nums[i]\\le nums[j] \\\\\n",
    "    nums[i]-k &nums[i]>nums[j] \\\\\n",
    "\\end{cases}$\n",
    "\n",
    "因此我们可以从左往右扫描整个数组,通过公式计算出所有目标数`targe`并放入一个`map`中.\n",
    "\n",
    "当遇到当前数在`map`中已存在时,就是`k-diff`数对.\n",
    "\n",
    "**注意**: 顺序相同的也被视为相同的数对,例如`(0, 3)` 和 `(3, 0)`\n",
    "\n",
    "![](/assets/images/532.%20数组中的%20k-diff%20数对/2022-06-16-10-35-22.png)"
   ]
  },
  {
   "cell_type": "code",
   "execution_count": 10,
   "metadata": {},
   "outputs": [],
   "source": [
    "class Solution:\n",
    "    def findPairs(self, nums: List[int], k: int) -> int:\n",
    "        target_map = defaultdict(list)\n",
    "        ans = set()\n",
    "        for num in nums:\n",
    "            for target in target_map[num]:\n",
    "                ans.add(min([target,num]))\n",
    "            target_map[num-k].append(num)\n",
    "            target_map[num+k].append(num)\n",
    "        return len(ans)"
   ]
  },
  {
   "cell_type": "code",
   "execution_count": 11,
   "metadata": {},
   "outputs": [
    {
     "name": "stdout",
     "output_type": "stream",
     "text": [
      "CPU times: user 57 µs, sys: 1e+03 ns, total: 58 µs\n",
      "Wall time: 59.8 µs\n",
      "CPU times: user 14 µs, sys: 0 ns, total: 14 µs\n",
      "Wall time: 17.2 µs\n",
      "CPU times: user 11 µs, sys: 0 ns, total: 11 µs\n",
      "Wall time: 14.1 µs\n",
      "CPU times: user 9 µs, sys: 1 µs, total: 10 µs\n",
      "Wall time: 11.9 µs\n"
     ]
    }
   ],
   "source": [
    "if __name__ == \"__main__\":\n",
    "    s = Solution()\n",
    "    %time assert s.findPairs([1,2,4,4,3,3,0,9,2,3],3) == 2 # 示例 1\n",
    "    %time assert s.findPairs([3, 1, 4, 1, 5],2) == 2 # 示例 1\n",
    "    %time assert s.findPairs([1, 2, 3, 4, 5],1) == 4 # 示例 2\n",
    "    %time assert s.findPairs([1, 3, 1, 5, 4],0) == 1 # 示例 3"
   ]
  }
 ],
 "metadata": {
  "interpreter": {
   "hash": "f3897d38dc41ff7c1eec30275d3ba6d8e8caf81732cedae805b00463b87ecdf6"
  },
  "kernelspec": {
   "display_name": "Python 3.10.4 ('.venv': venv)",
   "language": "python",
   "name": "python3"
  },
  "language_info": {
   "codemirror_mode": {
    "name": "ipython",
    "version": 3
   },
   "file_extension": ".py",
   "mimetype": "text/x-python",
   "name": "python",
   "nbconvert_exporter": "python",
   "pygments_lexer": "ipython3",
   "version": "3.10.4"
  },
  "orig_nbformat": 4
 },
 "nbformat": 4,
 "nbformat_minor": 2
}
