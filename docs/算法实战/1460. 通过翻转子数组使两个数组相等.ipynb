{
 "cells": [
  {
   "cell_type": "markdown",
   "metadata": {},
   "source": [
    "---\n",
    "title: 1460. 通过翻转子数组使两个数组相等\n",
    "---\n",
    "\n",
    "# [1460. 通过翻转子数组使两个数组相等](https://leetcode.cn/problems/make-two-arrays-equal-by-reversing-sub-arrays/){:target=\"_blank\"}\n",
    "\n",
    "## 题干\n",
    "\n",
    "给你两个长度相同的整数数组`target`和`arr`.每一步中,你可以选择`arr`的任意**非空子数组**并将它翻转,你可以执行此过程任意次.\n",
    "\n",
    "*如果你能让`arr`变得与`target`相等.返回True;否则,返回False.*\n",
    "\n",
    "## 示例\n",
    "\n",
    "### 示例 1\n",
    "\n",
    "```\n",
    "输入：target = [1,2,3,4], arr = [2,4,1,3]\n",
    "输出：true\n",
    "解释：你可以按照如下步骤使 arr 变成 target：\n",
    "1- 翻转子数组 [2,4,1] ，arr 变成 [1,4,2,3]\n",
    "2- 翻转子数组 [4,2] ，arr 变成 [1,2,4,3]\n",
    "3- 翻转子数组 [4,3] ，arr 变成 [1,2,3,4]\n",
    "上述方法并不是唯一的，还存在多种将 arr 变成 target 的方法。\n",
    "\n",
    "```\n",
    "\n",
    "### 示例 2\n",
    "\n",
    "```\n",
    "输入：target = [7], arr = [7]\n",
    "输出：true\n",
    "解释：arr 不需要做任何翻转已经与 target 相等。\n",
    "```\n",
    "\n",
    "### 示例 3\n",
    "\n",
    "```\n",
    "输入：target = [3,7,9], arr = [3,7,11]\n",
    "输出：false\n",
    "解释：arr 没有数字 9 ，所以无论如何也无法变成 target 。\n",
    "```\n",
    "\n",
    "## 提示\n",
    "\n",
    "- $ target.length == arr.length $\n",
    "- $ 1 \\le target.length \\le 1000 $\n",
    "- $ 1 \\le target[i] \\le 1000 $\n",
    "- $ 1 \\le arr[i] \\le 1000 $\n",
    "\n",
    "## 题解"
   ]
  },
  {
   "cell_type": "code",
   "execution_count": 2,
   "metadata": {},
   "outputs": [],
   "source": [
    "from typing import List\n",
    "from collections import defaultdict"
   ]
  },
  {
   "cell_type": "markdown",
   "metadata": {},
   "source": [
    "### 哈希表\n",
    "\n",
    "由于可以对任意子数组进行翻转,那么就意味着我们可以交换任意两个元素的位置,因此,只要`arr`与`target`中包含的元素相同,那么我们就可以将`arr`变成`target`\n",
    "\n"
   ]
  },
  {
   "cell_type": "code",
   "execution_count": 5,
   "metadata": {},
   "outputs": [],
   "source": [
    "class Solution:\n",
    "    def canBeEqual(self, target: List[int], arr: List[int]) -> bool:\n",
    "        arr_map = defaultdict(lambda:0)\n",
    "        for v in target:\n",
    "            arr_map[v]+=1\n",
    "        for v in arr:\n",
    "            arr_map[v]-=1\n",
    "        return not any(arr_map.values())\n",
    "        "
   ]
  },
  {
   "cell_type": "code",
   "execution_count": 6,
   "metadata": {},
   "outputs": [],
   "source": [
    "if __name__ == \"__main__\":\n",
    "    s = Solution()\n",
    "    assert s.canBeEqual([1,2,3,4],[2,4,1,3]) is True\n",
    "    assert s.canBeEqual([7],[7]) is True\n",
    "    assert s.canBeEqual([3,7,9],[3,7,11]) is False\n",
    "    \n",
    "    "
   ]
  }
 ],
 "metadata": {
  "kernelspec": {
   "display_name": "Python 3.10.4 ('.venv': venv)",
   "language": "python",
   "name": "python3"
  },
  "language_info": {
   "codemirror_mode": {
    "name": "ipython",
    "version": 3
   },
   "file_extension": ".py",
   "mimetype": "text/x-python",
   "name": "python",
   "nbconvert_exporter": "python",
   "pygments_lexer": "ipython3",
   "version": "3.10.4"
  },
  "orig_nbformat": 4,
  "vscode": {
   "interpreter": {
    "hash": "f3897d38dc41ff7c1eec30275d3ba6d8e8caf81732cedae805b00463b87ecdf6"
   }
  }
 },
 "nbformat": 4,
 "nbformat_minor": 2
}
