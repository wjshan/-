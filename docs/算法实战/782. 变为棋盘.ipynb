{
 "cells": [
  {
   "cell_type": "markdown",
   "metadata": {},
   "source": [
    "---\n",
    "title: 782. 变为棋盘\n",
    "---\n",
    "\n",
    "# [782. 变为棋盘](https://leetcode.cn/problems/transform-to-chessboard/){:target=\"_blank\"}\n",
    "\n",
    "## 题干\n",
    "\n",
    "一个$n*n$的二维网络`board`仅由`0`和`1`组成.每次移动,你能任意交换两列或是两行的位置.\n",
    "\n",
    "返回*将这个举证变为\"棋盘\"所需的最小移动次数*.如果不存在可行的变换,输出`-1`.\n",
    "\n",
    "**\"棋盘\"**是指任意一个的上下左右四个方向的值均与本省不同的矩阵.\n",
    "\n",
    "## 示例\n",
    "\n",
    "### 示例 1\n",
    "\n",
    "![](/assets/images/782.%20变为棋盘/2022-08-23-15-24-33.png)\n",
    "\n",
    "```\n",
    "输入: board = [[0,1,1,0],[0,1,1,0],[1,0,0,1],[1,0,0,1]]\n",
    "输出: 2\n",
    "解释:一种可行的变换方式如下，从左到右：\n",
    "第一次移动交换了第一列和第二列。\n",
    "第二次移动交换了第二行和第三行。\n",
    "\n",
    "```\n",
    "\n",
    "### 示例 2\n",
    "\n",
    "![](/assets/images/782.%20变为棋盘/2022-08-23-15-25-49.png)\n",
    "\n",
    "```\n",
    "输入: board = [[0, 1], [1, 0]]\n",
    "输出: 0\n",
    "解释: 注意左上角的格值为0时也是合法的棋盘，也是合法的棋盘.\n",
    "\n",
    "```\n",
    "\n",
    "### 示例 3\n",
    "\n",
    "![](/assets/images/782.%20变为棋盘/2022-08-23-15-26-30.png)\n",
    "\n",
    "```\n",
    "输入: board = [[1, 0], [1, 0]]\n",
    "输出: -1\n",
    "解释: 任意的变换都不能使这个输入变为合法的棋盘。\n",
    "```\n",
    "\n",
    "## 提示\n",
    "\n",
    "- $n == board.length$\n",
    "- $ n == boardp[i].length $\n",
    "- $2 \\le n \\le 30$\n",
    "- `board[i][j]`将只包含`0`或`1`\n",
    "\n",
    "## 题解"
   ]
  },
  {
   "cell_type": "code",
   "execution_count": 3,
   "metadata": {},
   "outputs": [],
   "source": [
    "from typing import List"
   ]
  },
  {
   "cell_type": "markdown",
   "metadata": {},
   "source": [
    "### "
   ]
  },
  {
   "cell_type": "code",
   "execution_count": 22,
   "metadata": {},
   "outputs": [],
   "source": [
    "class Solution:\n",
    "    def movesToChessboard(self, board: List[List[int]]) -> int:\n",
    "        n = len(board)\n",
    "        first_row = board[0]\n",
    "        mark_row = [x^1 for x in first_row]\n",
    "        first_col = [board[x][0] for x in range(n)]\n",
    "        mark_col = [x^1 for x in first_col]\n",
    "        for i in range(1,n): # 检测是否为有效行\n",
    "            if not (board[i]==first_row or board[i]==mark_row):\n",
    "                return -1\n",
    "            col = [board[x][i] for x in range(n)]\n",
    "            if not (col==first_col or col==mark_col):\n",
    "                return -1\n",
    "\n",
    "        mark1 = sum(2**i for i in range(0,n,2))\n",
    "        mark2 = sum(2**i for i in range(1,n,2))\n",
    "\n",
    "        # 如果奇数行/列符合mark1,则偶数行/列则是mark2\n",
    "        # 反之如果奇数行/列符合mark2,则偶数行/列是mark1\n",
    "\n",
    "        # 存在两种情况都可用,那么需要选择部署少的执行\n",
    "\n",
    "        def array_to_int(values)->int:\n",
    "            return sum(2**i*v for i,v in enumerate(values[::-1]))\n",
    "\n",
    "        v1 = array_to_int(first_row)^mark1 # 第一个元素为1\n",
    "        v2 = array_to_int(first_row)^mark2 # 第一个元素为0\n",
    "        \n",
    "        v3 = array_to_int( first_col)^mark1\n",
    "        v4 = array_to_int( first_col)^mark2\n",
    "\n",
    "        setup1 = bin(v1).count(\"1\")\n",
    "        setup2 = bin(v2).count(\"1\")\n",
    "        setup3 = bin(v3).count(\"1\")\n",
    "        setup4 = bin(v4).count(\"1\")\n",
    "        \n",
    "        if (setup1%2 or setup2%2) and (setup3%2 or setup4%2): # 两者都是奇数,则无法满足变换要求\n",
    "            return -1\n",
    "\n",
    "        \n",
    "        \n",
    "        \n",
    "        if setup1%2 or setup3%2:\n",
    "            total = (setup2+setup4)/2\n",
    "        elif setup2%2 or setup4%2:\n",
    "            total = (setup1+setup3)/2\n",
    "        else:\n",
    "            total = min((setup2+setup4),(setup1+setup3))/2\n",
    "        return int(total)\n",
    "        "
   ]
  },
  {
   "cell_type": "code",
   "execution_count": 24,
   "metadata": {},
   "outputs": [
    {
     "name": "stderr",
     "output_type": "stream",
     "text": [
      "\n",
      "KeyboardInterrupt\n",
      "\n"
     ]
    }
   ],
   "source": [
    "if __name__ == \"__main__\":\n",
    "    s = Solution()\n",
    "    assert s.movesToChessboard([[1,1,0],[0,0,1],[0,0,1]]) == 2\n",
    "    assert s.movesToChessboard([[0, 1], [1, 0]]) == 0\n",
    "    assert s.movesToChessboard([[0,1,1,0],[0,1,1,0],[1,0,0,1],[1,0,0,1]]) == 2\n",
    "    assert s.movesToChessboard([[1, 0], [1, 0]]) == -1\n",
    "    "
   ]
  }
 ],
 "metadata": {
  "kernelspec": {
   "display_name": "Python 3.10.4 ('.venv': venv)",
   "language": "python",
   "name": "python3"
  },
  "language_info": {
   "codemirror_mode": {
    "name": "ipython",
    "version": 3
   },
   "file_extension": ".py",
   "mimetype": "text/x-python",
   "name": "python",
   "nbconvert_exporter": "python",
   "pygments_lexer": "ipython3",
   "version": "3.10.4"
  },
  "orig_nbformat": 4,
  "vscode": {
   "interpreter": {
    "hash": "f3897d38dc41ff7c1eec30275d3ba6d8e8caf81732cedae805b00463b87ecdf6"
   }
  }
 },
 "nbformat": 4,
 "nbformat_minor": 2
}
