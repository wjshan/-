{
 "cells": [
  {
   "cell_type": "markdown",
   "metadata": {},
   "source": [
    "---\n",
    "title: 面试题 17.11. 单词距离\n",
    "---\n",
    "# [面试题 17.11. 单词距离](https://leetcode.cn/problems/find-closest-lcci/){:target=\"_blank\"}\n",
    "## 题干\n",
    "有个内含单词的超大文件文本,给定任意两个`不同的`单词,找出在这个文件中这两个单词的最短距离(相隔单词数).如果寻找过程在这个文件中会重复多次,而每次寻找的单词不同,你能对此优化吗?\n",
    "\n",
    "## 示例\n",
    "\n",
    "### 示例 1\n",
    "```\n",
    "输入：words = [\"I\",\"am\",\"a\",\"student\",\"from\",\"a\",\"university\",\"in\",\"a\",\"city\"], word1 = \"a\", word2 = \"student\"\n",
    "输出：1\n",
    "```\n",
    "\n",
    "## 提示\n",
    "\n",
    "- `words.length <= 100000`"
   ]
  },
  {
   "cell_type": "markdown",
   "metadata": {},
   "source": [
    "## 题解"
   ]
  },
  {
   "cell_type": "code",
   "execution_count": 1,
   "metadata": {},
   "outputs": [],
   "source": [
    "from typing import List"
   ]
  },
  {
   "cell_type": "markdown",
   "metadata": {},
   "source": [
    "### 直接循环遍历"
   ]
  },
  {
   "cell_type": "code",
   "execution_count": 6,
   "metadata": {},
   "outputs": [],
   "source": [
    "class Solution:\n",
    "    def findClosest(self, words: List[str], word1: str, word2: str) -> int:\n",
    "        min_range = float(\"inf\")\n",
    "        l1 = l2 = -1\n",
    "        for i,w in enumerate(words):\n",
    "            if w==word1:\n",
    "                l1 = i\n",
    "            elif w == word2:\n",
    "                l2 = i\n",
    "            if l1!=-1 and l2!=-1:\n",
    "                min_range = min(min_range,abs(l1-l2))\n",
    "        return min_range"
   ]
  },
  {
   "cell_type": "code",
   "execution_count": 7,
   "metadata": {},
   "outputs": [
    {
     "name": "stdout",
     "output_type": "stream",
     "text": [
      "CPU times: user 10 µs, sys: 0 ns, total: 10 µs\n",
      "Wall time: 11.9 µs\n"
     ]
    }
   ],
   "source": [
    "if __name__ == \"__main__\":\n",
    "    s = Solution()\n",
    "    %time assert s.findClosest([\"I\",\"am\",\"a\",\"student\",\"from\",\"a\",\"university\",\"in\",\"a\",\"city\"],\"a\",\"student\")"
   ]
  }
 ],
 "metadata": {
  "interpreter": {
   "hash": "f3897d38dc41ff7c1eec30275d3ba6d8e8caf81732cedae805b00463b87ecdf6"
  },
  "kernelspec": {
   "display_name": "Python 3.10.4 ('.venv': venv)",
   "language": "python",
   "name": "python3"
  },
  "language_info": {
   "codemirror_mode": {
    "name": "ipython",
    "version": 3
   },
   "file_extension": ".py",
   "mimetype": "text/x-python",
   "name": "python",
   "nbconvert_exporter": "python",
   "pygments_lexer": "ipython3",
   "version": "3.10.4"
  },
  "orig_nbformat": 4
 },
 "nbformat": 4,
 "nbformat_minor": 2
}
