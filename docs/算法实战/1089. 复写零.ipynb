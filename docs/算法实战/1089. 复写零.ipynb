{
 "cells": [
  {
   "cell_type": "markdown",
   "metadata": {},
   "source": [
    "---\n",
    "title: 1089. 复写零\n",
    "---\n",
    "# [1089. 复写零](https://leetcode.cn/problems/duplicate-zeros/){:target=\"_blank\"}\n",
    "## 题干\n",
    "给你一个长度固定的整数数组`arr`,请你将该整数中出现的每个零都覆写一遍,并将其余的元素向右平移.\n",
    "\n",
    "注意: 请不要在超过该数组长度的位置写入元素.\n",
    "\n",
    "要求L请对舒服的数组`就地`进行上述修改,不要从函数返回任何东西.\n",
    "## 示例\n",
    "### 示例 1\n",
    "\n",
    "```\n",
    "输入：[1,0,2,3,0,4,5,0]\n",
    "输出：null\n",
    "解释：调用函数后，输入的数组将被修改为：[1,0,0,2,3,0,0,4]\n",
    "```\n",
    "\n",
    "### 示例 2\n",
    "\n",
    "```\n",
    "输入：[1,2,3]\n",
    "输出：null\n",
    "解释：调用函数后，输入的数组将被修改为：[1,2,3]\n",
    "```\n",
    "\n",
    "## 提示\n",
    "\n",
    "- $1 \\le arr.length \\le 10000$\n",
    "- $0 \\le arr[i] \\le 9$\n",
    "\n",
    "## 题解"
   ]
  },
  {
   "cell_type": "code",
   "execution_count": 1,
   "metadata": {},
   "outputs": [],
   "source": [
    "from typing import List"
   ]
  },
  {
   "cell_type": "markdown",
   "metadata": {},
   "source": [
    "### 中间数组\n",
    "\n",
    "依据题目中的要求,当元素组遇到`0`时,我们需要在当前元素的下一个位置插入一个额外的`0`.\n",
    "\n",
    "由列表的特性可以得知,列表的插入操作的时间复杂度为$O(k)$,`k`插入元素右侧的元素的数量.因此,如果使用插入炒作,则总体的时间复杂度为$O(\\frac{n*(n-1)}{2})$记为$O(n_2)$.其空间复杂度为$O(1)$.\n",
    "\n",
    "由于其时间复杂度过高,因此我们可以采用空间换时间的方法:\n",
    "\n",
    "1. 设置一个中间数组`tmp_arr`\n",
    "2. 循环原数组`arr`中的每一个值,并*append*至中间数组`tmp_arr`.\n",
    "3. 如果当前原数组`arr`的值为`0`,多添加一个`0`至中间数组`tmp_arr`.\n",
    "4. 当`tmp_arr`长度等于`arr`时,终止循环\n",
    "5. 将`tmp_arr`中的每一个元素的对应的赋值到原数组`arr`中\n",
    "\n",
    "**时间复杂度**: $O(n)$\n",
    "\n",
    "**空间复杂度**: $O(n)$\n",
    "\n",
    "![](/assets/images/1089.%20复写零/2022-06-17-10-36-11.png)\n",
    "\n",
    "**注意**: 此解法不符合题目要求,如果在面试中这么干,可能会被`pass`."
   ]
  },
  {
   "cell_type": "code",
   "execution_count": 4,
   "metadata": {},
   "outputs": [],
   "source": [
    "class Solution:\n",
    "    def duplicateZeros(self, arr: List[int]) -> None:\n",
    "        \"\"\"\n",
    "        Do not return anything, modify arr in-place instead.\n",
    "        \"\"\"\n",
    "        n = len(arr)\n",
    "        temp_arr = []\n",
    "        for r in arr:\n",
    "            temp_arr.append(r)\n",
    "            if not r:\n",
    "                temp_arr.append(r)\n",
    "            if len(temp_arr)>=n:\n",
    "                break\n",
    "        for i,r in enumerate(temp_arr):\n",
    "            if i >= n:\n",
    "                continue\n",
    "            arr[i] = r"
   ]
  },
  {
   "cell_type": "markdown",
   "metadata": {},
   "source": [
    "### 双指针\n",
    "我们可以先设置一个指针,遍历一次数组,定位到**重复0**完成后的数组的末尾位置对应在**原数组**的位置.\n",
    "\n",
    "然后反向遍历原数组`arr`,将最终结果补齐\n",
    "\n",
    "**时间复杂度**: $O(n)$\n",
    "\n",
    "**空间复杂度**: $O(1)$\n",
    "\n",
    "![](/assets/images/1089.%20复写零/2022-06-17-11-32-29.png)"
   ]
  },
  {
   "cell_type": "code",
   "execution_count": 33,
   "metadata": {},
   "outputs": [],
   "source": [
    "class Solution:\n",
    "    def duplicateZeros(self, arr: List[int]) -> None:\n",
    "        n = len(arr)\n",
    "        i = -1\n",
    "        tail = 0\n",
    "        while tail < n:\n",
    "            i+=1\n",
    "            tail += 1 if arr[i] else 2\n",
    "        j = n-1\n",
    "        if tail == n+1: # 遇到最后一个数字为0\n",
    "            arr[j] = 0\n",
    "            i-=1\n",
    "            j-=1\n",
    "        while j>=0: # 当两个指针相遇时,即代表在此之前的所有元素都符合顺序\n",
    "            arr[j] = arr[i]\n",
    "            j-=1\n",
    "            if not arr[i]: # 当遇到0时,j需要多向前移动一位\n",
    "                arr[j]=arr[i]\n",
    "                j -= 1\n",
    "            i-=1"
   ]
  },
  {
   "cell_type": "code",
   "execution_count": 34,
   "metadata": {},
   "outputs": [
    {
     "name": "stdout",
     "output_type": "stream",
     "text": [
      "CPU times: user 51 µs, sys: 1 µs, total: 52 µs\n",
      "Wall time: 54.1 µs\n",
      "[1, 3, 0, 0, 2, 3, 3, 4, 4]\n",
      "CPU times: user 21 µs, sys: 0 ns, total: 21 µs\n",
      "Wall time: 23.1 µs\n",
      "CPU times: user 12 µs, sys: 0 ns, total: 12 µs\n",
      "Wall time: 14.1 µs\n"
     ]
    }
   ],
   "source": [
    "if __name__ == \"__main__\":\n",
    "    s = Solution()\n",
    "    arr0 = [1,3,0,2,3,3,4,4,0]\n",
    "    %time s.duplicateZeros(arr0)\n",
    "    print(arr0)\n",
    "    assert arr0 == [1,3,0,0,2,3,3,4,4]\n",
    "    arr1 = [1,0,2,3,0,4,5,0]\n",
    "    %time s.duplicateZeros(arr1)\n",
    "    assert arr1 == [1,0,0,2,3,0,0,4]\n",
    "    arr2 = [1,2,3]\n",
    "    %time s.duplicateZeros(arr2)\n",
    "    assert arr2 == [1,2,3]"
   ]
  }
 ],
 "metadata": {
  "interpreter": {
   "hash": "f3897d38dc41ff7c1eec30275d3ba6d8e8caf81732cedae805b00463b87ecdf6"
  },
  "kernelspec": {
   "display_name": "Python 3.10.4 ('.venv': venv)",
   "language": "python",
   "name": "python3"
  },
  "language_info": {
   "codemirror_mode": {
    "name": "ipython",
    "version": 3
   },
   "file_extension": ".py",
   "mimetype": "text/x-python",
   "name": "python",
   "nbconvert_exporter": "python",
   "pygments_lexer": "ipython3",
   "version": "3.10.4"
  },
  "orig_nbformat": 4
 },
 "nbformat": 4,
 "nbformat_minor": 2
}
