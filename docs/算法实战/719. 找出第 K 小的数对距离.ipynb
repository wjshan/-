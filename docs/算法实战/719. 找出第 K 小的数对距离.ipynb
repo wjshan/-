{
 "cells": [
  {
   "cell_type": "markdown",
   "metadata": {},
   "source": [
    "---\n",
    "title: 719. 找出第 K 小的数对距离\n",
    "---\n",
    "# [719. 找出第 K 小的数对距离](https://leetcode.cn/problems/find-k-th-smallest-pair-distance/){:target=\"_blank\"}\n",
    "## 题干\n",
    "数对`(a,b)`由整数`a`和`b`组成,其数对距离定义为`a`和`b`的绝对数值.\n",
    "\n",
    "给你一个整数数组`nums`和一个整数`k`,数对由`nums[i]`和`nums[j]`组成且满足$0\\lei<j<nums.length$.返回**所有数对距离中**第`k`小的数对距离.\n",
    "\n",
    "## 示例\n",
    "### 示例 1\n",
    "\n",
    "```\n",
    "输入：nums = [1,3,1], k = 1\n",
    "输出：0\n",
    "解释：数对和对应的距离如下：\n",
    "(1,3) -> 2\n",
    "(1,1) -> 0\n",
    "(3,1) -> 2\n",
    "距离第 1 小的数对是 (1,1) ，距离为 0 。\n",
    "```\n",
    "\n",
    "### 示例 2\n",
    "\n",
    "```\n",
    "输入：nums = [1,1,1], k = 2\n",
    "输出：0\n",
    "```\n",
    "\n",
    "### 示例 3\n",
    "\n",
    "```\n",
    "输入：nums = [1,6,1], k = 3\n",
    "输出：5\n",
    "```\n",
    "\n",
    "## 提示\n",
    "\n",
    "- $ n==nums.length $\n",
    "- $2\\le n \\le 10^4$\n",
    "- $0\\le nums[i] \\le 10^6$\n",
    "- $1 \\le k \\le \\frac{ n*(n-1)}{2}$"
   ]
  },
  {
   "cell_type": "markdown",
   "metadata": {},
   "source": [
    "## 题解"
   ]
  },
  {
   "cell_type": "code",
   "execution_count": 1,
   "metadata": {},
   "outputs": [],
   "source": [
    "from typing import List\n",
    "from itertools import product"
   ]
  },
  {
   "cell_type": "markdown",
   "metadata": {},
   "source": [
    "### 暴力求解\n",
    "我们可以先将所有的**编辑距离**算出,然后排序得到最终结果\n",
    "\n",
    "**时间复杂度**: 求解所有组合,复杂度为$O(n*(n-1))$,排序的复杂度为$O(n\\log{n})$.因此最终的时间复杂度记为O(n^2)\n",
    "\n",
    "**空间复杂度**: 中间结果数组需要存$n*(n-1)$个结果.因此空间复杂度为$O(n^2)$\n",
    "\n",
    "![](/assets/images/719.%20找出第%20K%20小的数对距离/2022-06-15-10-59-38.png)"
   ]
  },
  {
   "cell_type": "code",
   "execution_count": 5,
   "metadata": {},
   "outputs": [],
   "source": [
    "class Solution:\n",
    "    def smallestDistancePair(self, nums: List[int], k: int) -> int:\n",
    "        ans_list = []\n",
    "        for i in range(len(nums)):\n",
    "            for j in range(i+1,len(nums)):\n",
    "                ans_list.append(abs(nums[i]-nums[j]))\n",
    "        return sorted(ans_list)[k-1]"
   ]
  },
  {
   "cell_type": "markdown",
   "metadata": {},
   "source": [
    "### 排序,对分查找,双指针\n",
    "我们先将原数组`nums`排序,得到排序后的数组`asc_nums`.\n",
    "\n",
    "然后我们就可以得到编辑距离`dist`的取值范围是$0\\le dist \\le asc_nums[-1]-asc_nums[0]$\n",
    "\n",
    "\n",
    "\n",
    "![](/assets/images/719.%20找出第%20K%20小的数对距离/2022-06-15-15-41-50.png)"
   ]
  },
  {
   "cell_type": "code",
   "execution_count": 11,
   "metadata": {},
   "outputs": [],
   "source": [
    "class Solution:\n",
    "    def smallestDistancePair(self, nums: List[int], k: int) -> int:\n",
    "        asc_nums = sorted(nums)\n",
    "        left_dist,right_dist = 0,asc_nums[-1]-asc_nums[0]\n",
    "        while left_dist<right_dist:\n",
    "            middle_dist = (left_dist+right_dist)//2\n",
    "            i = count = 0\n",
    "            for j,num in enumerate(asc_nums):\n",
    "                while num-asc_nums[i]>middle_dist:\n",
    "                    i += 1\n",
    "                count += j - i\n",
    "            if count<k:\n",
    "                left_dist = middle_dist+1\n",
    "            else:\n",
    "                right_dist = middle_dist\n",
    "        return left_dist\n",
    "            \n",
    "            "
   ]
  },
  {
   "cell_type": "code",
   "execution_count": 12,
   "metadata": {},
   "outputs": [
    {
     "name": "stdout",
     "output_type": "stream",
     "text": [
      "CPU times: user 53 µs, sys: 1 µs, total: 54 µs\n",
      "Wall time: 54.8 µs\n",
      "CPU times: user 6 µs, sys: 0 ns, total: 6 µs\n",
      "Wall time: 8.34 µs\n",
      "CPU times: user 11 µs, sys: 1 µs, total: 12 µs\n",
      "Wall time: 13.8 µs\n"
     ]
    }
   ],
   "source": [
    "if __name__ == \"__main__\":\n",
    "    s = Solution()\n",
    "    %time assert s.smallestDistancePair([1, 3, 1], 1) == 0 # 示例 1\n",
    "    %time assert s.smallestDistancePair([1, 1, 1], 2) == 0 # 示例 2\n",
    "    %time assert s.smallestDistancePair([1, 6, 1], 3) == 5 # 示例 3"
   ]
  }
 ],
 "metadata": {
  "interpreter": {
   "hash": "f3897d38dc41ff7c1eec30275d3ba6d8e8caf81732cedae805b00463b87ecdf6"
  },
  "kernelspec": {
   "display_name": "Python 3.10.4 ('.venv': venv)",
   "language": "python",
   "name": "python3"
  },
  "language_info": {
   "codemirror_mode": {
    "name": "ipython",
    "version": 3
   },
   "file_extension": ".py",
   "mimetype": "text/x-python",
   "name": "python",
   "nbconvert_exporter": "python",
   "pygments_lexer": "ipython3",
   "version": "3.10.4"
  },
  "orig_nbformat": 4
 },
 "nbformat": 4,
 "nbformat_minor": 2
}
