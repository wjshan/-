{
 "cells": [
  {
   "cell_type": "markdown",
   "metadata": {},
   "source": [
    "---\n",
    "title: 761. 特殊的二进制序列\n",
    "---\n",
    "# [761. 特殊的二进制序列](https://leetcode.cn/problems/special-binary-string/)\n",
    "\n",
    "## 题干\n",
    "\n",
    "特殊的二进制序列是具有依稀下两个心智的二进制序列:\n",
    "  - `0`的数量与`1`的数量相等\n",
    "  - 二进制序列的每一个前缀码中`1`的数量要大于等于`0`的数量.\n",
    "\n",
    "给定一个特殊的二进制序列`S`,以自促换形式表示.定义一个*操作*为首先选择`S`的两个梁旭且非空的特殊的子串,然后将他们交换.(两个子串为梁旭的当且仅当第一个子串的最后一个字符桥涵儿第二个子串的第一个自出的前一个字符.)\n",
    "\n",
    "字任意次数的操作之后,交换后的字符串按照字典序排列的最大的结果是什么?\n",
    "\n",
    "## 示例\n",
    "### 示例 1\n",
    "\n",
    "```\n",
    "输入: S = \"11011000\"\n",
    "输出: \"11100100\"\n",
    "解释:\n",
    "将子串 \"10\" （在S[1]出现） 和 \"1100\" （在S[3]出现）进行交换。\n",
    "这是在进行若干次操作后按字典序排列最大的结果。\n",
    "```\n",
    "\n",
    "## 说明\n",
    "\n",
    "1. `S` 的长度不超过`50`\n",
    "2. `S`保证为一个满足上述定义的*特殊*的二进制序列.\n",
    "\n",
    "## 题解\n",
    "\n",
    "  前缀码的定义:我们假设字符串$S = b_0b_1b_2b_3 \\dots b_n$ 则 字符串`S`的前缀码包括$\\{b_0, b_0b_1,b_0b_1b_2,\\dots ,b_0b_1\\dots b_n\\}$\n",
    "\n",
    "需要注意**原字符串也可以视为自身的前缀码**\n",
    "\n",
    "*交换的子串同样得是特殊字符串*\n",
    "\n",
    "特殊字符串的判断方法:\n",
    "\n",
    "  1. 字符串的第一个字符必须为1\n",
    "  2. 最小长度为2\n",
    "  3. 从前向后遍历字符串\n",
    "  4. 遍历字符串中的每个字符时,都需要判断当前`1`的总数都大于等于`0`的总数\n",
    "  5. 最终`0`的总数需要等于`1`的总数\n"
   ]
  },
  {
   "cell_type": "markdown",
   "metadata": {},
   "source": [
    "### 递归\n",
    "\n"
   ]
  },
  {
   "cell_type": "code",
   "execution_count": 1,
   "metadata": {},
   "outputs": [],
   "source": [
    "class Solution:\n",
    "    def makeLargestSpecial(self, s: str) -> str:\n",
    "        if len(s) <= 2:\n",
    "            return s\n",
    "        \n",
    "        cnt = left = 0\n",
    "        subs = list()\n",
    "\n",
    "        for i, ch in enumerate(s):\n",
    "            if ch == \"1\":\n",
    "                cnt += 1\n",
    "            else:\n",
    "                cnt -= 1\n",
    "                if cnt == 0:\n",
    "                    subs.append(\"1\" + self.makeLargestSpecial(s[left+1:i]) + \"0\")\n",
    "                    left = i + 1\n",
    "        \n",
    "        subs.sort(reverse=True)\n",
    "        return \"\".join(subs)"
   ]
  },
  {
   "cell_type": "code",
   "execution_count": 3,
   "metadata": {},
   "outputs": [],
   "source": [
    "if __name__ == \"__main__\":\n",
    "    s = Solution()\n",
    "    assert s.makeLargestSpecial(\"11011000\") == \"11100100\""
   ]
  }
 ],
 "metadata": {
  "kernelspec": {
   "display_name": "Python 3.10.4 ('.venv': venv)",
   "language": "python",
   "name": "python3"
  },
  "language_info": {
   "codemirror_mode": {
    "name": "ipython",
    "version": 3
   },
   "file_extension": ".py",
   "mimetype": "text/x-python",
   "name": "python",
   "nbconvert_exporter": "python",
   "pygments_lexer": "ipython3",
   "version": "3.10.4"
  },
  "orig_nbformat": 4,
  "vscode": {
   "interpreter": {
    "hash": "f3897d38dc41ff7c1eec30275d3ba6d8e8caf81732cedae805b00463b87ecdf6"
   }
  }
 },
 "nbformat": 4,
 "nbformat_minor": 2
}
