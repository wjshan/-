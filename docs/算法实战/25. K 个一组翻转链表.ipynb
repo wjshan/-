{
 "cells": [
  {
   "cell_type": "markdown",
   "metadata": {},
   "source": [
    "---\n",
    "title: 25. K 个一组翻转链表\n",
    "---\n",
    "\n",
    "# [25. K 个一组翻转链表](https://leetcode.cn/problems/reverse-nodes-in-k-group/){:target=\"_blank\"}\n",
    "\n",
    "## 题干\n",
    "\n",
    "给你链表的头节点`head`,每`k`个节点一组进行翻转,请你返回修改后的链表.\n",
    "\n",
    "`k`是一个正整数,它的值小于或等于链表的长度.如果接地单总数不是`k`的整数倍,那么请将左后剩余的节点保持原有顺序.\n",
    "\n",
    "你不能只是单纯的改变节点内部的值,而是需要实际进行节点交换.\n",
    "\n",
    "## 示例\n",
    "\n",
    "### 示例 1\n",
    "\n",
    "![](/assets/images/25.%20K%20个一组翻转链表/2022-08-22-14-50-30.png)\n",
    "\n",
    "```\n",
    "输入：head = [1,2,3,4,5], k = 2\n",
    "输出：[2,1,4,3,5]\n",
    "```\n",
    "\n",
    "### 示例 2\n",
    "\n",
    "![](/assets/images/25.%20K%20个一组翻转链表/2022-08-22-14-50-54.png)\n",
    "\n",
    "```\n",
    "输入：head = [1,2,3,4,5], k = 3\n",
    "输出：[3,2,1,4,5]\n",
    "```\n",
    "\n",
    "## 提示\n",
    "\n",
    "- 链表中节点数目为`n`\n",
    "- $1 \\le k \\le n \\le 5000$\n",
    "- $ 0 \\le Node.val \\le 1000 $\n",
    "  \n",
    "**进阶**: 你可以设计一个只用$O(1)$额外内存空间的素昂啊解决此问题吗?\n",
    "\n",
    "## 题解"
   ]
  },
  {
   "cell_type": "code",
   "execution_count": 4,
   "metadata": {},
   "outputs": [
    {
     "name": "stdout",
     "output_type": "stream",
     "text": [
      "[1, 2, 3, 4, 5]\n"
     ]
    }
   ],
   "source": [
    "from typing import Optional,List\n",
    "\n",
    "# Definition for singly-linked list.\n",
    "\n",
    "class ListNode:\n",
    "    def __init__(self, val=0, next=None):\n",
    "        self.val = val\n",
    "        self.next = next\n",
    "\n",
    "    @classmethod\n",
    "    def from_list(cls,values:List[int]):\n",
    "        if not values:\n",
    "            return None\n",
    "        return cls(values[0],cls.from_list(values=values[1:]))\n",
    "\n",
    "    def to_list(self):\n",
    "        return list(self)\n",
    "\n",
    "    def __iter__(self):\n",
    "        yield self.val\n",
    "        if self.next:\n",
    "            yield from self.next.__iter__()\n",
    "\n",
    "    def __str__(self):\n",
    "        return str(self.val)\n",
    "\n",
    "    def __repr__(self):\n",
    "        return str(self.val)\n",
    "    \n",
    "if __name__ == \"__main__\":\n",
    "    root = ListNode.from_list([1,2,3,4,5])\n",
    "    print(root.to_list())\n",
    "                "
   ]
  },
  {
   "cell_type": "markdown",
   "metadata": {},
   "source": [
    "### 双指针\n",
    "\n",
    "设置两个指针`{h,t}`,初始都指向节点`head`,然后将指针`t`向后移动`k`个节点"
   ]
  },
  {
   "cell_type": "code",
   "execution_count": 20,
   "metadata": {},
   "outputs": [],
   "source": [
    "class Solution:\n",
    "    def reverseKGroup(self, head: Optional[ListNode], k: int) -> Optional[ListNode]:\n",
    "        if head is None:\n",
    "            return head\n",
    "        h = t = head\n",
    "        i = 0\n",
    "        first_node = head\n",
    "        new_head = None\n",
    "        while t is not None:\n",
    "            if i >=k-1:\n",
    "                i = 0 # 重新进入下一轮交换\n",
    "                last_node = t.next\n",
    "                while h != t:\n",
    "                    tmp,h = h,h.next\n",
    "                    tmp.next = last_node\n",
    "                    last_node = tmp\n",
    "                tmp = h\n",
    "                t = h = h.next\n",
    "                tmp.next = last_node\n",
    "                first_node.next = tmp\n",
    "                first_node = t\n",
    "                if new_head is None:\n",
    "                    new_head = tmp\n",
    "            i += 1\n",
    "            t = t.next\n",
    "        return new_head or head"
   ]
  },
  {
   "cell_type": "code",
   "execution_count": 21,
   "metadata": {},
   "outputs": [
    {
     "ename": "RecursionError",
     "evalue": "maximum recursion depth exceeded while calling a Python object",
     "output_type": "error",
     "traceback": [
      "\u001b[0;31m---------------------------------------------------------------------------\u001b[0m",
      "\u001b[0;31mRecursionError\u001b[0m                            Traceback (most recent call last)",
      "\u001b[1;32m/Users/shanweijia/code/python/note/PublicNote/docs/算法实战/25. K 个一组翻转链表.ipynb Cell 5\u001b[0m in \u001b[0;36m<cell line: 1>\u001b[0;34m()\u001b[0m\n\u001b[1;32m      <a href='vscode-notebook-cell:/Users/shanweijia/code/python/note/PublicNote/docs/%E7%AE%97%E6%B3%95%E5%AE%9E%E6%88%98/25.%20K%20%E4%B8%AA%E4%B8%80%E7%BB%84%E7%BF%BB%E8%BD%AC%E9%93%BE%E8%A1%A8.ipynb#ch0000005?line=0'>1</a>\u001b[0m \u001b[39mif\u001b[39;00m \u001b[39m__name__\u001b[39m \u001b[39m==\u001b[39m \u001b[39m\"\u001b[39m\u001b[39m__main__\u001b[39m\u001b[39m\"\u001b[39m:\n\u001b[1;32m      <a href='vscode-notebook-cell:/Users/shanweijia/code/python/note/PublicNote/docs/%E7%AE%97%E6%B3%95%E5%AE%9E%E6%88%98/25.%20K%20%E4%B8%AA%E4%B8%80%E7%BB%84%E7%BF%BB%E8%BD%AC%E9%93%BE%E8%A1%A8.ipynb#ch0000005?line=1'>2</a>\u001b[0m     s \u001b[39m=\u001b[39m Solution()\n\u001b[0;32m----> <a href='vscode-notebook-cell:/Users/shanweijia/code/python/note/PublicNote/docs/%E7%AE%97%E6%B3%95%E5%AE%9E%E6%88%98/25.%20K%20%E4%B8%AA%E4%B8%80%E7%BB%84%E7%BF%BB%E8%BD%AC%E9%93%BE%E8%A1%A8.ipynb#ch0000005?line=2'>3</a>\u001b[0m     \u001b[39massert\u001b[39;00m s\u001b[39m.\u001b[39;49mreverseKGroup(ListNode\u001b[39m.\u001b[39;49mfrom_list([\u001b[39m1\u001b[39;49m,\u001b[39m2\u001b[39;49m,\u001b[39m3\u001b[39;49m,\u001b[39m4\u001b[39;49m,\u001b[39m5\u001b[39;49m]),\u001b[39m2\u001b[39;49m)\u001b[39m.\u001b[39;49mto_list() \u001b[39m==\u001b[39m [\u001b[39m2\u001b[39m,\u001b[39m1\u001b[39m,\u001b[39m4\u001b[39m,\u001b[39m3\u001b[39m,\u001b[39m5\u001b[39m]\n\u001b[1;32m      <a href='vscode-notebook-cell:/Users/shanweijia/code/python/note/PublicNote/docs/%E7%AE%97%E6%B3%95%E5%AE%9E%E6%88%98/25.%20K%20%E4%B8%AA%E4%B8%80%E7%BB%84%E7%BF%BB%E8%BD%AC%E9%93%BE%E8%A1%A8.ipynb#ch0000005?line=3'>4</a>\u001b[0m     \u001b[39massert\u001b[39;00m s\u001b[39m.\u001b[39mreverseKGroup(ListNode\u001b[39m.\u001b[39mfrom_list([\u001b[39m1\u001b[39m,\u001b[39m2\u001b[39m,\u001b[39m3\u001b[39m,\u001b[39m4\u001b[39m,\u001b[39m5\u001b[39m]),\u001b[39m3\u001b[39m)\u001b[39m.\u001b[39mto_list() \u001b[39m==\u001b[39m [\u001b[39m3\u001b[39m,\u001b[39m2\u001b[39m,\u001b[39m1\u001b[39m,\u001b[39m4\u001b[39m,\u001b[39m5\u001b[39m]\n",
      "\u001b[1;32m/Users/shanweijia/code/python/note/PublicNote/docs/算法实战/25. K 个一组翻转链表.ipynb Cell 5\u001b[0m in \u001b[0;36mListNode.to_list\u001b[0;34m(self)\u001b[0m\n\u001b[1;32m     <a href='vscode-notebook-cell:/Users/shanweijia/code/python/note/PublicNote/docs/%E7%AE%97%E6%B3%95%E5%AE%9E%E6%88%98/25.%20K%20%E4%B8%AA%E4%B8%80%E7%BB%84%E7%BF%BB%E8%BD%AC%E9%93%BE%E8%A1%A8.ipynb#ch0000005?line=15'>16</a>\u001b[0m \u001b[39mdef\u001b[39;00m \u001b[39mto_list\u001b[39m(\u001b[39mself\u001b[39m):\n\u001b[0;32m---> <a href='vscode-notebook-cell:/Users/shanweijia/code/python/note/PublicNote/docs/%E7%AE%97%E6%B3%95%E5%AE%9E%E6%88%98/25.%20K%20%E4%B8%AA%E4%B8%80%E7%BB%84%E7%BF%BB%E8%BD%AC%E9%93%BE%E8%A1%A8.ipynb#ch0000005?line=16'>17</a>\u001b[0m     \u001b[39mreturn\u001b[39;00m \u001b[39mlist\u001b[39;49m(\u001b[39mself\u001b[39;49m)\n",
      "\u001b[1;32m/Users/shanweijia/code/python/note/PublicNote/docs/算法实战/25. K 个一组翻转链表.ipynb Cell 5\u001b[0m in \u001b[0;36mListNode.__iter__\u001b[0;34m(self)\u001b[0m\n\u001b[1;32m     <a href='vscode-notebook-cell:/Users/shanweijia/code/python/note/PublicNote/docs/%E7%AE%97%E6%B3%95%E5%AE%9E%E6%88%98/25.%20K%20%E4%B8%AA%E4%B8%80%E7%BB%84%E7%BF%BB%E8%BD%AC%E9%93%BE%E8%A1%A8.ipynb#ch0000005?line=19'>20</a>\u001b[0m \u001b[39myield\u001b[39;00m \u001b[39mself\u001b[39m\u001b[39m.\u001b[39mval\n\u001b[1;32m     <a href='vscode-notebook-cell:/Users/shanweijia/code/python/note/PublicNote/docs/%E7%AE%97%E6%B3%95%E5%AE%9E%E6%88%98/25.%20K%20%E4%B8%AA%E4%B8%80%E7%BB%84%E7%BF%BB%E8%BD%AC%E9%93%BE%E8%A1%A8.ipynb#ch0000005?line=20'>21</a>\u001b[0m \u001b[39mif\u001b[39;00m \u001b[39mself\u001b[39m\u001b[39m.\u001b[39mnext:\n\u001b[0;32m---> <a href='vscode-notebook-cell:/Users/shanweijia/code/python/note/PublicNote/docs/%E7%AE%97%E6%B3%95%E5%AE%9E%E6%88%98/25.%20K%20%E4%B8%AA%E4%B8%80%E7%BB%84%E7%BF%BB%E8%BD%AC%E9%93%BE%E8%A1%A8.ipynb#ch0000005?line=21'>22</a>\u001b[0m     \u001b[39myield from\u001b[39;00m \u001b[39mself\u001b[39m\u001b[39m.\u001b[39mnext\u001b[39m.\u001b[39m\u001b[39m__iter__\u001b[39m()\n",
      "\u001b[1;32m/Users/shanweijia/code/python/note/PublicNote/docs/算法实战/25. K 个一组翻转链表.ipynb Cell 5\u001b[0m in \u001b[0;36mListNode.__iter__\u001b[0;34m(self)\u001b[0m\n\u001b[1;32m     <a href='vscode-notebook-cell:/Users/shanweijia/code/python/note/PublicNote/docs/%E7%AE%97%E6%B3%95%E5%AE%9E%E6%88%98/25.%20K%20%E4%B8%AA%E4%B8%80%E7%BB%84%E7%BF%BB%E8%BD%AC%E9%93%BE%E8%A1%A8.ipynb#ch0000005?line=19'>20</a>\u001b[0m \u001b[39myield\u001b[39;00m \u001b[39mself\u001b[39m\u001b[39m.\u001b[39mval\n\u001b[1;32m     <a href='vscode-notebook-cell:/Users/shanweijia/code/python/note/PublicNote/docs/%E7%AE%97%E6%B3%95%E5%AE%9E%E6%88%98/25.%20K%20%E4%B8%AA%E4%B8%80%E7%BB%84%E7%BF%BB%E8%BD%AC%E9%93%BE%E8%A1%A8.ipynb#ch0000005?line=20'>21</a>\u001b[0m \u001b[39mif\u001b[39;00m \u001b[39mself\u001b[39m\u001b[39m.\u001b[39mnext:\n\u001b[0;32m---> <a href='vscode-notebook-cell:/Users/shanweijia/code/python/note/PublicNote/docs/%E7%AE%97%E6%B3%95%E5%AE%9E%E6%88%98/25.%20K%20%E4%B8%AA%E4%B8%80%E7%BB%84%E7%BF%BB%E8%BD%AC%E9%93%BE%E8%A1%A8.ipynb#ch0000005?line=21'>22</a>\u001b[0m     \u001b[39myield from\u001b[39;00m \u001b[39mself\u001b[39m\u001b[39m.\u001b[39mnext\u001b[39m.\u001b[39m\u001b[39m__iter__\u001b[39m()\n",
      "    \u001b[0;31m[... skipping similar frames: ListNode.__iter__ at line 22 (2961 times)]\u001b[0m\n",
      "\u001b[1;32m/Users/shanweijia/code/python/note/PublicNote/docs/算法实战/25. K 个一组翻转链表.ipynb Cell 5\u001b[0m in \u001b[0;36mListNode.__iter__\u001b[0;34m(self)\u001b[0m\n\u001b[1;32m     <a href='vscode-notebook-cell:/Users/shanweijia/code/python/note/PublicNote/docs/%E7%AE%97%E6%B3%95%E5%AE%9E%E6%88%98/25.%20K%20%E4%B8%AA%E4%B8%80%E7%BB%84%E7%BF%BB%E8%BD%AC%E9%93%BE%E8%A1%A8.ipynb#ch0000005?line=19'>20</a>\u001b[0m \u001b[39myield\u001b[39;00m \u001b[39mself\u001b[39m\u001b[39m.\u001b[39mval\n\u001b[1;32m     <a href='vscode-notebook-cell:/Users/shanweijia/code/python/note/PublicNote/docs/%E7%AE%97%E6%B3%95%E5%AE%9E%E6%88%98/25.%20K%20%E4%B8%AA%E4%B8%80%E7%BB%84%E7%BF%BB%E8%BD%AC%E9%93%BE%E8%A1%A8.ipynb#ch0000005?line=20'>21</a>\u001b[0m \u001b[39mif\u001b[39;00m \u001b[39mself\u001b[39m\u001b[39m.\u001b[39mnext:\n\u001b[0;32m---> <a href='vscode-notebook-cell:/Users/shanweijia/code/python/note/PublicNote/docs/%E7%AE%97%E6%B3%95%E5%AE%9E%E6%88%98/25.%20K%20%E4%B8%AA%E4%B8%80%E7%BB%84%E7%BF%BB%E8%BD%AC%E9%93%BE%E8%A1%A8.ipynb#ch0000005?line=21'>22</a>\u001b[0m     \u001b[39myield from\u001b[39;00m \u001b[39mself\u001b[39m\u001b[39m.\u001b[39mnext\u001b[39m.\u001b[39m\u001b[39m__iter__\u001b[39m()\n",
      "\u001b[1;32m/Users/shanweijia/code/python/note/PublicNote/docs/算法实战/25. K 个一组翻转链表.ipynb Cell 5\u001b[0m in \u001b[0;36mListNode.__iter__\u001b[0;34m(self)\u001b[0m\n\u001b[1;32m     <a href='vscode-notebook-cell:/Users/shanweijia/code/python/note/PublicNote/docs/%E7%AE%97%E6%B3%95%E5%AE%9E%E6%88%98/25.%20K%20%E4%B8%AA%E4%B8%80%E7%BB%84%E7%BF%BB%E8%BD%AC%E9%93%BE%E8%A1%A8.ipynb#ch0000005?line=15'>16</a>\u001b[0m \u001b[39mdef\u001b[39;00m \u001b[39mto_list\u001b[39m(\u001b[39mself\u001b[39m):\n\u001b[1;32m     <a href='vscode-notebook-cell:/Users/shanweijia/code/python/note/PublicNote/docs/%E7%AE%97%E6%B3%95%E5%AE%9E%E6%88%98/25.%20K%20%E4%B8%AA%E4%B8%80%E7%BB%84%E7%BF%BB%E8%BD%AC%E9%93%BE%E8%A1%A8.ipynb#ch0000005?line=16'>17</a>\u001b[0m     \u001b[39mreturn\u001b[39;00m \u001b[39mlist\u001b[39m(\u001b[39mself\u001b[39m)\n\u001b[0;32m---> <a href='vscode-notebook-cell:/Users/shanweijia/code/python/note/PublicNote/docs/%E7%AE%97%E6%B3%95%E5%AE%9E%E6%88%98/25.%20K%20%E4%B8%AA%E4%B8%80%E7%BB%84%E7%BF%BB%E8%BD%AC%E9%93%BE%E8%A1%A8.ipynb#ch0000005?line=18'>19</a>\u001b[0m \u001b[39mdef\u001b[39;00m \u001b[39m__iter__\u001b[39m(\u001b[39mself\u001b[39m):\n\u001b[1;32m     <a href='vscode-notebook-cell:/Users/shanweijia/code/python/note/PublicNote/docs/%E7%AE%97%E6%B3%95%E5%AE%9E%E6%88%98/25.%20K%20%E4%B8%AA%E4%B8%80%E7%BB%84%E7%BF%BB%E8%BD%AC%E9%93%BE%E8%A1%A8.ipynb#ch0000005?line=19'>20</a>\u001b[0m     \u001b[39myield\u001b[39;00m \u001b[39mself\u001b[39m\u001b[39m.\u001b[39mval\n\u001b[1;32m     <a href='vscode-notebook-cell:/Users/shanweijia/code/python/note/PublicNote/docs/%E7%AE%97%E6%B3%95%E5%AE%9E%E6%88%98/25.%20K%20%E4%B8%AA%E4%B8%80%E7%BB%84%E7%BF%BB%E8%BD%AC%E9%93%BE%E8%A1%A8.ipynb#ch0000005?line=20'>21</a>\u001b[0m     \u001b[39mif\u001b[39;00m \u001b[39mself\u001b[39m\u001b[39m.\u001b[39mnext:\n",
      "File \u001b[0;32m_pydevd_bundle/pydevd_cython.pyx:1366\u001b[0m, in \u001b[0;36m_pydevd_bundle.pydevd_cython.SafeCallWrapper.__call__\u001b[0;34m()\u001b[0m\n",
      "\u001b[0;31mRecursionError\u001b[0m: maximum recursion depth exceeded while calling a Python object"
     ]
    }
   ],
   "source": [
    "if __name__ == \"__main__\":\n",
    "    s = Solution()\n",
    "    assert s.reverseKGroup(ListNode.from_list([1,2,3,4,5]),2).to_list() == [2,1,4,3,5]\n",
    "    assert s.reverseKGroup(ListNode.from_list([1,2,3,4,5]),3).to_list() == [3,2,1,4,5]"
   ]
  }
 ],
 "metadata": {
  "kernelspec": {
   "display_name": "Python 3.10.4 ('.venv': venv)",
   "language": "python",
   "name": "python3"
  },
  "language_info": {
   "codemirror_mode": {
    "name": "ipython",
    "version": 3
   },
   "file_extension": ".py",
   "mimetype": "text/x-python",
   "name": "python",
   "nbconvert_exporter": "python",
   "pygments_lexer": "ipython3",
   "version": "3.10.4"
  },
  "orig_nbformat": 4,
  "vscode": {
   "interpreter": {
    "hash": "f3897d38dc41ff7c1eec30275d3ba6d8e8caf81732cedae805b00463b87ecdf6"
   }
  }
 },
 "nbformat": 4,
 "nbformat_minor": 2
}
