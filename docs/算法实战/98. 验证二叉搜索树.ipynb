{
 "cells": [
  {
   "cell_type": "markdown",
   "metadata": {},
   "source": [
    "---\n",
    "title: 98. 验证二叉搜索树\n",
    "---\n",
    "\n",
    "# [98. 验证二叉搜索树](https://leetcode.cn/problems/validate-binary-search-tree/){:target=\"_blank\"}\n",
    "\n",
    "## 题干\n",
    "给你一个二叉树的根节点 `root` ，判断其是否是一个有效的二叉搜索树。\n",
    "**有效**的二叉搜索树定义如下:\n",
    "\n",
    "- 节点的左子树只包含**小于**当前节点的数\n",
    "- 节点的右子树只包含**大于**当前节点的数\n",
    "- 节点的左右子树也是二叉搜索树\n",
    "  \n",
    "## 示例\n",
    "\n",
    "### 示例 1\n",
    "![](https://assets.leetcode.com/uploads/2020/12/01/tree1.jpg)\n",
    "```\n",
    "输入：root = [2,1,3]\n",
    "输出：true\n",
    "```\n",
    "\n",
    "### 示例2\n",
    "![](https://assets.leetcode.com/uploads/2020/12/01/tree2.jpg)\n",
    "```\n",
    "输入：root = [5,1,4,null,null,3,6]\n",
    "输出：false\n",
    "解释：根节点的值是 5 ，但是右子节点的值是 4 。\n",
    "```\n",
    "\n",
    "## 提示\n",
    "- 树中节点数目范围在$[1, 10^4]$内\n",
    "- $-2^31 <= Node.val <= 2^31 - 1$"
   ]
  },
  {
   "cell_type": "code",
   "execution_count": null,
   "metadata": {},
   "outputs": [],
   "source": [
    "## 题解"
   ]
  },
  {
   "cell_type": "code",
   "execution_count": 1,
   "metadata": {},
   "outputs": [],
   "source": [
    "from typing import Optional\n",
    "class TreeNode:\n",
    "    def __init__(self, val=0, left=None, right=None):\n",
    "        self.val = val\n",
    "        self.left = left\n",
    "        self.right = right"
   ]
  },
  {
   "cell_type": "markdown",
   "metadata": {},
   "source": [
    "### 深度优先搜索\n",
    "**二叉搜索树的中序遍历结果必然是升序的**"
   ]
  },
  {
   "cell_type": "code",
   "execution_count": 60,
   "metadata": {},
   "outputs": [],
   "source": [
    "class Solution:\n",
    "    def isValidBST(self, root: Optional[TreeNode]) -> bool:\n",
    "        if not root:\n",
    "            return True\n",
    "        def bfs(node:TreeNode):\n",
    "            if node.left:\n",
    "                yield from bfs(node.left)\n",
    "            yield node.val\n",
    "            if node.right:\n",
    "                yield from bfs(node.right)\n",
    "        init_value = -float(\"inf\")\n",
    "        for v in bfs(root):\n",
    "            if v <= init_value:\n",
    "                return False\n",
    "            init_value = v\n",
    "        return True"
   ]
  },
  {
   "cell_type": "markdown",
   "metadata": {},
   "source": [
    "### 简单递归\n",
    "可以通过设置左右边界值来作为判断依据,\n",
    "\n",
    "- 当前节点的左子树的右边界为当前节点\n",
    "- 当前节点的右子树的左边界为当前节点"
   ]
  },
  {
   "cell_type": "code",
   "execution_count": 64,
   "metadata": {},
   "outputs": [],
   "source": [
    "class Solution:\n",
    "    def isValidBST(self, root: Optional[TreeNode]) -> bool:\n",
    "        def valid_node(node:TreeNode,lower,upper):\n",
    "            if not node:\n",
    "                return True\n",
    "            if not lower<node.val<upper:\n",
    "                return False\n",
    "            return valid_node(node.left,lower,node.val) and valid_node(node.right,node.val,upper)\n",
    "        return valid_node(root,-float(\"inf\"),float(\"inf\"))"
   ]
  },
  {
   "cell_type": "code",
   "execution_count": 65,
   "metadata": {},
   "outputs": [
    {
     "name": "stdout",
     "output_type": "stream",
     "text": [
      "CPU times: user 67 µs, sys: 0 ns, total: 67 µs\n",
      "Wall time: 69.1 µs\n",
      "CPU times: user 12 µs, sys: 0 ns, total: 12 µs\n",
      "Wall time: 14.1 µs\n",
      "CPU times: user 9 µs, sys: 0 ns, total: 9 µs\n",
      "Wall time: 11.9 µs\n"
     ]
    }
   ],
   "source": [
    "\n",
    "s=Solution()\n",
    "root3 = TreeNode(5,TreeNode(4),TreeNode(6,TreeNode(3),TreeNode(7)))\n",
    "%time assert s.isValidBST(root3) is False\n",
    "root1 = TreeNode(2,TreeNode(1),TreeNode(3))\n",
    "%time assert s.isValidBST(root1) is True\n",
    "roo2 = TreeNode(5,TreeNode(1),TreeNode(4,TreeNode(3),TreeNode(6)))\n",
    "%time assert s.isValidBST(roo2) is False\n",
    "\n"
   ]
  }
 ],
 "metadata": {
  "interpreter": {
   "hash": "f3897d38dc41ff7c1eec30275d3ba6d8e8caf81732cedae805b00463b87ecdf6"
  },
  "kernelspec": {
   "display_name": "Python 3.10.4 ('.venv': venv)",
   "language": "python",
   "name": "python3"
  },
  "language_info": {
   "codemirror_mode": {
    "name": "ipython",
    "version": 3
   },
   "file_extension": ".py",
   "mimetype": "text/x-python",
   "name": "python",
   "nbconvert_exporter": "python",
   "pygments_lexer": "ipython3",
   "version": "3.10.4"
  },
  "orig_nbformat": 4
 },
 "nbformat": 4,
 "nbformat_minor": 2
}
