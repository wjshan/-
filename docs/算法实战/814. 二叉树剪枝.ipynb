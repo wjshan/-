{
 "cells": [
  {
   "cell_type": "markdown",
   "metadata": {},
   "source": [
    "---\n",
    "title: 814. 二叉树剪枝\n",
    "---\n",
    "\n",
    "# [814. 二叉树剪枝](https://leetcode.cn/problems/binary-tree-pruning/)\n",
    "\n",
    "## 题干\n",
    "\n",
    "给你二叉树的根节点`root`, 此外树的每个节点的值要么是`0`,要么是`1`.\n",
    "\n",
    "返回移除了所有不包含`1`的子树的原二叉树.\n",
    "\n",
    "节点`node`的子树为`node`本身加上所有`node`的后代\n",
    "\n",
    "## 示例\n",
    "\n",
    "### 示例 1\n",
    "\n",
    "![](/assets/images/814.%20二叉树剪枝/2022-07-21-09-49-30.png)\n",
    "\n",
    "```\n",
    "输入：root = [1,null,0,0,1]\n",
    "输出：[1,null,0,null,1]\n",
    "解释：\n",
    "只有红色节点满足条件“所有不包含 1 的子树”。 右图为返回的答案。\n",
    "\n",
    "```\n",
    "\n",
    "### 示例 2\n",
    "\n",
    "![](/assets/images/814.%20二叉树剪枝/2022-07-21-09-50-04.png)\n",
    "\n",
    "```\n",
    "输入：root = [1,0,1,0,0,0,1]\n",
    "输出：[1,null,1,null,1]\n",
    "```\n",
    "\n",
    "### 示例 3\n",
    "\n",
    "![](/assets/images/814.%20二叉树剪枝/2022-07-21-09-50-29.png)\n",
    "\n",
    "```\n",
    "输入：root = [1,1,0,1,1,0,1,0]\n",
    "输出：[1,1,0,1,1,null,1]\n",
    "\n",
    "```\n",
    "\n",
    "## 提示\n",
    "\n",
    "- 树种节点的数目在范围`[1,200]`内\n",
    "- `Node.val`为`0`或`1`\n",
    "\n",
    "## 题解"
   ]
  },
  {
   "cell_type": "code",
   "execution_count": 1,
   "metadata": {},
   "outputs": [],
   "source": [
    "from typing import Optional,List,TypeVar\n",
    "import queue\n",
    "T = TypeVar(\"T\")\n",
    "# Definition for a binary tree node.\n",
    "class TreeNode:\n",
    "    def __init__(self, val=0, left=None, right=None):\n",
    "        self.val = val\n",
    "        self.left = left\n",
    "        self.right = right"
   ]
  },
  {
   "cell_type": "markdown",
   "metadata": {},
   "source": [
    "### 深度优先遍历\n",
    "\n",
    "操作遍历过程如下:\n",
    "\n",
    "1. 通过深度优先遍历,当遇到某个节点的左右子节点为`0`是,跳过,并将为`0`的节点去除\n",
    "2. 当根节点为`0`时,直接返回`None`\n",
    "\n",
    "**时间复杂度**: $O(n)$ 二叉树的所有节点都需要遍历一次\n",
    "\n",
    "**空间复杂度**: $O(1)$ 仅需要常数级的额外空间(不计算递归栈)\n",
    "\n",
    "![](/assets/images/814.%20二叉树剪枝/2022-07-21-11-19-33.png)"
   ]
  },
  {
   "cell_type": "code",
   "execution_count": 2,
   "metadata": {},
   "outputs": [],
   "source": [
    "class Solution:\n",
    "    def pruneTree(self, root: Optional[TreeNode]) -> Optional[TreeNode]:\n",
    "        def dfs(node:Optional[TreeNode]):\n",
    "            if node is None:\n",
    "                return True # 全为零\n",
    "            \n",
    "            l = dfs(node.left)\n",
    "            r = dfs(node.right)\n",
    "            \n",
    "            if l:\n",
    "                node.left = None\n",
    "            if r:\n",
    "                node.right = None\n",
    "                \n",
    "            if l and r and node.val == 0:\n",
    "                return True\n",
    "        return None if dfs(root) else root"
   ]
  },
  {
   "cell_type": "code",
   "execution_count": 3,
   "metadata": {},
   "outputs": [
    {
     "name": "stdout",
     "output_type": "stream",
     "text": [
      "CPU times: user 178 µs, sys: 63 µs, total: 241 µs\n",
      "Wall time: 257 µs\n",
      "<__main__.TreeNode object at 0x7fa868501270>\n"
     ]
    }
   ],
   "source": [
    "if __name__ == \"__main__\":\n",
    "    S = Solution()\n",
    "    %time a = S.pruneTree(TreeNode(1,None,TreeNode(0,TreeNode(0),TreeNode(1))))\n",
    "    print(a)\n",
    "                          "
   ]
  }
 ],
 "metadata": {
  "kernelspec": {
   "display_name": "Python 3.10.4 ('.venv': venv)",
   "language": "python",
   "name": "python3"
  },
  "language_info": {
   "codemirror_mode": {
    "name": "ipython",
    "version": 3
   },
   "file_extension": ".py",
   "mimetype": "text/x-python",
   "name": "python",
   "nbconvert_exporter": "python",
   "pygments_lexer": "ipython3",
   "version": "3.10.4"
  },
  "orig_nbformat": 4,
  "vscode": {
   "interpreter": {
    "hash": "f3897d38dc41ff7c1eec30275d3ba6d8e8caf81732cedae805b00463b87ecdf6"
   }
  }
 },
 "nbformat": 4,
 "nbformat_minor": 2
}
