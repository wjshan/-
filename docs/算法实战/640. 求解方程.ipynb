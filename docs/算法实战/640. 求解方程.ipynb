{
 "cells": [
  {
   "cell_type": "markdown",
   "metadata": {},
   "source": [
    "---\n",
    "title: 640. 求解方程\n",
    "---\n",
    "\n",
    "# [640. 求解方程](https://leetcode.cn/problems/solve-the-equation/)\n",
    "\n",
    "## 题干\n",
    "求解一个给定的方程,将`x`以字符串`\"x=#value\"`的形式返回.该方程仅包含`'+'`,`'-'`操作,变量`x`和其对应系数.\n",
    "\n",
    "如果方程没有解,请返回`\"No solution\"`. 如果方程有无限解,则返回`\"Infinite solutions\"`.\n",
    "\n",
    "题目保证,如果方程中只有一个解,则`x`的值是一个整数.\n",
    "\n",
    "## 示例\n",
    "\n",
    "### 示例 1\n",
    "\n",
    "```\n",
    "输入: equation = \"x+5-3+x=6+x-2\"\n",
    "输出: \"x=2\"\n",
    "```\n",
    "\n",
    "### 示例 2\n",
    "\n",
    "```\n",
    "输入: equation = \"x=x\"\n",
    "输出: \"Infinite solutions\"\n",
    "```\n",
    "\n",
    "### 示例 3\n",
    "\n",
    "```\n",
    "输入: equation = \"2x=x\"\n",
    "输出: \"x=0\"\n",
    "```\n",
    "\n",
    "## 提示\n",
    "\n",
    "- $3\\le equation.length \\le 1000$\n",
    "- `equation`只有一个`=`\n",
    "- `equation`方程由整数组成,其绝对值在`[0,100]`范围内,不含前导零和变量`x`.\n",
    "\n",
    "## 题解"
   ]
  },
  {
   "cell_type": "markdown",
   "metadata": {},
   "source": [
    "### 整理左右系数\n",
    "\n",
    "我们可以将式子整理为 $aX=b$的形式 那么最终结果:\n",
    "\n",
    "$\\begin{cases} \n",
    "b/a & a \\neq 0 \\\\\n",
    "Infinite\\ solutions & a=0 \\end{cases}$\n",
    "\n",
    "**时间复杂度**: 所有的字符都需要访问一次,$O(n)$\n",
    "\n",
    "**空间复杂度**: 使用常数级空间,$O(1)$\n",
    "\n",
    "![](/assets/images/640.%20求解方程/2022-08-10-15-15-03.png)"
   ]
  },
  {
   "cell_type": "code",
   "execution_count": 30,
   "metadata": {},
   "outputs": [],
   "source": [
    "class Solution:\n",
    "    def solveEquation(self, equation: str) -> str:\n",
    "        a = b = 0\n",
    "        is_left = True\n",
    "        e = 1\n",
    "        v = None\n",
    "        for ch in equation:\n",
    "            if ch == \"x\":\n",
    "                _v = v if v is not None else 1\n",
    "                a += e*_v if is_left else -e*_v\n",
    "            elif not 48<=ord(ch)<=57 and v is not None:\n",
    "                b += -e*v if is_left else e*v\n",
    "            if ch==\"-\":\n",
    "                e = -1\n",
    "            elif ch == \"+\":\n",
    "                e = 1\n",
    "            elif ch==\"=\":\n",
    "                e = 1\n",
    "                is_left = False\n",
    "            if 48<=ord(ch)<=57:\n",
    "                v = 0 if v is None else v\n",
    "                v = v*10 + ord(ch) - 48\n",
    "            else:\n",
    "                v = None\n",
    "        if v:\n",
    "            b += -e*v if is_left else e*v\n",
    "        if a ==0:\n",
    "            if b == 0:\n",
    "                return \"Infinite solutions\"\n",
    "            return \"No solution\"\n",
    "        return f\"x={int(b/a)}\""
   ]
  },
  {
   "cell_type": "code",
   "execution_count": 31,
   "metadata": {},
   "outputs": [
    {
     "name": "stdout",
     "output_type": "stream",
     "text": [
      "3 66\n",
      "1 2\n",
      "1 0\n"
     ]
    }
   ],
   "source": [
    "if __name__ == \"__main__\":\n",
    "    s = Solution()\n",
    "    assert s.solveEquation(\"0x=0\") == \"Infinite solutions\"\n",
    "    assert s.solveEquation(\"3x=33+22+11\") == \"x=22\"\n",
    "    assert s.solveEquation(\"x+5-3+x=6+x-2\") == \"x=2\"\n",
    "    assert s.solveEquation(\"x=x\") == \"Infinite solutions\"\n",
    "    assert s.solveEquation(\"2x=x\") == \"x=0\"\n",
    "    \n",
    "    "
   ]
  }
 ],
 "metadata": {
  "kernelspec": {
   "display_name": "Python 3.10.4 ('.venv': venv)",
   "language": "python",
   "name": "python3"
  },
  "language_info": {
   "codemirror_mode": {
    "name": "ipython",
    "version": 3
   },
   "file_extension": ".py",
   "mimetype": "text/x-python",
   "name": "python",
   "nbconvert_exporter": "python",
   "pygments_lexer": "ipython3",
   "version": "3.10.4"
  },
  "orig_nbformat": 4,
  "vscode": {
   "interpreter": {
    "hash": "f3897d38dc41ff7c1eec30275d3ba6d8e8caf81732cedae805b00463b87ecdf6"
   }
  }
 },
 "nbformat": 4,
 "nbformat_minor": 2
}
