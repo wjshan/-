{
 "cells": [
  {
   "cell_type": "markdown",
   "metadata": {},
   "source": [
    "---\n",
    "title: 2303. 计算应缴税款总额\n",
    "---\n",
    "# [2303. 计算应缴税款总额](https://leetcode.cn/problems/calculate-amount-paid-in-taxes/){:target=\"_blank\"}\n",
    "## 题干\n",
    "内你一个下标从**0**开始的二维整数数组`brackets`,其中$brackets[i] = [upper_i, percent_i]$,表示第`i`个税级的上限是$upper_i$,征收的税率为$percent_i$.税级按上限**从低到高排序**(满足$0<i<brackets.length$的前提下,$upper_{i-1} < upper_i$).\n",
    "\n",
    "税款计算方式如下:\n",
    "\n",
    "- 不超过$upper_0$的收入按税率$percent_0$缴纳\n",
    "- 接着$upper_1 - upper_0$的部分按税率$percent_1$缴纳\n",
    "- 然后$upper_2 - upper_1$的部分按税率$percent_2$缴纳\n",
    "- 以此类推\n",
    "\n",
    "给你一个整数`income`表示你的总收入.返回你需要缴纳的税款总额.与标准答案误差不超$10^{-5}$的结果将被视作正确答案.\n",
    "\n",
    "## 示例\n",
    "### 示例 1\n",
    "\n",
    "```\n",
    "输入：brackets = [[3,50],[7,10],[12,25]], income = 10\n",
    "输出：2.65000\n",
    "解释：\n",
    "前 $3 的税率为 50% 。需要支付税款 $3 * 50% = $1.50 。\n",
    "接下来 $7 - $3 = $4 的税率为 10% 。需要支付税款 $4 * 10% = $0.40 。\n",
    "最后 $10 - $7 = $3 的税率为 25% 。需要支付税款 $3 * 25% = $0.75 。\n",
    "需要支付的税款总计 $1.50 + $0.40 + $0.75 = $2.65 。\n",
    "```\n",
    "\n",
    "### 示例 2\n",
    "\n",
    "```\n",
    "输入：brackets = [[1,0],[4,25],[5,50]], income = 2\n",
    "输出：0.25000\n",
    "解释：\n",
    "前 $1 的税率为 0% 。需要支付税款 $1 * 0% = $0 。\n",
    "剩下 $1 的税率为 25% 。需要支付税款 $1 * 25% = $0.25 。\n",
    "需要支付的税款总计 $0 + $0.25 = $0.25 。\n",
    "```\n",
    "\n",
    "### 示例 3\n",
    "\n",
    "```\n",
    "输入：brackets = [[2,50]], income = 0\n",
    "输出：0.00000\n",
    "解释：\n",
    "没有收入，无需纳税，需要支付的税款总计 $0 。\n",
    "```\n",
    "\n",
    "## 提示\n",
    "\n",
    "- $1 \\le brackets.length \\le 100$\n",
    "- $1 \\le upper_i \\le 1000$\n",
    "- $0 \\le percent_i \\le 100$\n",
    "- $0 \\le income \\le 1000$\n",
    "- $upper_i$按递增顺序排列\n",
    "- $upper_i$中的所有值**互不相同**\n",
    "- 最后一个税级的上线大于等于`income`\n",
    "\n",
    "## 题解"
   ]
  },
  {
   "cell_type": "code",
   "execution_count": 1,
   "metadata": {},
   "outputs": [],
   "source": [
    "from typing import List"
   ]
  },
  {
   "cell_type": "markdown",
   "metadata": {},
   "source": [
    "### 简单累加\n",
    "\n",
    "题干中说的比较详细,我们只需按照题干的描述逐步累加即可得到结果\n",
    "\n",
    "**时间复杂度**: $O(n)$\n",
    "\n",
    "**空间复杂度**: $O(1)$"
   ]
  },
  {
   "cell_type": "code",
   "execution_count": 7,
   "metadata": {},
   "outputs": [],
   "source": [
    "class Solution:\n",
    "    def calculateTax(self, brackets: List[List[int]], income: int) -> float:\n",
    "        last_upper = 0\n",
    "        ans = 0\n",
    "        for upper,precent in brackets:\n",
    "            tax_count = min([upper,income]) - last_upper\n",
    "            last_upper = upper\n",
    "            ans += tax_count*precent/100\n",
    "            if upper >= income: # 计算完成,可以退出了\n",
    "                break\n",
    "        return ans"
   ]
  },
  {
   "cell_type": "code",
   "execution_count": 8,
   "metadata": {},
   "outputs": [
    {
     "name": "stdout",
     "output_type": "stream",
     "text": [
      "CPU times: user 6 µs, sys: 3 µs, total: 9 µs\n",
      "Wall time: 10 µs\n",
      "CPU times: user 3 µs, sys: 1 µs, total: 4 µs\n",
      "Wall time: 5.01 µs\n",
      "CPU times: user 3 µs, sys: 1 µs, total: 4 µs\n",
      "Wall time: 3.81 µs\n"
     ]
    }
   ],
   "source": [
    "if __name__ == \"__main__\":\n",
    "    s = Solution()\n",
    "    %time assert s.calculateTax([[3,50],[7,10],[12,25]], 10)==2.65,\"示例 1\"\n",
    "    %time assert s.calculateTax([[1,0],[4,25],[5,50]], 2)==0.25,\"示例 2\"\n",
    "    %time assert s.calculateTax([[2,50]], 0)==0,\"示例 3\""
   ]
  }
 ],
 "metadata": {
  "interpreter": {
   "hash": "f3897d38dc41ff7c1eec30275d3ba6d8e8caf81732cedae805b00463b87ecdf6"
  },
  "kernelspec": {
   "display_name": "Python 3.10.4 ('.venv': venv)",
   "language": "python",
   "name": "python3"
  },
  "language_info": {
   "codemirror_mode": {
    "name": "ipython",
    "version": 3
   },
   "file_extension": ".py",
   "mimetype": "text/x-python",
   "name": "python",
   "nbconvert_exporter": "python",
   "pygments_lexer": "ipython3",
   "version": "3.10.4"
  },
  "orig_nbformat": 4
 },
 "nbformat": 4,
 "nbformat_minor": 2
}
