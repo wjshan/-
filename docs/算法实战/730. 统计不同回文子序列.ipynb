{
 "cells": [
  {
   "cell_type": "markdown",
   "metadata": {},
   "source": [
    "---\n",
    "title: 730. 统计不同回文子序列\n",
    "flag: TODO\n",
    "---\n",
    "# [730. 统计不同回文子序列](https://leetcode.cn/problems/count-different-palindromic-subsequences/){:target=\"_blank\"}\n",
    "## 题干\n",
    "给定一个字符串`s`,返回`s`中不同的非空[回文子序列]个数.\n",
    "\n",
    "通过从`s`中删除0个或多个字符来获得子序列\n",
    "\n",
    "如果一个字符序列与它反转否的字符序列一致,那么他是[回文字符序列].\n",
    "\n",
    "如果有某个`i`,满足$a_i \\neq b_i$,则两个序列$a_1,a_2, \\dotsb$ 和$`b_1,b_2,\\dotsb`$不同.\n",
    "\n",
    "**注意**\n",
    "- 结果可能很大,你需要对$10^9+7$取模\n",
    "  \n",
    "## 示例\n",
    "### 示例 1\n",
    "\n",
    "```\n",
    "输入：s = 'bccb'\n",
    "输出：6\n",
    "解释：6 个不同的非空回文子字符序列分别为：'b', 'c', 'bb', 'cc', 'bcb', 'bccb'。\n",
    "注意：'bcb' 虽然出现两次但仅计数一次。\n",
    "```\n",
    "\n",
    "### 示例 2\n",
    "\n",
    "```\n",
    "输入：s = 'abcdabcdabcdabcdabcdabcdabcdabcddcbadcbadcbadcbadcbadcbadcbadcba'\n",
    "输出：104860361\n",
    "解释：共有 3104860382 个不同的非空回文子序列，104860361 对 10^9 + 7 取模后的值。\n",
    "```\n",
    "\n",
    "## 提示\n",
    "- $1 \\le s.length \\le 1000$\n",
    "- `s[i]`仅包含`a`,`b`,`c`或`d`"
   ]
  },
  {
   "cell_type": "markdown",
   "metadata": {},
   "source": [
    "## 题解"
   ]
  },
  {
   "cell_type": "markdown",
   "metadata": {},
   "source": [
    "### 动态规划\n",
    "我们可以枚举一个例子下的所有回文情况,假定`s = 'bccb'`:\n",
    "则将所有情况模拟如下:\n",
    "\n",
    "1. $\\mathop{b}\\limits_{\\uparrow}ccb$: b\n",
    "2. $b\\mathop{c}\\limits_{\\uparrow}cb$: c\n",
    "3. $bc\\mathop{c}\\limits_{\\uparrow}b$: cc\n",
    "4. $bcc\\mathop{b}\\limits_{\\uparrow}$: bb,bcb,bccb\n",
    "\n",
    "另一种情况,`s = 'abcdabcda'`:\n",
    "\n",
    "1. $\\mathop{a}\\limits_{\\uparrow}bcdabcda$: a\n",
    "2. $a\\mathop{b}\\limits_{\\uparrow}cdabcda$: b\n",
    "3. $ab\\mathop{c}\\limits_{\\uparrow}dabcda$: c\n",
    "4. $abc\\mathop{d}\\limits_{\\uparrow}abcda$: d\n",
    "5. $abcd\\mathop{a}\\limits_{\\uparrow}bcda$: aa,aba,aca,ada\n",
    "6. $abcda\\mathop{b}\\limits_{\\uparrow}cda$: bb,bcb,bdb,bab\n",
    "7. $abcdab\\mathop{c}\\limits_{\\uparrow}da$: cc,cac,cbc,cdc\n",
    "7. $abcdabc\\mathop{d}\\limits_{\\uparrow}a$: dd,dad,dbd,dcd\n",
    "8. $abcdabdd\\mathop{a}\\limits_{\\uparrow}$: aaa,abba,abcba,abdba,ababa,acca,acaca,acbca,acdca,adda,adada,adbda,adcda\n",
    "   \n"
   ]
  },
  {
   "cell_type": "code",
   "execution_count": 2,
   "metadata": {},
   "outputs": [],
   "source": [
    "class Solution:\n",
    "    def countPalindromicSubsequences(self, s: str) -> int:\n",
    "        MOD = 10 ** 9 + 7\n",
    "        n = len(s)\n",
    "        dp = [[0] * n for _ in range(n)]\n",
    "        next = [[0] * 4 for _ in range(n)]\n",
    "        pre = [[0] * 4 for _ in range(n)]\n",
    "\n",
    "        for i in range(n):\n",
    "            dp[i][i] = 1\n",
    "\n",
    "        pos = [-1] * 4\n",
    "\n",
    "        for i in range(n):\n",
    "            for c in range(4):\n",
    "                pre[i][c] = pos[c]\n",
    "            pos[ord(s[i]) - ord('a')] = i\n",
    "\n",
    "        pos[0] = pos[1] = pos[2] = pos[3] = n\n",
    "\n",
    "        for i in range(n - 1, -1, -1):\n",
    "            for c in range(4):\n",
    "                next[i][c] = pos[c]\n",
    "            pos[ord(s[i]) - ord('a')] = i\n",
    "\n",
    "        for sz in range(2, n + 1):\n",
    "            for j in range(sz - 1, n):\n",
    "                i = j - sz + 1\n",
    "                if s[i] == s[j]:\n",
    "                    low, high = next[i][ord(s[i]) - ord('a')], pre[j][ord(s[i]) - ord('a')]\n",
    "                    if low > high:\n",
    "                        dp[i][j] = (2 + dp[i + 1][j - 1] * 2) % MOD\n",
    "                    elif low == high:\n",
    "                        dp[i][j] = (1 + dp[i + 1][j - 1] * 2) % MOD\n",
    "                    else:\n",
    "                        dp[i][j] = (dp[i + 1][j - 1] * 2 - dp[low + 1][high - 1]) % MOD\n",
    "                else:\n",
    "                    dp[i][j] = (dp[i + 1][j] + dp[i][j - 1] - dp[i + 1][j - 1]) % MOD\n",
    "        return dp[0][n - 1]"
   ]
  },
  {
   "cell_type": "code",
   "execution_count": 3,
   "metadata": {},
   "outputs": [
    {
     "name": "stdout",
     "output_type": "stream",
     "text": [
      "CPU times: user 22 µs, sys: 2 µs, total: 24 µs\n",
      "Wall time: 26 µs\n",
      "CPU times: user 984 µs, sys: 23 µs, total: 1.01 ms\n",
      "Wall time: 1.01 ms\n"
     ]
    }
   ],
   "source": [
    "if __name__ == \"__main__\":\n",
    "    s = Solution()\n",
    "    %time assert s.countPalindromicSubsequences(\"bccb\") == 6\n",
    "    %time assert s.countPalindromicSubsequences(\"abcdabcdabcdabcdabcdabcdabcdabcddcbadcbadcbadcbadcbadcbadcbadcba\") == 104860361"
   ]
  }
 ],
 "metadata": {
  "interpreter": {
   "hash": "f3897d38dc41ff7c1eec30275d3ba6d8e8caf81732cedae805b00463b87ecdf6"
  },
  "kernelspec": {
   "display_name": "Python 3.10.4 ('.venv': venv)",
   "language": "python",
   "name": "python3"
  },
  "language_info": {
   "codemirror_mode": {
    "name": "ipython",
    "version": 3
   },
   "file_extension": ".py",
   "mimetype": "text/x-python",
   "name": "python",
   "nbconvert_exporter": "python",
   "pygments_lexer": "ipython3",
   "version": "3.10.4"
  },
  "orig_nbformat": 4
 },
 "nbformat": 4,
 "nbformat_minor": 2
}
