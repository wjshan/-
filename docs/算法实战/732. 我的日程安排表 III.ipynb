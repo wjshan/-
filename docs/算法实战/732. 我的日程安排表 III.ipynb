{
 "cells": [
  {
   "cell_type": "markdown",
   "metadata": {},
   "source": [
    "---\n",
    "title: 732. 我的日程安排表 III\n",
    "---\n",
    "# [732. 我的日程安排表 III](https://leetcode.cn/problems/my-calendar-iii/){:target=\"_blank\"}\n",
    "## 题干\n",
    "当`k`个日程安排有一些时间上的交叉时(例如`k`个日程安排都在同意时间内),就会产生`k`次预订.\n",
    "\n",
    "给你一些日程安排`[start, end]`,请你在每个日程安排添加狗,返回一个整数`k`,表示所有先前日常安排会产生的最大`k`次预订,`\n",
    "\n",
    "实现一个`MyCalendarTree`类来存放你的日程安排,你可以一直添加新的日程安排.\n",
    "\n",
    "- `MycalendarTree()`初始化对象.\n",
    "- `int book(int start, int end)`返回一个整数`k`,表示日历中存在的`k`次预订的最大值.\n",
    "\n",
    "## 示例\n",
    "```\n",
    "输入：\n",
    "[\"MyCalendarThree\", \"book\", \"book\", \"book\", \"book\", \"book\", \"book\"]\n",
    "[[], [10, 20], [50, 60], [10, 40], [5, 15], [5, 10], [25, 55]]\n",
    "输出：\n",
    "[null, 1, 1, 2, 3, 3, 3]\n",
    "\n",
    "解释：\n",
    "MyCalendarThree myCalendarThree = new MyCalendarThree();\n",
    "myCalendarThree.book(10, 20); // 返回 1 ，第一个日程安排可以预订并且不存在相交，所以最大 k 次预订是 1 次预订。\n",
    "myCalendarThree.book(50, 60); // 返回 1 ，第二个日程安排可以预订并且不存在相交，所以最大 k 次预订是 1 次预订。\n",
    "myCalendarThree.book(10, 40); // 返回 2 ，第三个日程安排 [10, 40) 与第一个日程安排相交，所以最大 k 次预订是 2 次预订。\n",
    "myCalendarThree.book(5, 15); // 返回 3 ，剩下的日程安排的最大 k 次预订是 3 次预订。\n",
    "myCalendarThree.book(5, 10); // 返回 3\n",
    "myCalendarThree.book(25, 55); // 返回 3\n",
    "```\n",
    "## 提示\n",
    "- $0\\le start < end \\le 10^9$\n",
    "- 每个测试用例,调用`book`函数最多不超过`400`次"
   ]
  },
  {
   "cell_type": "markdown",
   "metadata": {},
   "source": [
    "## 题解\n",
    "### 线段树\n",
    "这道题与[掉落的方块]($$699.掉落的方块.ipynb){:target=\"_blank\"}类似,都可以视为在`X`坐标系中存在一系列的线段,每个线段的高度为一,求每次添加新的线段后,当前的最大高度是多少.\n",
    "\n",
    "这类问题可使用线段树解决.[线段树]($$线段树.md){:target=\"_blank\"}"
   ]
  },
  {
   "cell_type": "code",
   "execution_count": 1,
   "metadata": {},
   "outputs": [],
   "source": [
    "class MyCalendarThree:\n",
    "\n",
    "    def __init__(self):\n",
    "        self.lines = []\n",
    "\n",
    "\n",
    "    def book(self, start: int, end: int) -> int:\n",
    "        self.lines.append((start,end))"
   ]
  },
  {
   "cell_type": "code",
   "execution_count": null,
   "metadata": {},
   "outputs": [],
   "source": [
    "from itertools import pairwise\n",
    "if __name__ == \"__main__\":\n",
    "    s = MyCalendarThree()\n",
    "    ques = [[10, 20], [50, 60], [10, 40], [5, 15], [5, 10], [25, 55]]\n",
    "    ans = [ 1, 1, 2, 3, 3, 3]\n",
    "    for (start,end),answer in pairwise(ques,ans):\n",
    "        %time assert s.book(start,end) == answer"
   ]
  }
 ],
 "metadata": {
  "interpreter": {
   "hash": "f3897d38dc41ff7c1eec30275d3ba6d8e8caf81732cedae805b00463b87ecdf6"
  },
  "kernelspec": {
   "display_name": "Python 3.10.4 ('.venv': venv)",
   "language": "python",
   "name": "python3"
  },
  "language_info": {
   "codemirror_mode": {
    "name": "ipython",
    "version": 3
   },
   "file_extension": ".py",
   "mimetype": "text/x-python",
   "name": "python",
   "nbconvert_exporter": "python",
   "pygments_lexer": "ipython3",
   "version": "3.10.4"
  },
  "orig_nbformat": 4
 },
 "nbformat": 4,
 "nbformat_minor": 2
}
