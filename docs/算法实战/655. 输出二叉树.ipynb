{
 "cells": [
  {
   "cell_type": "markdown",
   "metadata": {},
   "source": [
    "---\n",
    "title: 655. 输出二叉树\n",
    "---\n",
    "\n",
    "# [655. 输出二叉树](https://leetcode.cn/problems/print-binary-tree/){:target=\"_blank\"}\n",
    "\n",
    "## 题干\n",
    "\n",
    "给你一棵二叉树的根节点`root`,请你构造一个从下标**0**开始,大小儿`m*n`的字符串举证`res`,用以表示树的格式化布局,狗仔此格式化布局举证需要遵循以下规则:\n",
    "\n",
    "- 树的*高度**为`height`,矩阵的行数`m`应该等于`height+1`.\n",
    "- 怒增的列数`n`应该等于$2^{height+1} -1$\n",
    "- **根节点**需要防止在顶行的**正中间**,对应位置为`res[0][(n-1)/2]`\n",
    "- 对于放置在矩阵中的每个几点,设对应位置为`res[r][e]`,将其左子节点放置在$res[r+1][c-2^{height-r-1}]$,右子节点放置在$res[r+1][c+2^{height-r-1}]$\n",
    "- 继续这一过程,直到树种的所有节点都妥善放置.\n",
    "- 任意空单元格都应该包含空字符串`\"\"`\n",
    "\n",
    "返回构造得到的举证`res`\n",
    "\n",
    "## 示例\n",
    "\n",
    "### 示例 1\n",
    "\n",
    "![](/assets/images/655.%20输出二叉树/2022-08-22-10-06-08.png)\n",
    "\n",
    "```\n",
    "输入：root = [1,2]\n",
    "输出：\n",
    "[[\"\",\"1\",\"\"],\n",
    " [\"2\",\"\",\"\"]]\n",
    "\n",
    "```\n",
    "\n",
    "### 示例 2\n",
    "\n",
    "![](/assets/images/655.%20输出二叉树/2022-08-22-10-06-38.png)\n",
    "\n",
    "```\n",
    "输入：root = [1,2,3,null,4]\n",
    "输出：\n",
    "[[\"\",\"\",\"\",\"1\",\"\",\"\",\"\"],\n",
    " [\"\",\"2\",\"\",\"\",\"\",\"3\",\"\"],\n",
    " [\"\",\"\",\"4\",\"\",\"\",\"\",\"\"]]\n",
    "\n",
    "```\n",
    "\n",
    "## 提示\n",
    "\n",
    "- 树种节点数在范围$[1,2^10]$内\n",
    "- $-99 \\le Node.val \\le 99$\n",
    "- 数的深度在范围`[1,10]`内\n",
    "\n",
    "## 题解"
   ]
  },
  {
   "cell_type": "code",
   "execution_count": 2,
   "metadata": {},
   "outputs": [],
   "source": [
    "from typing import Optional,List\n",
    "# Definition for a binary tree node.\n",
    "class TreeNode:\n",
    "    def __init__(self, val=0, left=None, right=None):\n",
    "        self.val = val\n",
    "        self.left = left\n",
    "        self.right = right"
   ]
  },
  {
   "cell_type": "markdown",
   "metadata": {},
   "source": [
    "### 深度优先遍历\n",
    "\n",
    "**时间复杂度**: $O(height×2^height)$ 需要填充数组 $res[height+1][2^height-1]$\n",
    "\n",
    "**空间复杂度**: $O(height)$ 返回结果不算,存在递归栈\n",
    "\n",
    "![](/assets/images/655.%20输出二叉树/2022-08-22-11-08-46.png)"
   ]
  },
  {
   "cell_type": "code",
   "execution_count": 26,
   "metadata": {},
   "outputs": [],
   "source": [
    "class Solution:\n",
    "    def printTree(self, root: Optional[TreeNode]) -> List[List[str]]:\n",
    "        height = 0\n",
    "        for _,l in self.bfs(root):\n",
    "            height = max([height,l])\n",
    "        k = 2**(height+1) -1\n",
    "        res = [[\"\"]*k for i in range(height+1)]\n",
    "        r,c = 0,(k-1)/2\n",
    "\n",
    "        def dfs(node:TreeNode,row,col):\n",
    "            if not node:\n",
    "                return\n",
    "            res[int(row)][int(col)] = str(node.val)\n",
    "            dfs(node.left,row+1,col-2**(height-row-1))\n",
    "            dfs(node.right,row+1,col+2**(height-row-1))\n",
    "\n",
    "        dfs(root,r,c)\n",
    "        return res\n",
    "\n",
    "    def bfs(self,node:TreeNode,level:int=0):\n",
    "        if node:\n",
    "            yield node,level\n",
    "            yield from self.bfs(node=node.left,level=level+1)\n",
    "            yield from self.bfs(node=node.right,level=level+1)"
   ]
  },
  {
   "cell_type": "code",
   "execution_count": 27,
   "metadata": {},
   "outputs": [
    {
     "name": "stdout",
     "output_type": "stream",
     "text": [
      "0 3.0\n",
      "1 1.0\n",
      "2 2.0\n",
      "1 5.0\n",
      "[['', '', '', '1', '', '', ''], ['', '2', '', '', '', '3', ''], ['', '', '4', '', '', '', '']]\n",
      "0 1.0\n",
      "1 0.0\n",
      "[['', '1', ''], ['2', '', '']]\n"
     ]
    }
   ],
   "source": [
    "if __name__ == \"__main__\":\n",
    "    s = Solution()\n",
    "\n",
    "    \n",
    "    assert s.printTree(TreeNode(1,TreeNode(2,None,TreeNode(4)),TreeNode(3))) == [[\"\",\"\",\"\",\"1\",\"\",\"\",\"\"],[\"\",\"2\",\"\",\"\",\"\",\"3\",\"\"],[\"\",\"\",\"4\",\"\",\"\",\"\",\"\"]]\n",
    "    assert s.printTree(TreeNode(1,TreeNode(2))) == [[\"\",\"1\",\"\"],[\"2\",\"\",\"\"]]"
   ]
  }
 ],
 "metadata": {
  "kernelspec": {
   "display_name": "Python 3.10.4 ('.venv': venv)",
   "language": "python",
   "name": "python3"
  },
  "language_info": {
   "codemirror_mode": {
    "name": "ipython",
    "version": 3
   },
   "file_extension": ".py",
   "mimetype": "text/x-python",
   "name": "python",
   "nbconvert_exporter": "python",
   "pygments_lexer": "ipython3",
   "version": "3.10.4"
  },
  "orig_nbformat": 4,
  "vscode": {
   "interpreter": {
    "hash": "f3897d38dc41ff7c1eec30275d3ba6d8e8caf81732cedae805b00463b87ecdf6"
   }
  }
 },
 "nbformat": 4,
 "nbformat_minor": 2
}
