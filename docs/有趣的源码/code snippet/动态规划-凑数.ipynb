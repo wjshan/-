{
 "cells": [
  {
   "cell_type": "markdown",
   "metadata": {
    "pycharm": {
     "name": "#%% md\n"
    }
   },
   "source": [
    "---\n",
    "title: 动态规划-凑数\n",
    "---\n",
    "# 动态规划中的凑数问题\n",
    "\n",
    "## 概述\n",
    "此类问题般是给定一个数组,你需要将数组中的**一个或多个**元素组合相加,使得最终结果为`nT`,其中`T`为给定的周期数据.\n",
    "\n",
    "数组中的每个元素都要使用一次.\n",
    "\n",
    "## 思路\n",
    "此类问题的方法一般有两种,一种为回溯,另一种是动态规划.回溯算法的时间复杂度一般都远高于动态规划.\n",
    "\n",
    "因此在此我们重点讲动态规划,回溯算法只简略带过.\n",
    "\n",
    "参考实际问题\n",
    "1. [473. 火柴拼正方形](https://leetcode.cn/problems/matchsticks-to-square/){:target=\"_blank\"} [题解]($$473. 火柴拼正方形.ipynb)"
   ]
  },
  {
   "cell_type": "code",
   "execution_count": null,
   "metadata": {
    "pycharm": {
     "name": "#%%\n"
    }
   },
   "outputs": [],
   "source": []
  }
 ],
 "metadata": {
  "language_info": {
   "name": "python"
  },
  "orig_nbformat": 4
 },
 "nbformat": 4,
 "nbformat_minor": 2
}