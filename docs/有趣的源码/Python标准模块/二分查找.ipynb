{
 "cells": [
  {
   "cell_type": "markdown",
   "metadata": {},
   "source": [
    "# [二分查找(bisect)](https://docs.python.org/zh-cn/3.10/library/bisect.html){:target=\"_blank\"}\n",
    "`bisect`是Python3之后的标准库,其顾名思义,其使用二分法对有序数组进行操作.其源码也是很好的二分查抄算法示例.\n",
    "\n",
    "需要注意的是,其只能处理**升序**的序列"
   ]
  },
  {
   "cell_type": "markdown",
   "metadata": {},
   "source": [
    "## 使用方法"
   ]
  },
  {
   "cell_type": "code",
   "execution_count": 16,
   "metadata": {},
   "outputs": [
    {
     "name": "stdout",
     "output_type": "stream",
     "text": [
      "index of 5 in [1, 2, 3, 10, 11, 12, 13] is: 3\n",
      "after insert 5 the asc list is:[1, 2, 3, 5, 10, 11, 12, 13]\n",
      "index of 6 in [13, 12, 11, 10, 5, 3, 2, 1] is: 8\n",
      "after insert 6 the desc list is:[13, 12, 11, 10, 5, 3, 2, 1, 6]\n"
     ]
    }
   ],
   "source": [
    "import bisect\n",
    "# 对升序序列操作\n",
    "asc_list = [1,2,3,10,11,12,13]\n",
    "index_5 = bisect.bisect(asc_list,5)\n",
    "print(f\"index of 5 in {asc_list} is: {index_5}\")\n",
    "bisect.insort(asc_list,5)\n",
    "print(f\"after insert 5 the asc list is:{asc_list}\")\n",
    "\n",
    "# 对降序序列操作,这个会导致错误的结果 其结果不可控,根据 list[(0+len(n))//2]的值\n",
    "# 当其值小于查询值时返回len(n),大于时返回`0`\n",
    "desc_list = [13, 12, 11, 10, 5, 3, 2, 1]\n",
    "index_6 = bisect.bisect(desc_list,6)\n",
    "print(f\"index of 6 in {desc_list} is: {index_6}\")\n",
    "bisect.insort(desc_list,6)\n",
    "print(f\"after insert 6 the desc list is:{desc_list}\")"
   ]
  },
  {
   "cell_type": "markdown",
   "metadata": {},
   "source": [
    "除了`bisect.insort`于`bisect.bisect`外,其还有:\n",
    "\n",
    "- `bisect.bisect_left` 返回符合的插入点`a` 使得`a`左侧的所有节点小于`val`,`a`右侧的所有节点大于等于`val`\n",
    "- `bisect.bisect_right` 与`bisect.bisect`相同,返回符合的插入点`a` 使得`a`左侧的所有节点小于等于`val`,`a`右侧的所有节点大于`val`\n",
    "- `bisect.insort_left` 会首先运行`bisect.bisect_left` 然后在返回的插入点插入数据`val`\n",
    "- `bisect.insort_right` 会首先运行`bisect.bisect_right` 然后在返回的插入点插入数据`val`\n"
   ]
  }
 ],
 "metadata": {
  "interpreter": {
   "hash": "f3897d38dc41ff7c1eec30275d3ba6d8e8caf81732cedae805b00463b87ecdf6"
  },
  "kernelspec": {
   "display_name": "Python 3.10.4 ('.venv': venv)",
   "language": "python",
   "name": "python3"
  },
  "language_info": {
   "codemirror_mode": {
    "name": "ipython",
    "version": 3
   },
   "file_extension": ".py",
   "mimetype": "text/x-python",
   "name": "python",
   "nbconvert_exporter": "python",
   "pygments_lexer": "ipython3",
   "version": "3.10.4"
  },
  "orig_nbformat": 4
 },
 "nbformat": 4,
 "nbformat_minor": 2
}
