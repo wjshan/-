{
 "cells": [
  {
   "cell_type": "markdown",
   "metadata": {},
   "source": [
    "---\n",
    "title: 背包问题\n",
    "---\n",
    "# 背包问题\n",
    "## 介绍\n",
    "背包问题的标准形式为,有一个容量为`Sum`的背包,现在给你`N`个物体.每个物体只有一个,且第`i`个物品的重量为`nums[i]`.请问一共有多少种方法装满背包\n",
    "\n",
    "这类问题就是一种标准的动态规划问题.\n",
    "\n",
    "## 解决步骤\n",
    "\n",
    "第一步需要明确**状态**和**选择**\n",
    "\n",
    "对于背包问题来说,状态就是背包的容量,和可以选择的物品,而选择就是是否放入背包.\n",
    "\n",
    "第二步明确`dp`数组的定义\n",
    "\n",
    "按照背包问题的套路,`dp`数组中`dp[i][j]=k`,其定义为,在前`i`个物品中,想要使物品总和为`j`,一共有`k`中方法.\n",
    "\n",
    "由此"
   ]
  },
  {
   "cell_type": "code",
   "execution_count": null,
   "metadata": {},
   "outputs": [],
   "source": []
  }
 ],
 "metadata": {
  "language_info": {
   "name": "python"
  },
  "orig_nbformat": 4
 },
 "nbformat": 4,
 "nbformat_minor": 2
}
